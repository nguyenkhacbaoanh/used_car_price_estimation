{
 "cells": [
  {
   "cell_type": "code",
   "execution_count": 1,
   "metadata": {},
   "outputs": [],
   "source": [
    "import requests as rq\n",
    "from bs4 import BeautifulSoup as bs\n",
    "import csv"
   ]
  },
  {
   "cell_type": "code",
   "execution_count": 2,
   "metadata": {},
   "outputs": [],
   "source": [
    "import time\n",
    "import random"
   ]
  },
  {
   "cell_type": "code",
   "execution_count": 3,
   "metadata": {},
   "outputs": [],
   "source": [
    "def random_sleep():\n",
    "    time.sleep(random.randint(2, 4))"
   ]
  },
  {
   "cell_type": "code",
   "execution_count": null,
   "metadata": {},
   "outputs": [],
   "source": [
    "def read_page(): #creation d'un generateur\n",
    "    i = 1\n",
    "    while True:\n",
    "        \n",
    "        r = rq.get('https://www.autoplus.fr/prix-neuf/?page='+str(i)+'#advanced-filters') # recup du contenu\n",
    "        \n",
    "        random_sleep() # pause entre 2, 4 secs\n",
    "        \n",
    "        soup = bs(r.content, 'html.parser') # conversion du text brute en bs4 plus facile a parser\n",
    "        trs = soup.table.tbody.find_all('tr') # recup des trs du tableau en html\n",
    "        for tr in trs: # dans chaque tr il y a des tds\n",
    "            values = [x.get_text(strip=True).replace('\\xa0', '') for x in tr.find_all('td')] # extraction des infos depuis les tds\n",
    "            row = dict(zip(KEYS, values)) # convertir les resultat extrait d'une liste vers un dictionaire\n",
    "            yield row # Retoune un dictionaire\n",
    "        i = i + 1\n",
    "        print(i, end='\\r')\n",
    "        if soup.find(class_='main-pagination').find('li', class_='arrow right disabled') is not None:\n",
    "            break # si il n y a plus de page suivante on arrete le programme"
   ]
  },
  {
   "cell_type": "code",
   "execution_count": null,
   "metadata": {},
   "outputs": [],
   "source": [
    "# Creation d'un csv vierge\n",
    "KEYS = ['name', 'version', 'energy', 'transmission', 'tax_horsepower', 'date_entry', 'bonus/malus', 'starting_price']\n",
    "with open('cars_price.csv', 'w', newline='') as csvfile:\n",
    "    writer = csv.DictWriter(csvfile, fieldnames=KEYS)\n",
    "    writer.writeheader()"
   ]
  },
  {
   "cell_type": "code",
   "execution_count": null,
   "metadata": {},
   "outputs": [],
   "source": [
    "# Initialisation du generateur\n",
    "scraper = read_page()"
   ]
  },
  {
   "cell_type": "code",
   "execution_count": null,
   "metadata": {},
   "outputs": [],
   "source": [
    "for row in scraper:\n",
    "    # chaque row est un dictionaire qu'on va ecrire dans une nouvelle ligne de notre csv\n",
    "    # ceci permet de ne pas saturé la ram en ecrivant chaque nouvelle ligne en physique et passé la ligne suivante\n",
    "    with open('cars_price.csv', 'a', newline='') as csvfile:\n",
    "        writer = csv.DictWriter(csvfile, fieldnames=KEYS)\n",
    "        writer.writerow(row)"
   ]
  }
 ],
 "metadata": {
  "kernelspec": {
   "display_name": "Python 3",
   "language": "python",
   "name": "python3"
  },
  "language_info": {
   "codemirror_mode": {
    "name": "ipython",
    "version": 3
   },
   "file_extension": ".py",
   "mimetype": "text/x-python",
   "name": "python",
   "nbconvert_exporter": "python",
   "pygments_lexer": "ipython3",
   "version": "3.8.2"
  }
 },
 "nbformat": 4,
 "nbformat_minor": 4
}
