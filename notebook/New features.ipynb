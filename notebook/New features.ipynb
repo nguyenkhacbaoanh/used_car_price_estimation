{
 "cells": [
  {
   "cell_type": "code",
   "execution_count": 1,
   "metadata": {},
   "outputs": [],
   "source": [
    "import warnings\n",
    "warnings.filterwarnings('ignore')\n",
    "\n",
    "import matplotlib.pyplot as plt\n",
    "import matplotlib\n",
    "\n",
    "import seaborn as sns\n",
    "\n",
    "import pandas as pd\n",
    "import numpy as np\n",
    "import os\n",
    "\n",
    "%matplotlib inline"
   ]
  },
  {
   "cell_type": "code",
   "execution_count": 2,
   "metadata": {},
   "outputs": [],
   "source": [
    "NOTEBOOK_DIR = os.getcwd()\n",
    "BASE_DIR = os.path.dirname(NOTEBOOK_DIR)\n",
    "DATA_DIR = os.path.join(BASE_DIR, \"data\")\n",
    "DATA_DIR_PATH = os.path.join(DATA_DIR, \"init_price_cleaned.csv\")\n",
    "DATA_ZIP_DIR_PATH = os.path.join(DATA_DIR, \"init_price_cleaned.csv.zip\")"
   ]
  },
  {
   "cell_type": "code",
   "execution_count": 50,
   "metadata": {},
   "outputs": [
    {
     "data": {
      "text/html": [
       "<div>\n",
       "<style scoped>\n",
       "    .dataframe tbody tr th:only-of-type {\n",
       "        vertical-align: middle;\n",
       "    }\n",
       "\n",
       "    .dataframe tbody tr th {\n",
       "        vertical-align: top;\n",
       "    }\n",
       "\n",
       "    .dataframe thead th {\n",
       "        text-align: right;\n",
       "    }\n",
       "</style>\n",
       "<table border=\"1\" class=\"dataframe\">\n",
       "  <thead>\n",
       "    <tr style=\"text-align: right;\">\n",
       "      <th></th>\n",
       "      <th>Price</th>\n",
       "      <th>Make</th>\n",
       "      <th>Model</th>\n",
       "      <th>Model_year</th>\n",
       "      <th>Mileage</th>\n",
       "      <th>Fuel</th>\n",
       "      <th>Gearbox</th>\n",
       "      <th>Online</th>\n",
       "      <th>version</th>\n",
       "      <th>spuissance_fiscale</th>\n",
       "      <th>portes</th>\n",
       "      <th>options</th>\n",
       "      <th>couleur</th>\n",
       "      <th>starting_price</th>\n",
       "      <th>bonus_malus</th>\n",
       "      <th>puiss_scrap</th>\n",
       "      <th>portes_scrap</th>\n",
       "      <th>Price/Starting Price</th>\n",
       "    </tr>\n",
       "  </thead>\n",
       "  <tbody>\n",
       "    <tr>\n",
       "      <th>0</th>\n",
       "      <td>11220.0</td>\n",
       "      <td>peugeot</td>\n",
       "      <td>308</td>\n",
       "      <td>2014</td>\n",
       "      <td>94341.0 km</td>\n",
       "      <td>Diesel</td>\n",
       "      <td>mécanique</td>\n",
       "      <td>06/07/2018 à 3h47</td>\n",
       "      <td>1.6 hdi fap 92ch business 5p</td>\n",
       "      <td>4</td>\n",
       "      <td>5.0</td>\n",
       "      <td>banquette arrière 3 places;volant cuir;cache b...</td>\n",
       "      <td>blanc banquise</td>\n",
       "      <td>25050.0</td>\n",
       "      <td>0.0</td>\n",
       "      <td>5.0</td>\n",
       "      <td>5</td>\n",
       "      <td>0</td>\n",
       "    </tr>\n",
       "    <tr>\n",
       "      <th>1</th>\n",
       "      <td>2830.0</td>\n",
       "      <td>ford</td>\n",
       "      <td>ka</td>\n",
       "      <td>2007</td>\n",
       "      <td>92282.0 km</td>\n",
       "      <td>Essence</td>\n",
       "      <td>mécanique</td>\n",
       "      <td>09/07/2018 à 14h12</td>\n",
       "      <td>1.3 70 fun</td>\n",
       "      <td>5</td>\n",
       "      <td>3.0</td>\n",
       "      <td>direction assistée;jantes alu;rétroviseurs éle...</td>\n",
       "      <td>jaune</td>\n",
       "      <td>12150.0</td>\n",
       "      <td>150.0</td>\n",
       "      <td>5.0</td>\n",
       "      <td>5</td>\n",
       "      <td>0</td>\n",
       "    </tr>\n",
       "    <tr>\n",
       "      <th>2</th>\n",
       "      <td>12925.0</td>\n",
       "      <td>fiat</td>\n",
       "      <td>tipo</td>\n",
       "      <td>2018</td>\n",
       "      <td>10.0 km</td>\n",
       "      <td>Essence</td>\n",
       "      <td>mécanique</td>\n",
       "      <td>19/05/2018 à 3h52</td>\n",
       "      <td>ii sw 1.4 95 pop</td>\n",
       "      <td>5</td>\n",
       "      <td>5.0</td>\n",
       "      <td>Volant alu &amp; cuir;Bluetooth inclut musique en ...</td>\n",
       "      <td>blanc verni</td>\n",
       "      <td>14990.0</td>\n",
       "      <td>740.0</td>\n",
       "      <td>5.0</td>\n",
       "      <td>4</td>\n",
       "      <td>0</td>\n",
       "    </tr>\n",
       "    <tr>\n",
       "      <th>3</th>\n",
       "      <td>27956.0</td>\n",
       "      <td>bmw</td>\n",
       "      <td>x3</td>\n",
       "      <td>2012</td>\n",
       "      <td>95623.0 km</td>\n",
       "      <td>Diesel</td>\n",
       "      <td>automatique</td>\n",
       "      <td>14/03/2018 à 4h24</td>\n",
       "      <td>(f25) xdrive35d 313 sport design bva8</td>\n",
       "      <td>20</td>\n",
       "      <td>5.0</td>\n",
       "      <td>vitrage calorifuge;triangle de presignalisatio...</td>\n",
       "      <td>saphirschwarz metal</td>\n",
       "      <td>NaN</td>\n",
       "      <td>NaN</td>\n",
       "      <td>NaN</td>\n",
       "      <td>NaN</td>\n",
       "      <td>0</td>\n",
       "    </tr>\n",
       "    <tr>\n",
       "      <th>4</th>\n",
       "      <td>16888.0</td>\n",
       "      <td>audi</td>\n",
       "      <td>a3</td>\n",
       "      <td>2013</td>\n",
       "      <td>49018.0 km</td>\n",
       "      <td>Diesel</td>\n",
       "      <td>mécanique</td>\n",
       "      <td>16/04/2018 à 21h35</td>\n",
       "      <td>ii (2) sportback 2.0 tdi 140 7cv ambition luxe...</td>\n",
       "      <td>7</td>\n",
       "      <td>5.0</td>\n",
       "      <td>\"anti démarrage;radar de recul;prises audio au...</td>\n",
       "      <td>gris clair metal</td>\n",
       "      <td>45070.0</td>\n",
       "      <td>740.0</td>\n",
       "      <td>10.0</td>\n",
       "      <td>5</td>\n",
       "      <td>0</td>\n",
       "    </tr>\n",
       "  </tbody>\n",
       "</table>\n",
       "</div>"
      ],
      "text/plain": [
       "     Price     Make Model  Model_year     Mileage     Fuel      Gearbox  \\\n",
       "0  11220.0  peugeot   308        2014  94341.0 km   Diesel    mécanique   \n",
       "1   2830.0     ford    ka        2007  92282.0 km  Essence    mécanique   \n",
       "2  12925.0     fiat  tipo        2018     10.0 km  Essence    mécanique   \n",
       "3  27956.0      bmw    x3        2012  95623.0 km   Diesel  automatique   \n",
       "4  16888.0     audi    a3        2013  49018.0 km   Diesel    mécanique   \n",
       "\n",
       "               Online                                            version  \\\n",
       "0   06/07/2018 à 3h47                       1.6 hdi fap 92ch business 5p   \n",
       "1  09/07/2018 à 14h12                                         1.3 70 fun   \n",
       "2   19/05/2018 à 3h52                                   ii sw 1.4 95 pop   \n",
       "3   14/03/2018 à 4h24              (f25) xdrive35d 313 sport design bva8   \n",
       "4  16/04/2018 à 21h35  ii (2) sportback 2.0 tdi 140 7cv ambition luxe...   \n",
       "\n",
       "   spuissance_fiscale  portes  \\\n",
       "0                   4     5.0   \n",
       "1                   5     3.0   \n",
       "2                   5     5.0   \n",
       "3                  20     5.0   \n",
       "4                   7     5.0   \n",
       "\n",
       "                                             options              couleur  \\\n",
       "0  banquette arrière 3 places;volant cuir;cache b...       blanc banquise   \n",
       "1  direction assistée;jantes alu;rétroviseurs éle...                jaune   \n",
       "2  Volant alu & cuir;Bluetooth inclut musique en ...          blanc verni   \n",
       "3  vitrage calorifuge;triangle de presignalisatio...  saphirschwarz metal   \n",
       "4  \"anti démarrage;radar de recul;prises audio au...     gris clair metal   \n",
       "\n",
       "   starting_price  bonus_malus  puiss_scrap portes_scrap  Price/Starting Price  \n",
       "0         25050.0          0.0          5.0            5                     0  \n",
       "1         12150.0        150.0          5.0            5                     0  \n",
       "2         14990.0        740.0          5.0            4                     0  \n",
       "3             NaN          NaN          NaN          NaN                     0  \n",
       "4         45070.0        740.0         10.0            5                     0  "
      ]
     },
     "execution_count": 50,
     "metadata": {},
     "output_type": "execute_result"
    }
   ],
   "source": [
    "if not os.path.exists(DATA_DIR_PATH):\n",
    "    !unzip \"${DATA_ZIP_DIR_PATH}\"\n",
    "\n",
    "data_car = pd.read_csv(DATA_DIR_PATH)\n",
    "\n",
    "data_car.head()"
   ]
  },
  {
   "cell_type": "markdown",
   "metadata": {},
   "source": [
    "## Bonus Malus vs Price"
   ]
  },
  {
   "cell_type": "code",
   "execution_count": 31,
   "metadata": {
    "scrolled": true
   },
   "outputs": [
    {
     "data": {
      "text/plain": [
       "<matplotlib.axes._subplots.AxesSubplot at 0x1a25c6f630>"
      ]
     },
     "execution_count": 31,
     "metadata": {},
     "output_type": "execute_result"
    },
    {
     "data": {
      "image/png": "[encoded data removed]",
      "text/plain": [
       "<Figure size 1152x576 with 1 Axes>"
      ]
     },
     "metadata": {
      "needs_background": "light"
     },
     "output_type": "display_data"
    }
   ],
   "source": [
    "data_car.groupby(\"bonus_malus\")[\"Price\"].agg(\"mean\").plot(kind=\"bar\", figsize=(16,8))"
   ]
  },
  {
   "cell_type": "code",
   "execution_count": 44,
   "metadata": {},
   "outputs": [
    {
     "data": {
      "text/plain": [
       "<matplotlib.axes._subplots.AxesSubplot at 0x1a26587d68>"
      ]
     },
     "execution_count": 44,
     "metadata": {},
     "output_type": "execute_result"
    },
    {
     "data": {
      "image/png": "[encoded data removed]",
      "text/plain": [
       "<Figure size 1152x576 with 1 Axes>"
      ]
     },
     "metadata": {
      "needs_background": "light"
     },
     "output_type": "display_data"
    }
   ],
   "source": [
    "# voiture audi\n",
    "data_car[data_car[\"Make\"] == 'audi']\\\n",
    "    .groupby(\"bonus_malus\")[\"Price\"]\\\n",
    "    .agg(\"mean\")\\\n",
    "    .plot(kind=\"bar\", figsize=(16,8))"
   ]
  },
  {
   "cell_type": "code",
   "execution_count": 43,
   "metadata": {},
   "outputs": [
    {
     "data": {
      "text/plain": [
       "<matplotlib.axes._subplots.AxesSubplot at 0x1a26337550>"
      ]
     },
     "execution_count": 43,
     "metadata": {},
     "output_type": "execute_result"
    },
    {
     "data": {
      "image/png": "[encoded data removed]",
      "text/plain": [
       "<Figure size 1152x576 with 1 Axes>"
      ]
     },
     "metadata": {
      "needs_background": "light"
     },
     "output_type": "display_data"
    }
   ],
   "source": [
    "# Voiture audi et model a4\n",
    "data_car[(data_car[\"Make\"] == 'audi') & (data_car[\"Model\"] == 'a4')]\\\n",
    "    .groupby(\"bonus_malus\")[\"Price\"]\\\n",
    "    .agg(\"mean\")\\\n",
    "    .plot(kind=\"bar\", figsize=(16,8))"
   ]
  },
  {
   "cell_type": "code",
   "execution_count": 57,
   "metadata": {},
   "outputs": [
    {
     "data": {
      "text/plain": [
       "<matplotlib.axes._subplots.AxesSubplot at 0x11b89f470>"
      ]
     },
     "execution_count": 57,
     "metadata": {},
     "output_type": "execute_result"
    },
    {
     "data": {
      "image/png": "[encoded data removed]",
      "text/plain": [
       "<Figure size 1152x576 with 1 Axes>"
      ]
     },
     "metadata": {
      "needs_background": "light"
     },
     "output_type": "display_data"
    }
   ],
   "source": [
    "data_car[(data_car[\"Make\"] == 'audi') & (data_car[\"Model\"] == 'a4')]\\\n",
    "    .groupby([\"Model_year\", \"bonus_malus\"])\\\n",
    "    .agg(\"mean\")[\"Price\"].unstack().plot(kind='bar', figsize=(16,8))"
   ]
  },
  {
   "cell_type": "code",
   "execution_count": 56,
   "metadata": {},
   "outputs": [
    {
     "data": {
      "text/plain": [
       "<matplotlib.axes._subplots.AxesSubplot at 0x1a2a757080>"
      ]
     },
     "execution_count": 56,
     "metadata": {},
     "output_type": "execute_result"
    },
    {
     "data": {
      "image/png": "[encoded data removed]",
      "text/plain": [
       "<Figure size 1152x576 with 1 Axes>"
      ]
     },
     "metadata": {
      "needs_background": "light"
     },
     "output_type": "display_data"
    }
   ],
   "source": [
    "data_car[(data_car[\"Make\"] == 'audi') & (data_car[\"Model\"] == 'a4')]\\\n",
    "    .groupby([\"bonus_malus\", \"Model_year\"])[\"Price\"]\\\n",
    "    .agg(\"mean\").unstack().plot(kind='bar',figsize=(16,8))"
   ]
  },
  {
   "cell_type": "code",
   "execution_count": 55,
   "metadata": {},
   "outputs": [
    {
     "data": {
      "text/plain": [
       "<matplotlib.axes._subplots.AxesSubplot at 0x1a29559e48>"
      ]
     },
     "execution_count": 55,
     "metadata": {},
     "output_type": "execute_result"
    },
    {
     "data": {
      "image/png": "[encoded data removed]",
      "text/plain": [
       "<Figure size 1152x576 with 1 Axes>"
      ]
     },
     "metadata": {
      "needs_background": "light"
     },
     "output_type": "display_data"
    }
   ],
   "source": [
    "data_car[(data_car[\"Make\"] == 'audi') & (data_car[\"Model\"] == 'a4')]\\\n",
    "    .groupby([\"bonus_malus\", \"Model_year\"])[\"starting_price\"]\\\n",
    "    .agg(\"mean\").unstack().plot(kind='bar',figsize=(16,8))"
   ]
  },
  {
   "cell_type": "code",
   "execution_count": 19,
   "metadata": {},
   "outputs": [
    {
     "data": {
      "text/plain": [
       "array([    0.,   150.,   740.,    nan,   400.,   170.,   330.,   280.,\n",
       "         540.,   230.,   100.,   260.,   450.,   360.,   310.,   983.,\n",
       "         240.,  1761.,   125.,  1074.,  2205.,   650.,   818.,  3119.,\n",
       "          50.,  2726.,   210.,   190., 19641.,  1172.,  2370., -6000.,\n",
       "          75., 20000.,   898.,  4543.,  2049.,  1901.,  3331., 16149.,\n",
       "        1276.,  1504.,  1629., 10011.,  5715.,  8671.,  2544.,  4279.,\n",
       "        7462., 10488.,  4818.,  4026.,  1386.,  6039.,  6375.,  7086.,\n",
       "        2918.,  3552.,  9103.,  3784., 11488., 14881.,  9550., 18905.,\n",
       "       17490.,  5105.,  8254., 12552.,  5404.,  7851., 14273., -3000.,\n",
       "       16810.,  6724.])"
      ]
     },
     "execution_count": 19,
     "metadata": {},
     "output_type": "execute_result"
    }
   ],
   "source": [
    "data_car[\"bonus_malus\"].unique()"
   ]
  },
  {
   "cell_type": "markdown",
   "metadata": {},
   "source": [
    "## Spuisance + portes vs scrapping"
   ]
  },
  {
   "cell_type": "code",
   "execution_count": 4,
   "metadata": {},
   "outputs": [
    {
     "data": {
      "text/plain": [
       "1106"
      ]
     },
     "execution_count": 4,
     "metadata": {},
     "output_type": "execute_result"
    }
   ],
   "source": [
    "data_car[\"portes\"].isnull().sum()"
   ]
  },
  {
   "cell_type": "code",
   "execution_count": 52,
   "metadata": {},
   "outputs": [],
   "source": [
    "# changer data type: str + float mixture => int => str\n",
    "data_car[\"portes\"][data_car[\"portes\"].notnull()] = data_car[\"portes\"][data_car[\"portes\"].notnull()].astype(int, inplace=True).astype(str, inplace=True)"
   ]
  },
  {
   "cell_type": "code",
   "execution_count": 53,
   "metadata": {},
   "outputs": [],
   "source": [
    "data_car[\"portes\"] = np.where(\n",
    "    ((data_car[\"portes\"].isnull()) | (data_car[\"portes\"] == '0') | (data_car[\"portes\"] == '6')) \\\n",
    "         & (data_car[\"portes_scrap\"].notnull()),\n",
    "    data_car[\"portes_scrap\"],\n",
    "    data_car[\"portes\"]\n",
    ")"
   ]
  },
  {
   "cell_type": "code",
   "execution_count": 54,
   "metadata": {},
   "outputs": [
    {
     "data": {
      "text/plain": [
       "480"
      ]
     },
     "execution_count": 54,
     "metadata": {},
     "output_type": "execute_result"
    }
   ],
   "source": [
    "data_car[\"portes\"].isnull().sum()"
   ]
  },
  {
   "cell_type": "code",
   "execution_count": 9,
   "metadata": {},
   "outputs": [
    {
     "data": {
      "text/plain": [
       "478"
      ]
     },
     "execution_count": 9,
     "metadata": {},
     "output_type": "execute_result"
    }
   ],
   "source": [
    "# missing value sur le champ de port\n",
    "1106 - 628"
   ]
  },
  {
   "cell_type": "code",
   "execution_count": 10,
   "metadata": {},
   "outputs": [
    {
     "data": {
      "text/plain": [
       "array(['5', '3', '2', '4', nan, 'Monospace', 'Tout-Terrain', '0',\n",
       "       'Fourgonnette', 'Coupé', 'Fourgon', '6', 'Combiné', 'Cabriolet',\n",
       "       'Break'], dtype=object)"
      ]
     },
     "execution_count": 10,
     "metadata": {},
     "output_type": "execute_result"
    }
   ],
   "source": [
    "data_car[\"portes\"].unique()"
   ]
  },
  {
   "cell_type": "markdown",
   "metadata": {},
   "source": [
    "## Init Price vs Price"
   ]
  },
  {
   "cell_type": "code",
   "execution_count": 11,
   "metadata": {},
   "outputs": [
    {
     "data": {
      "text/plain": [
       "38475"
      ]
     },
     "execution_count": 11,
     "metadata": {},
     "output_type": "execute_result"
    }
   ],
   "source": [
    "data_car[\"starting_price\"].isnull().sum()"
   ]
  },
  {
   "cell_type": "code",
   "execution_count": 75,
   "metadata": {},
   "outputs": [
    {
     "data": {
      "text/plain": [
       "<matplotlib.axes._subplots.AxesSubplot at 0x1a2af3f828>"
      ]
     },
     "execution_count": 75,
     "metadata": {},
     "output_type": "execute_result"
    },
    {
     "data": {
      "image/png": "[encoded data removed]",
      "text/plain": [
       "<Figure size 432x288 with 1 Axes>"
      ]
     },
     "metadata": {
      "needs_background": "light"
     },
     "output_type": "display_data"
    }
   ],
   "source": [
    "sns.lineplot(x ='starting_price', y ='Price', data = data_car)"
   ]
  },
  {
   "cell_type": "code",
   "execution_count": 76,
   "metadata": {},
   "outputs": [
    {
     "data": {
      "text/plain": [
       "<matplotlib.axes._subplots.AxesSubplot at 0x1a2820ce10>"
      ]
     },
     "execution_count": 76,
     "metadata": {},
     "output_type": "execute_result"
    },
    {
     "data": {
      "image/png": "[encoded data removed]",
      "text/plain": [
       "<Figure size 432x288 with 1 Axes>"
      ]
     },
     "metadata": {
      "needs_background": "light"
     },
     "output_type": "display_data"
    }
   ],
   "source": [
    "sns.regplot(x ='starting_price', y ='Price', data = data_car)"
   ]
  },
  {
   "cell_type": "code",
   "execution_count": 10,
   "metadata": {},
   "outputs": [],
   "source": [
    "# data_car.groupby([\"Make\", \"Model\", \"Model_year\"])[\"Price\", \"starting_price\"].agg(\"mean\")\n",
    "# data_car.groupby([\"Make\", \"Model\", \"Model_year\"])[\"starting_price\"].transform(lambda x: x.fillna(x.mean()))\n",
    "# data_car.groupby([\"Make\"])[\"starting_price\"].transform(lambda x: x.fillna(x.mean())).isnull().sum()"
   ]
  },
  {
   "cell_type": "code",
   "execution_count": 12,
   "metadata": {},
   "outputs": [
    {
     "name": "stderr",
     "output_type": "stream",
     "text": [
      "/Users/nguyenkhacbaoanh/anaconda3/lib/python3.6/site-packages/sklearn/ensemble/weight_boosting.py:29: DeprecationWarning: numpy.core.umath_tests is an internal NumPy module and should not be imported. It will be removed in a future NumPy release.\n",
      "  from numpy.core.umath_tests import inner1d\n"
     ]
    }
   ],
   "source": [
    "from datetime import datetime\n",
    "from sklearn.model_selection import train_test_split\n",
    "from sklearn.ensemble import RandomForestRegressor\n",
    "from sklearn.base import TransformerMixin, BaseEstimator\n",
    "from sklearn.pipeline import FeatureUnion, make_pipeline\n",
    "from sklearn_pandas import DataFrameMapper, CategoricalImputer\n",
    "from sklearn.preprocessing import Imputer\n",
    "import re\n",
    "from sklearn.linear_model import LinearRegression"
   ]
  },
  {
   "cell_type": "code",
   "execution_count": 96,
   "metadata": {},
   "outputs": [],
   "source": [
    "class DateOnlineEncoder(TransformerMixin):\n",
    "    def fit(self, X, y=None):\n",
    "        return self\n",
    "    def transform(self, X):\n",
    "        assert isinstance(X, pd.DataFrame)\n",
    "        d_t = [datetime.strptime(c[0], \"%d/%m/%Y à %Hh%M\") for c in X.values]\n",
    "        return np.array(d_t)\n",
    "    \n",
    "class AgeFeature(TransformerMixin):\n",
    "    def fit(self, X, y=None):\n",
    "        return self\n",
    "    def transform(self, X):\n",
    "        assert isinstance(X, pd.DataFrame)\n",
    "        #d_t = [datetime.strptime(c, \"%d/%m/%Y à %Hh%M\") for c in X.iloc[:,0].values]\n",
    "        age = [np.abs(a.year - b) for (a, b) in zip(X.iloc[:,0].values, X.iloc[:,1].values)]\n",
    "        return np.array(age)\n",
    "\n",
    "class MileageClean(TransformerMixin):\n",
    "    def fit(self, X, y=None):\n",
    "        return self\n",
    "    def transform(self, X):\n",
    "        #assert isinstance(X, pd.DataFrame)\n",
    "        return np.array([float(m[0].rstrip('km').strip()) for m in np.array(X.values).reshape(-1, 1)]).reshape(-1,1)\n",
    "    \n",
    "class DesciptionClean(TransformerMixin):\n",
    "    def fit(self, X, y=None):\n",
    "        return self\n",
    "    def transform(self, X):\n",
    "        assert isinstance(X, pd.DataFrame)\n",
    "        def parser():\n",
    "            regex_pattern = r\"modele:\\s*(?P<modele>.*?(?=,)),\\sversion:\\s*(?P<version>.*?(?=,)),\\spuissance_fiscale:\\s*(?P<puissance_fiscale>.*?(?=,)),\\sportes:\\s*(?P<portes>.*?(?=,)),\\soptions:\\s*(?P<Descriptions>.*?(?=,)),\\scouleur:\\s(?P<couleur>.*$)\"\n",
    "            regex_cyclindre = \"\\d+[\\.,]\\d+\"\n",
    "            regex_cv = \"\\s+\\d{1,3}\\s?\"\n",
    "            #version = []\n",
    "            #puissance_fiscale = []\n",
    "            #portes = []\n",
    "            #options = []\n",
    "            #couleur = []\n",
    "            for i in range(X.shape[0]):\n",
    "                match = re.search(regex_pattern, X.values[i][0])\n",
    "                version = match.group(2)\n",
    "                if str(version) == 'ii allurehdifap2.0150cv':\n",
    "                    version = 'ii allurehdifap 2.0 150cv'\n",
    "                version = re.sub(\"\\d+[\\.,]\\d+km\", \"\", version)\n",
    "                version = re.sub(\"(159.226|76.538|87.480|71.000)\", \"\", version)\n",
    "                cl = re.findall(regex_cyclindre, version)\n",
    "                version = re.sub(regex_cyclindre, \"\", version)\n",
    "                version = re.sub(\"\\d+p\", \"\", version)\n",
    "                cv = re.findall(regex_cv, version)\n",
    "                if len(cl) == 0:\n",
    "                    cl = np.nan\n",
    "                else:\n",
    "                    cl = float(cl[0].strip().replace(\",\", \".\"))\n",
    "                if len(cv) == 0:\n",
    "                    cv = np.nan\n",
    "                else:\n",
    "                    cv = int(float(cv[0].strip()))\n",
    "                #version.append(match.group(2))\n",
    "                #puissance_fiscale.append(match.group(3))\n",
    "                #portes.append(match.group(4))\n",
    "                #options.append(match.group(5))\n",
    "                #couleur.append(match.group(6))\n",
    "                yield [cl, cv, pd.to_numeric(match.group(3)), pd.to_numeric(match.group(4)), str(match.group(6)).lower()]\n",
    "\n",
    "        return pd.DataFrame.from_records(list(parser()))\n",
    "\n",
    "    \n",
    "class LinearRegressorImputer(TransformerMixin):\n",
    "    def fit(self, X, y=None):\n",
    "        return self\n",
    "    def transform(self, X):\n",
    "        #X.iloc[:,0].values, X.iloc[:,1].values\n",
    "        assert isinstance(X, pd.DataFrame)\n",
    "        missing_data_price = X.loc[X.iloc[:,0].isnull().values, \"Price\"].values.reshape(-1,1)\n",
    "        missing_data_index = [i[0] for i in X.loc[X.iloc[:,0].isnull().values, \"Price\"].index.values.reshape(-1,1)]\n",
    "        dt = X.loc[X.iloc[:,0].notnull(), :]\n",
    "        m = LinearRegression()\n",
    "        m.fit(X = dt.iloc[:,1].values.reshape(-1,1), y = dt.iloc[:, 0].values.reshape(-1,1))\n",
    "        missing_data_pred = m.predict(missing_data_price)\n",
    "        \n",
    "        X.iloc[missing_data_index, 0] = missing_data_pred.reshape(1, -1)[0]\n",
    "        return X.iloc[:,0].values\n",
    "\n",
    "class CategoryType(TransformerMixin):\n",
    "    def fit(self, X, y=None):\n",
    "        return self\n",
    "\n",
    "    def transform(self, X):\n",
    "        #assert isinstance(X, pd.DataFrame)\n",
    "        return X.astype(\"object\")\n",
    "\n",
    "class TypeSelector(BaseEstimator, TransformerMixin):\n",
    "    def __init__(self, dtype):\n",
    "        self.dtype = dtype\n",
    "\n",
    "    def fit(self, X, y=None):\n",
    "        return self\n",
    "\n",
    "    def transform(self, X):\n",
    "        assert isinstance(X, pd.DataFrame)\n",
    "        return X.select_dtypes(include=[self.dtype])"
   ]
  },
  {
   "cell_type": "code",
   "execution_count": 56,
   "metadata": {},
   "outputs": [
    {
     "data": {
      "text/html": [
       "<div>\n",
       "<style scoped>\n",
       "    .dataframe tbody tr th:only-of-type {\n",
       "        vertical-align: middle;\n",
       "    }\n",
       "\n",
       "    .dataframe tbody tr th {\n",
       "        vertical-align: top;\n",
       "    }\n",
       "\n",
       "    .dataframe thead th {\n",
       "        text-align: right;\n",
       "    }\n",
       "</style>\n",
       "<table border=\"1\" class=\"dataframe\">\n",
       "  <thead>\n",
       "    <tr style=\"text-align: right;\">\n",
       "      <th></th>\n",
       "      <th>Online</th>\n",
       "      <th>Make</th>\n",
       "      <th>Model</th>\n",
       "      <th>Model_year</th>\n",
       "      <th>Mileage</th>\n",
       "      <th>Fuel</th>\n",
       "      <th>Gearbox</th>\n",
       "      <th>Price</th>\n",
       "      <th>version</th>\n",
       "      <th>spuissance_fiscale</th>\n",
       "      <th>portes</th>\n",
       "      <th>options</th>\n",
       "      <th>couleur</th>\n",
       "      <th>starting_price</th>\n",
       "      <th>bonus_malus</th>\n",
       "      <th>puiss_scrap</th>\n",
       "      <th>portes_scrap</th>\n",
       "      <th>Price/Starting Price</th>\n",
       "    </tr>\n",
       "  </thead>\n",
       "  <tbody>\n",
       "    <tr>\n",
       "      <th>0</th>\n",
       "      <td>2018-07-06 03:47:00</td>\n",
       "      <td>peugeot</td>\n",
       "      <td>308</td>\n",
       "      <td>2014</td>\n",
       "      <td>94341.0</td>\n",
       "      <td>Diesel</td>\n",
       "      <td>mécanique</td>\n",
       "      <td>11220.0</td>\n",
       "      <td>1.6 hdi fap 92ch business 5p</td>\n",
       "      <td>4</td>\n",
       "      <td>5</td>\n",
       "      <td>banquette arrière 3 places;volant cuir;cache b...</td>\n",
       "      <td>blanc banquise</td>\n",
       "      <td>25050.0</td>\n",
       "      <td>0.0</td>\n",
       "      <td>5.0</td>\n",
       "      <td>5</td>\n",
       "      <td>0</td>\n",
       "    </tr>\n",
       "    <tr>\n",
       "      <th>1</th>\n",
       "      <td>2018-07-09 14:12:00</td>\n",
       "      <td>ford</td>\n",
       "      <td>ka</td>\n",
       "      <td>2007</td>\n",
       "      <td>92282.0</td>\n",
       "      <td>Essence</td>\n",
       "      <td>mécanique</td>\n",
       "      <td>2830.0</td>\n",
       "      <td>1.3 70 fun</td>\n",
       "      <td>5</td>\n",
       "      <td>3</td>\n",
       "      <td>direction assistée;jantes alu;rétroviseurs éle...</td>\n",
       "      <td>jaune</td>\n",
       "      <td>12150.0</td>\n",
       "      <td>150.0</td>\n",
       "      <td>5.0</td>\n",
       "      <td>5</td>\n",
       "      <td>0</td>\n",
       "    </tr>\n",
       "    <tr>\n",
       "      <th>2</th>\n",
       "      <td>2018-05-19 03:52:00</td>\n",
       "      <td>fiat</td>\n",
       "      <td>tipo</td>\n",
       "      <td>2018</td>\n",
       "      <td>10.0</td>\n",
       "      <td>Essence</td>\n",
       "      <td>mécanique</td>\n",
       "      <td>12925.0</td>\n",
       "      <td>ii sw 1.4 95 pop</td>\n",
       "      <td>5</td>\n",
       "      <td>5</td>\n",
       "      <td>Volant alu &amp; cuir;Bluetooth inclut musique en ...</td>\n",
       "      <td>blanc verni</td>\n",
       "      <td>14990.0</td>\n",
       "      <td>740.0</td>\n",
       "      <td>5.0</td>\n",
       "      <td>4</td>\n",
       "      <td>0</td>\n",
       "    </tr>\n",
       "    <tr>\n",
       "      <th>3</th>\n",
       "      <td>2018-03-14 04:24:00</td>\n",
       "      <td>bmw</td>\n",
       "      <td>x3</td>\n",
       "      <td>2012</td>\n",
       "      <td>95623.0</td>\n",
       "      <td>Diesel</td>\n",
       "      <td>automatique</td>\n",
       "      <td>27956.0</td>\n",
       "      <td>(f25) xdrive35d 313 sport design bva8</td>\n",
       "      <td>20</td>\n",
       "      <td>5</td>\n",
       "      <td>vitrage calorifuge;triangle de presignalisatio...</td>\n",
       "      <td>saphirschwarz metal</td>\n",
       "      <td>NaN</td>\n",
       "      <td>NaN</td>\n",
       "      <td>NaN</td>\n",
       "      <td>NaN</td>\n",
       "      <td>0</td>\n",
       "    </tr>\n",
       "    <tr>\n",
       "      <th>4</th>\n",
       "      <td>2018-04-16 21:35:00</td>\n",
       "      <td>audi</td>\n",
       "      <td>a3</td>\n",
       "      <td>2013</td>\n",
       "      <td>49018.0</td>\n",
       "      <td>Diesel</td>\n",
       "      <td>mécanique</td>\n",
       "      <td>16888.0</td>\n",
       "      <td>ii (2) sportback 2.0 tdi 140 7cv ambition luxe...</td>\n",
       "      <td>7</td>\n",
       "      <td>5</td>\n",
       "      <td>\"anti démarrage;radar de recul;prises audio au...</td>\n",
       "      <td>gris clair metal</td>\n",
       "      <td>45070.0</td>\n",
       "      <td>740.0</td>\n",
       "      <td>10.0</td>\n",
       "      <td>5</td>\n",
       "      <td>0</td>\n",
       "    </tr>\n",
       "  </tbody>\n",
       "</table>\n",
       "</div>"
      ],
      "text/plain": [
       "                Online     Make Model  Model_year  Mileage     Fuel  \\\n",
       "0  2018-07-06 03:47:00  peugeot   308        2014  94341.0   Diesel   \n",
       "1  2018-07-09 14:12:00     ford    ka        2007  92282.0  Essence   \n",
       "2  2018-05-19 03:52:00     fiat  tipo        2018     10.0  Essence   \n",
       "3  2018-03-14 04:24:00      bmw    x3        2012  95623.0   Diesel   \n",
       "4  2018-04-16 21:35:00     audi    a3        2013  49018.0   Diesel   \n",
       "\n",
       "       Gearbox    Price                                            version  \\\n",
       "0    mécanique  11220.0                       1.6 hdi fap 92ch business 5p   \n",
       "1    mécanique   2830.0                                         1.3 70 fun   \n",
       "2    mécanique  12925.0                                   ii sw 1.4 95 pop   \n",
       "3  automatique  27956.0              (f25) xdrive35d 313 sport design bva8   \n",
       "4    mécanique  16888.0  ii (2) sportback 2.0 tdi 140 7cv ambition luxe...   \n",
       "\n",
       "   spuissance_fiscale portes  \\\n",
       "0                   4      5   \n",
       "1                   5      3   \n",
       "2                   5      5   \n",
       "3                  20      5   \n",
       "4                   7      5   \n",
       "\n",
       "                                             options              couleur  \\\n",
       "0  banquette arrière 3 places;volant cuir;cache b...       blanc banquise   \n",
       "1  direction assistée;jantes alu;rétroviseurs éle...                jaune   \n",
       "2  Volant alu & cuir;Bluetooth inclut musique en ...          blanc verni   \n",
       "3  vitrage calorifuge;triangle de presignalisatio...  saphirschwarz metal   \n",
       "4  \"anti démarrage;radar de recul;prises audio au...     gris clair metal   \n",
       "\n",
       "   starting_price  bonus_malus  puiss_scrap portes_scrap  Price/Starting Price  \n",
       "0         25050.0          0.0          5.0            5                     0  \n",
       "1         12150.0        150.0          5.0            5                     0  \n",
       "2         14990.0        740.0          5.0            4                     0  \n",
       "3             NaN          NaN          NaN          NaN                     0  \n",
       "4         45070.0        740.0         10.0            5                     0  "
      ]
     },
     "execution_count": 56,
     "metadata": {},
     "output_type": "execute_result"
    }
   ],
   "source": [
    "preprocessing_mapper = DataFrameMapper([\n",
    "    ([\"Online\"], DateOnlineEncoder()),\n",
    "    #([\"Online\", \"Model_year\"], AgeFeature(), {'alias': 'age'}),\n",
    "    (\"Make\", [CategoricalImputer(), CategoryType()]),\n",
    "    (\"Model\", [CategoryType(), CategoricalImputer()]),\n",
    "    (\"Model_year\", CategoricalImputer()),\n",
    "    (\"Mileage\", [MileageClean(), Imputer(strategy='mean')]),\n",
    "    (\"Fuel\", [CategoryType(), CategoricalImputer()]),\n",
    "    (\"Gearbox\", [CategoryType(), CategoricalImputer()]),\n",
    "    #([\"Description\"], DesciptionClean()),\n",
    "], input_df=True, df_out=True, default=None)\n",
    "\n",
    "data_preprocessing = preprocessing_mapper.fit_transform(data_car)\n",
    "data_preprocessing.head()"
   ]
  },
  {
   "cell_type": "code",
   "execution_count": 57,
   "metadata": {},
   "outputs": [
    {
     "data": {
      "text/html": [
       "<div>\n",
       "<style scoped>\n",
       "    .dataframe tbody tr th:only-of-type {\n",
       "        vertical-align: middle;\n",
       "    }\n",
       "\n",
       "    .dataframe tbody tr th {\n",
       "        vertical-align: top;\n",
       "    }\n",
       "\n",
       "    .dataframe thead th {\n",
       "        text-align: right;\n",
       "    }\n",
       "</style>\n",
       "<table border=\"1\" class=\"dataframe\">\n",
       "  <thead>\n",
       "    <tr style=\"text-align: right;\">\n",
       "      <th></th>\n",
       "      <th>age</th>\n",
       "      <th>Model_year</th>\n",
       "      <th>Make</th>\n",
       "      <th>Model</th>\n",
       "      <th>Mileage</th>\n",
       "      <th>Fuel</th>\n",
       "      <th>Gearbox</th>\n",
       "      <th>Price</th>\n",
       "      <th>version</th>\n",
       "      <th>spuissance_fiscale</th>\n",
       "      <th>portes</th>\n",
       "      <th>options</th>\n",
       "      <th>couleur</th>\n",
       "      <th>starting_price</th>\n",
       "      <th>bonus_malus</th>\n",
       "      <th>puiss_scrap</th>\n",
       "      <th>portes_scrap</th>\n",
       "      <th>Price/Starting Price</th>\n",
       "    </tr>\n",
       "  </thead>\n",
       "  <tbody>\n",
       "    <tr>\n",
       "      <th>0</th>\n",
       "      <td>4</td>\n",
       "      <td>2014</td>\n",
       "      <td>peugeot</td>\n",
       "      <td>308</td>\n",
       "      <td>94341.0</td>\n",
       "      <td>Diesel</td>\n",
       "      <td>mécanique</td>\n",
       "      <td>11220.0</td>\n",
       "      <td>1.6 hdi fap 92ch business 5p</td>\n",
       "      <td>4</td>\n",
       "      <td>5</td>\n",
       "      <td>banquette arrière 3 places;volant cuir;cache b...</td>\n",
       "      <td>blanc banquise</td>\n",
       "      <td>25050.0</td>\n",
       "      <td>0.0</td>\n",
       "      <td>5.0</td>\n",
       "      <td>5</td>\n",
       "      <td>0</td>\n",
       "    </tr>\n",
       "    <tr>\n",
       "      <th>1</th>\n",
       "      <td>11</td>\n",
       "      <td>2007</td>\n",
       "      <td>ford</td>\n",
       "      <td>ka</td>\n",
       "      <td>92282.0</td>\n",
       "      <td>Essence</td>\n",
       "      <td>mécanique</td>\n",
       "      <td>2830.0</td>\n",
       "      <td>1.3 70 fun</td>\n",
       "      <td>5</td>\n",
       "      <td>3</td>\n",
       "      <td>direction assistée;jantes alu;rétroviseurs éle...</td>\n",
       "      <td>jaune</td>\n",
       "      <td>12150.0</td>\n",
       "      <td>150.0</td>\n",
       "      <td>5.0</td>\n",
       "      <td>5</td>\n",
       "      <td>0</td>\n",
       "    </tr>\n",
       "    <tr>\n",
       "      <th>2</th>\n",
       "      <td>0</td>\n",
       "      <td>2018</td>\n",
       "      <td>fiat</td>\n",
       "      <td>tipo</td>\n",
       "      <td>10.0</td>\n",
       "      <td>Essence</td>\n",
       "      <td>mécanique</td>\n",
       "      <td>12925.0</td>\n",
       "      <td>ii sw 1.4 95 pop</td>\n",
       "      <td>5</td>\n",
       "      <td>5</td>\n",
       "      <td>Volant alu &amp; cuir;Bluetooth inclut musique en ...</td>\n",
       "      <td>blanc verni</td>\n",
       "      <td>14990.0</td>\n",
       "      <td>740.0</td>\n",
       "      <td>5.0</td>\n",
       "      <td>4</td>\n",
       "      <td>0</td>\n",
       "    </tr>\n",
       "    <tr>\n",
       "      <th>3</th>\n",
       "      <td>6</td>\n",
       "      <td>2012</td>\n",
       "      <td>bmw</td>\n",
       "      <td>x3</td>\n",
       "      <td>95623.0</td>\n",
       "      <td>Diesel</td>\n",
       "      <td>automatique</td>\n",
       "      <td>27956.0</td>\n",
       "      <td>(f25) xdrive35d 313 sport design bva8</td>\n",
       "      <td>20</td>\n",
       "      <td>5</td>\n",
       "      <td>vitrage calorifuge;triangle de presignalisatio...</td>\n",
       "      <td>saphirschwarz metal</td>\n",
       "      <td>NaN</td>\n",
       "      <td>NaN</td>\n",
       "      <td>NaN</td>\n",
       "      <td>NaN</td>\n",
       "      <td>0</td>\n",
       "    </tr>\n",
       "    <tr>\n",
       "      <th>4</th>\n",
       "      <td>5</td>\n",
       "      <td>2013</td>\n",
       "      <td>audi</td>\n",
       "      <td>a3</td>\n",
       "      <td>49018.0</td>\n",
       "      <td>Diesel</td>\n",
       "      <td>mécanique</td>\n",
       "      <td>16888.0</td>\n",
       "      <td>ii (2) sportback 2.0 tdi 140 7cv ambition luxe...</td>\n",
       "      <td>7</td>\n",
       "      <td>5</td>\n",
       "      <td>\"anti démarrage;radar de recul;prises audio au...</td>\n",
       "      <td>gris clair metal</td>\n",
       "      <td>45070.0</td>\n",
       "      <td>740.0</td>\n",
       "      <td>10.0</td>\n",
       "      <td>5</td>\n",
       "      <td>0</td>\n",
       "    </tr>\n",
       "  </tbody>\n",
       "</table>\n",
       "</div>"
      ],
      "text/plain": [
       "   age  Model_year     Make Model  Mileage     Fuel      Gearbox    Price  \\\n",
       "0    4        2014  peugeot   308  94341.0   Diesel    mécanique  11220.0   \n",
       "1   11        2007     ford    ka  92282.0  Essence    mécanique   2830.0   \n",
       "2    0        2018     fiat  tipo     10.0  Essence    mécanique  12925.0   \n",
       "3    6        2012      bmw    x3  95623.0   Diesel  automatique  27956.0   \n",
       "4    5        2013     audi    a3  49018.0   Diesel    mécanique  16888.0   \n",
       "\n",
       "                                             version  spuissance_fiscale  \\\n",
       "0                       1.6 hdi fap 92ch business 5p                   4   \n",
       "1                                         1.3 70 fun                   5   \n",
       "2                                   ii sw 1.4 95 pop                   5   \n",
       "3              (f25) xdrive35d 313 sport design bva8                  20   \n",
       "4  ii (2) sportback 2.0 tdi 140 7cv ambition luxe...                   7   \n",
       "\n",
       "  portes                                            options  \\\n",
       "0      5  banquette arrière 3 places;volant cuir;cache b...   \n",
       "1      3  direction assistée;jantes alu;rétroviseurs éle...   \n",
       "2      5  Volant alu & cuir;Bluetooth inclut musique en ...   \n",
       "3      5  vitrage calorifuge;triangle de presignalisatio...   \n",
       "4      5  \"anti démarrage;radar de recul;prises audio au...   \n",
       "\n",
       "               couleur  starting_price  bonus_malus  puiss_scrap portes_scrap  \\\n",
       "0       blanc banquise         25050.0          0.0          5.0            5   \n",
       "1                jaune         12150.0        150.0          5.0            5   \n",
       "2          blanc verni         14990.0        740.0          5.0            4   \n",
       "3  saphirschwarz metal             NaN          NaN          NaN          NaN   \n",
       "4     gris clair metal         45070.0        740.0         10.0            5   \n",
       "\n",
       "   Price/Starting Price  \n",
       "0                     0  \n",
       "1                     0  \n",
       "2                     0  \n",
       "3                     0  \n",
       "4                     0  "
      ]
     },
     "execution_count": 57,
     "metadata": {},
     "output_type": "execute_result"
    }
   ],
   "source": [
    "features_mapper = DataFrameMapper([\n",
    "    ([\"Online\", \"Model_year\"], AgeFeature(), {'alias': 'age'}),\n",
    "    #([\"Make\"], CategoryType()),\n",
    "    #([\"Model\"], CategoryType()),\n",
    "    ([\"Model_year\"], None),\n",
    "    #([\"Mileage\"], MileageClean()),\n",
    "    #([\"Fuel\"], CategoryType()),\n",
    "    #([\"Gearbox\"], CategoryType()),\n",
    "    # ([\"Description\"], DesciptionClean()),\n",
    "], input_df=True, df_out=True, default=None)\n",
    "\n",
    "data_extra_features = features_mapper.fit_transform(data_preprocessing)\n",
    "data_extra_features.head()"
   ]
  },
  {
   "cell_type": "code",
   "execution_count": 58,
   "metadata": {},
   "outputs": [],
   "source": [
    "def cylindre_cv_extra(df):\n",
    "    regex_cyclindre = \"\\d+[\\.,]\\d+\"\n",
    "    regex_cv = \"\\s+\\d{1,3}\\s?\"\n",
    "    cylindre = []\n",
    "    cheveaux = []\n",
    "    for i in range(df.version.shape[0]):\n",
    "        if df.version[i] == 'ii allurehdifap2.0150cv':\n",
    "            df.version[i] = 'ii allurehdifap 2.0 150cv'\n",
    "        #print(i, data_car_preprocessed.version[i])\n",
    "        text = df.version[i]\n",
    "        # supprimer les nombres du kilogmetrage dans le text\n",
    "        text = re.sub(\"\\d+[\\.,]\\d+km\", \"\", text)\n",
    "        text = re.sub(\"(159.226|76.538|87.480|71.000)\", \"\", text)\n",
    "        cl = re.findall(regex_cyclindre, text)\n",
    "        text = re.sub(regex_cyclindre, \"\", text)\n",
    "        # supprimer les nombres du porte dans text\n",
    "        text = re.sub(\"\\d+p\", \"\", text)\n",
    "        cv = re.findall(regex_cv, text)\n",
    "        if len(cl) == 0:\n",
    "            #print(\"None\")\n",
    "            cylindre.append(np.nan)\n",
    "        else:\n",
    "            #print(\"More 2\")\n",
    "            cylindre.append(float(cl[0].strip().replace(\",\", \".\")))\n",
    "\n",
    "        if len(cv) == 0:\n",
    "            cheveaux.append(np.nan)\n",
    "        else:\n",
    "            cheveaux.append(int(cv[0].strip()))\n",
    "        #cylindre.append(re.findall(regex, data_car_preprocessed.version[i])[0])\n",
    "    # print(len(cv), len(cylindre), df.shape)\n",
    "    df[\"cylindre\"] = cylindre\n",
    "    df[\"cv\"] = cheveaux\n",
    "    return df"
   ]
  },
  {
   "cell_type": "code",
   "execution_count": 59,
   "metadata": {},
   "outputs": [],
   "source": [
    "data_extra_features = cylindre_cv_extra(data_extra_features)"
   ]
  },
  {
   "cell_type": "code",
   "execution_count": 18,
   "metadata": {},
   "outputs": [
    {
     "data": {
      "text/plain": [
       "<matplotlib.axes._subplots.AxesSubplot at 0x1a24c94a58>"
      ]
     },
     "execution_count": 18,
     "metadata": {},
     "output_type": "execute_result"
    },
    {
     "data": {
      "image/png": "[encoded data removed]",
      "text/plain": [
       "<Figure size 432x288 with 1 Axes>"
      ]
     },
     "metadata": {
      "needs_background": "light"
     },
     "output_type": "display_data"
    }
   ],
   "source": [
    "sns.distplot(data_extra_features.Price, bins=100)"
   ]
  },
  {
   "cell_type": "code",
   "execution_count": 98,
   "metadata": {},
   "outputs": [
    {
     "data": {
      "text/html": [
       "<div>\n",
       "<style scoped>\n",
       "    .dataframe tbody tr th:only-of-type {\n",
       "        vertical-align: middle;\n",
       "    }\n",
       "\n",
       "    .dataframe tbody tr th {\n",
       "        vertical-align: top;\n",
       "    }\n",
       "\n",
       "    .dataframe thead th {\n",
       "        text-align: right;\n",
       "    }\n",
       "</style>\n",
       "<table border=\"1\" class=\"dataframe\">\n",
       "  <thead>\n",
       "    <tr style=\"text-align: right;\">\n",
       "      <th></th>\n",
       "      <th>portes</th>\n",
       "      <th>couleur</th>\n",
       "      <th>cylindre</th>\n",
       "      <th>cv</th>\n",
       "      <th>Price</th>\n",
       "      <th>age</th>\n",
       "      <th>Model_year</th>\n",
       "      <th>Make</th>\n",
       "      <th>Model</th>\n",
       "      <th>Mileage</th>\n",
       "      <th>Fuel</th>\n",
       "      <th>Gearbox</th>\n",
       "      <th>version</th>\n",
       "      <th>spuissance_fiscale</th>\n",
       "      <th>options</th>\n",
       "      <th>starting_price</th>\n",
       "      <th>bonus_malus</th>\n",
       "      <th>puiss_scrap</th>\n",
       "      <th>portes_scrap</th>\n",
       "      <th>Price/Starting Price</th>\n",
       "    </tr>\n",
       "  </thead>\n",
       "  <tbody>\n",
       "    <tr>\n",
       "      <th>0</th>\n",
       "      <td>5</td>\n",
       "      <td>blanc banquise</td>\n",
       "      <td>1.6000</td>\n",
       "      <td>92.0</td>\n",
       "      <td>11220.0</td>\n",
       "      <td>4</td>\n",
       "      <td>2014</td>\n",
       "      <td>peugeot</td>\n",
       "      <td>308</td>\n",
       "      <td>94341.0</td>\n",
       "      <td>Diesel</td>\n",
       "      <td>mécanique</td>\n",
       "      <td>1.6 hdi fap 92ch business 5p</td>\n",
       "      <td>4</td>\n",
       "      <td>banquette arrière 3 places;volant cuir;cache b...</td>\n",
       "      <td>25050.0</td>\n",
       "      <td>0.0</td>\n",
       "      <td>5.0</td>\n",
       "      <td>5</td>\n",
       "      <td>0</td>\n",
       "    </tr>\n",
       "    <tr>\n",
       "      <th>1</th>\n",
       "      <td>3</td>\n",
       "      <td>jaune</td>\n",
       "      <td>1.3000</td>\n",
       "      <td>70.0</td>\n",
       "      <td>2830.0</td>\n",
       "      <td>11</td>\n",
       "      <td>2007</td>\n",
       "      <td>ford</td>\n",
       "      <td>ka</td>\n",
       "      <td>92282.0</td>\n",
       "      <td>Essence</td>\n",
       "      <td>mécanique</td>\n",
       "      <td>1.3 70 fun</td>\n",
       "      <td>5</td>\n",
       "      <td>direction assistée;jantes alu;rétroviseurs éle...</td>\n",
       "      <td>12150.0</td>\n",
       "      <td>150.0</td>\n",
       "      <td>5.0</td>\n",
       "      <td>5</td>\n",
       "      <td>0</td>\n",
       "    </tr>\n",
       "    <tr>\n",
       "      <th>2</th>\n",
       "      <td>5</td>\n",
       "      <td>blanc verni</td>\n",
       "      <td>1.4000</td>\n",
       "      <td>95.0</td>\n",
       "      <td>12925.0</td>\n",
       "      <td>0</td>\n",
       "      <td>2018</td>\n",
       "      <td>fiat</td>\n",
       "      <td>tipo</td>\n",
       "      <td>10.0</td>\n",
       "      <td>Essence</td>\n",
       "      <td>mécanique</td>\n",
       "      <td>ii sw 1.4 95 pop</td>\n",
       "      <td>5</td>\n",
       "      <td>Volant alu &amp; cuir;Bluetooth inclut musique en ...</td>\n",
       "      <td>14990.0</td>\n",
       "      <td>740.0</td>\n",
       "      <td>5.0</td>\n",
       "      <td>4</td>\n",
       "      <td>0</td>\n",
       "    </tr>\n",
       "    <tr>\n",
       "      <th>3</th>\n",
       "      <td>5</td>\n",
       "      <td>saphirschwarz metal</td>\n",
       "      <td>1.7319</td>\n",
       "      <td>313.0</td>\n",
       "      <td>27956.0</td>\n",
       "      <td>6</td>\n",
       "      <td>2012</td>\n",
       "      <td>bmw</td>\n",
       "      <td>x3</td>\n",
       "      <td>95623.0</td>\n",
       "      <td>Diesel</td>\n",
       "      <td>automatique</td>\n",
       "      <td>(f25) xdrive35d 313 sport design bva8</td>\n",
       "      <td>20</td>\n",
       "      <td>vitrage calorifuge;triangle de presignalisatio...</td>\n",
       "      <td>NaN</td>\n",
       "      <td>NaN</td>\n",
       "      <td>NaN</td>\n",
       "      <td>NaN</td>\n",
       "      <td>0</td>\n",
       "    </tr>\n",
       "    <tr>\n",
       "      <th>4</th>\n",
       "      <td>5</td>\n",
       "      <td>gris clair metal</td>\n",
       "      <td>2.0000</td>\n",
       "      <td>140.0</td>\n",
       "      <td>16888.0</td>\n",
       "      <td>5</td>\n",
       "      <td>2013</td>\n",
       "      <td>audi</td>\n",
       "      <td>a3</td>\n",
       "      <td>49018.0</td>\n",
       "      <td>Diesel</td>\n",
       "      <td>mécanique</td>\n",
       "      <td>ii (2) sportback 2.0 tdi 140 7cv ambition luxe...</td>\n",
       "      <td>7</td>\n",
       "      <td>\"anti démarrage;radar de recul;prises audio au...</td>\n",
       "      <td>45070.0</td>\n",
       "      <td>740.0</td>\n",
       "      <td>10.0</td>\n",
       "      <td>5</td>\n",
       "      <td>0</td>\n",
       "    </tr>\n",
       "  </tbody>\n",
       "</table>\n",
       "</div>"
      ],
      "text/plain": [
       "  portes              couleur  cylindre     cv    Price  age  Model_year  \\\n",
       "0      5       blanc banquise    1.6000   92.0  11220.0    4        2014   \n",
       "1      3                jaune    1.3000   70.0   2830.0   11        2007   \n",
       "2      5          blanc verni    1.4000   95.0  12925.0    0        2018   \n",
       "3      5  saphirschwarz metal    1.7319  313.0  27956.0    6        2012   \n",
       "4      5     gris clair metal    2.0000  140.0  16888.0    5        2013   \n",
       "\n",
       "      Make Model  Mileage     Fuel      Gearbox  \\\n",
       "0  peugeot   308  94341.0   Diesel    mécanique   \n",
       "1     ford    ka  92282.0  Essence    mécanique   \n",
       "2     fiat  tipo     10.0  Essence    mécanique   \n",
       "3      bmw    x3  95623.0   Diesel  automatique   \n",
       "4     audi    a3  49018.0   Diesel    mécanique   \n",
       "\n",
       "                                             version  spuissance_fiscale  \\\n",
       "0                       1.6 hdi fap 92ch business 5p                   4   \n",
       "1                                         1.3 70 fun                   5   \n",
       "2                                   ii sw 1.4 95 pop                   5   \n",
       "3              (f25) xdrive35d 313 sport design bva8                  20   \n",
       "4  ii (2) sportback 2.0 tdi 140 7cv ambition luxe...                   7   \n",
       "\n",
       "                                             options  starting_price  \\\n",
       "0  banquette arrière 3 places;volant cuir;cache b...         25050.0   \n",
       "1  direction assistée;jantes alu;rétroviseurs éle...         12150.0   \n",
       "2  Volant alu & cuir;Bluetooth inclut musique en ...         14990.0   \n",
       "3  vitrage calorifuge;triangle de presignalisatio...             NaN   \n",
       "4  \"anti démarrage;radar de recul;prises audio au...         45070.0   \n",
       "\n",
       "   bonus_malus  puiss_scrap portes_scrap  Price/Starting Price  \n",
       "0          0.0          5.0            5                     0  \n",
       "1        150.0          5.0            5                     0  \n",
       "2        740.0          5.0            4                     0  \n",
       "3          NaN          NaN          NaN                     0  \n",
       "4        740.0         10.0            5                     0  "
      ]
     },
     "execution_count": 98,
     "metadata": {},
     "output_type": "execute_result"
    }
   ],
   "source": [
    "imputer_extra_mapper = DataFrameMapper([\n",
    "    (\"portes\", CategoricalImputer()),\n",
    "    (\"couleur\", CategoricalImputer()),\n",
    "    ([\"cylindre\", \"Price\"], LinearRegressorImputer(), {'alias': 'cylindre'}),\n",
    "    ([\"cv\", \"Price\"], LinearRegressorImputer(), {'alias': 'cv'}),\n",
    "    (\"Price\", None)\n",
    "], input_df=True, df_out=True, default=None)\n",
    "\n",
    "data_imp = imputer_extra_mapper.fit_transform(data_extra_features)\n",
    "data_imp.head()"
   ]
  },
  {
   "cell_type": "code",
   "execution_count": 99,
   "metadata": {
    "scrolled": true
   },
   "outputs": [
    {
     "name": "stdout",
     "output_type": "stream",
     "text": [
      "<class 'pandas.core.frame.DataFrame'>\n",
      "RangeIndex: 153506 entries, 0 to 153505\n",
      "Data columns (total 20 columns):\n",
      "portes                  153506 non-null object\n",
      "couleur                 153506 non-null object\n",
      "cylindre                153506 non-null float64\n",
      "cv                      153506 non-null float64\n",
      "Price                   153506 non-null float64\n",
      "age                     153506 non-null int64\n",
      "Model_year              153506 non-null int64\n",
      "Make                    153506 non-null object\n",
      "Model                   153506 non-null object\n",
      "Mileage                 153506 non-null float64\n",
      "Fuel                    153506 non-null object\n",
      "Gearbox                 153506 non-null object\n",
      "version                 153506 non-null object\n",
      "spuissance_fiscale      153506 non-null int64\n",
      "options                 149271 non-null object\n",
      "starting_price          115031 non-null float64\n",
      "bonus_malus             115031 non-null float64\n",
      "puiss_scrap             115031 non-null float64\n",
      "portes_scrap            115031 non-null object\n",
      "Price/Starting Price    153506 non-null int64\n",
      "dtypes: float64(7), int64(4), object(9)\n",
      "memory usage: 23.4+ MB\n"
     ]
    }
   ],
   "source": [
    "data_imp.info()"
   ]
  },
  {
   "cell_type": "code",
   "execution_count": 27,
   "metadata": {},
   "outputs": [],
   "source": [
    "from sklearn.preprocessing import LabelEncoder, OneHotEncoder, LabelBinarizer, MultiLabelBinarizer"
   ]
  },
  {
   "cell_type": "markdown",
   "metadata": {},
   "source": [
    "def categorical_variables(df, categorical_v):\n",
    "    #df[categorical_v] = df[categorical_v].apply(LabelEncoder().fit_transform)\n",
    "    df[categorical_v] = df[categorical_v].apply(LabelEncoder().fit_transform)\n",
    "    return df\n",
    "cat_features = [\"Make\", \"Model\", \"Fuel\", \"Gearbox\", \"portes\", \"couleur\"]\n",
    "\n",
    "data = categorical_variables(data_imp, cat_features)"
   ]
  },
  {
   "cell_type": "code",
   "execution_count": 100,
   "metadata": {},
   "outputs": [
    {
     "data": {
      "text/html": [
       "<div>\n",
       "<style scoped>\n",
       "    .dataframe tbody tr th:only-of-type {\n",
       "        vertical-align: middle;\n",
       "    }\n",
       "\n",
       "    .dataframe tbody tr th {\n",
       "        vertical-align: top;\n",
       "    }\n",
       "\n",
       "    .dataframe thead th {\n",
       "        text-align: right;\n",
       "    }\n",
       "</style>\n",
       "<table border=\"1\" class=\"dataframe\">\n",
       "  <thead>\n",
       "    <tr style=\"text-align: right;\">\n",
       "      <th></th>\n",
       "      <th>Make_</th>\n",
       "      <th>Make_a</th>\n",
       "      <th>Make_b</th>\n",
       "      <th>Make_c</th>\n",
       "      <th>Make_d</th>\n",
       "      <th>Make_e</th>\n",
       "      <th>Make_f</th>\n",
       "      <th>Make_g</th>\n",
       "      <th>Make_h</th>\n",
       "      <th>Make_i</th>\n",
       "      <th>...</th>\n",
       "      <th>Model_year</th>\n",
       "      <th>Mileage</th>\n",
       "      <th>version</th>\n",
       "      <th>spuissance_fiscale</th>\n",
       "      <th>options</th>\n",
       "      <th>starting_price</th>\n",
       "      <th>bonus_malus</th>\n",
       "      <th>puiss_scrap</th>\n",
       "      <th>portes_scrap</th>\n",
       "      <th>Price/Starting Price</th>\n",
       "    </tr>\n",
       "  </thead>\n",
       "  <tbody>\n",
       "    <tr>\n",
       "      <th>0</th>\n",
       "      <td>0</td>\n",
       "      <td>0</td>\n",
       "      <td>0</td>\n",
       "      <td>0</td>\n",
       "      <td>0</td>\n",
       "      <td>1</td>\n",
       "      <td>0</td>\n",
       "      <td>1</td>\n",
       "      <td>0</td>\n",
       "      <td>0</td>\n",
       "      <td>...</td>\n",
       "      <td>2014</td>\n",
       "      <td>94341.0</td>\n",
       "      <td>1.6 hdi fap 92ch business 5p</td>\n",
       "      <td>4</td>\n",
       "      <td>banquette arrière 3 places;volant cuir;cache b...</td>\n",
       "      <td>25050.0</td>\n",
       "      <td>0.0</td>\n",
       "      <td>5.0</td>\n",
       "      <td>5</td>\n",
       "      <td>0</td>\n",
       "    </tr>\n",
       "    <tr>\n",
       "      <th>1</th>\n",
       "      <td>0</td>\n",
       "      <td>0</td>\n",
       "      <td>0</td>\n",
       "      <td>0</td>\n",
       "      <td>1</td>\n",
       "      <td>0</td>\n",
       "      <td>1</td>\n",
       "      <td>0</td>\n",
       "      <td>0</td>\n",
       "      <td>0</td>\n",
       "      <td>...</td>\n",
       "      <td>2007</td>\n",
       "      <td>92282.0</td>\n",
       "      <td>1.3 70 fun</td>\n",
       "      <td>5</td>\n",
       "      <td>direction assistée;jantes alu;rétroviseurs éle...</td>\n",
       "      <td>12150.0</td>\n",
       "      <td>150.0</td>\n",
       "      <td>5.0</td>\n",
       "      <td>5</td>\n",
       "      <td>0</td>\n",
       "    </tr>\n",
       "    <tr>\n",
       "      <th>2</th>\n",
       "      <td>0</td>\n",
       "      <td>1</td>\n",
       "      <td>0</td>\n",
       "      <td>0</td>\n",
       "      <td>0</td>\n",
       "      <td>0</td>\n",
       "      <td>1</td>\n",
       "      <td>0</td>\n",
       "      <td>0</td>\n",
       "      <td>1</td>\n",
       "      <td>...</td>\n",
       "      <td>2018</td>\n",
       "      <td>10.0</td>\n",
       "      <td>ii sw 1.4 95 pop</td>\n",
       "      <td>5</td>\n",
       "      <td>Volant alu &amp; cuir;Bluetooth inclut musique en ...</td>\n",
       "      <td>14990.0</td>\n",
       "      <td>740.0</td>\n",
       "      <td>5.0</td>\n",
       "      <td>4</td>\n",
       "      <td>0</td>\n",
       "    </tr>\n",
       "    <tr>\n",
       "      <th>3</th>\n",
       "      <td>0</td>\n",
       "      <td>0</td>\n",
       "      <td>1</td>\n",
       "      <td>0</td>\n",
       "      <td>0</td>\n",
       "      <td>0</td>\n",
       "      <td>0</td>\n",
       "      <td>0</td>\n",
       "      <td>0</td>\n",
       "      <td>0</td>\n",
       "      <td>...</td>\n",
       "      <td>2012</td>\n",
       "      <td>95623.0</td>\n",
       "      <td>(f25) xdrive35d 313 sport design bva8</td>\n",
       "      <td>20</td>\n",
       "      <td>vitrage calorifuge;triangle de presignalisatio...</td>\n",
       "      <td>NaN</td>\n",
       "      <td>NaN</td>\n",
       "      <td>NaN</td>\n",
       "      <td>NaN</td>\n",
       "      <td>0</td>\n",
       "    </tr>\n",
       "    <tr>\n",
       "      <th>4</th>\n",
       "      <td>0</td>\n",
       "      <td>1</td>\n",
       "      <td>0</td>\n",
       "      <td>0</td>\n",
       "      <td>1</td>\n",
       "      <td>0</td>\n",
       "      <td>0</td>\n",
       "      <td>0</td>\n",
       "      <td>0</td>\n",
       "      <td>1</td>\n",
       "      <td>...</td>\n",
       "      <td>2013</td>\n",
       "      <td>49018.0</td>\n",
       "      <td>ii (2) sportback 2.0 tdi 140 7cv ambition luxe...</td>\n",
       "      <td>7</td>\n",
       "      <td>\"anti démarrage;radar de recul;prises audio au...</td>\n",
       "      <td>45070.0</td>\n",
       "      <td>740.0</td>\n",
       "      <td>10.0</td>\n",
       "      <td>5</td>\n",
       "      <td>0</td>\n",
       "    </tr>\n",
       "  </tbody>\n",
       "</table>\n",
       "<p>5 rows × 205 columns</p>\n",
       "</div>"
      ],
      "text/plain": [
       "   Make_   Make_a  Make_b  Make_c  Make_d  Make_e  Make_f  Make_g  Make_h  \\\n",
       "0       0       0       0       0       0       1       0       1       0   \n",
       "1       0       0       0       0       1       0       1       0       0   \n",
       "2       0       1       0       0       0       0       1       0       0   \n",
       "3       0       0       1       0       0       0       0       0       0   \n",
       "4       0       1       0       0       1       0       0       0       0   \n",
       "\n",
       "   Make_i          ...           Model_year  Mileage  \\\n",
       "0       0          ...                 2014  94341.0   \n",
       "1       0          ...                 2007  92282.0   \n",
       "2       1          ...                 2018     10.0   \n",
       "3       0          ...                 2012  95623.0   \n",
       "4       1          ...                 2013  49018.0   \n",
       "\n",
       "                                             version  spuissance_fiscale  \\\n",
       "0                       1.6 hdi fap 92ch business 5p                   4   \n",
       "1                                         1.3 70 fun                   5   \n",
       "2                                   ii sw 1.4 95 pop                   5   \n",
       "3              (f25) xdrive35d 313 sport design bva8                  20   \n",
       "4  ii (2) sportback 2.0 tdi 140 7cv ambition luxe...                   7   \n",
       "\n",
       "                                             options  starting_price  \\\n",
       "0  banquette arrière 3 places;volant cuir;cache b...         25050.0   \n",
       "1  direction assistée;jantes alu;rétroviseurs éle...         12150.0   \n",
       "2  Volant alu & cuir;Bluetooth inclut musique en ...         14990.0   \n",
       "3  vitrage calorifuge;triangle de presignalisatio...             NaN   \n",
       "4  \"anti démarrage;radar de recul;prises audio au...         45070.0   \n",
       "\n",
       "   bonus_malus  puiss_scrap  portes_scrap  Price/Starting Price  \n",
       "0          0.0          5.0             5                     0  \n",
       "1        150.0          5.0             5                     0  \n",
       "2        740.0          5.0             4                     0  \n",
       "3          NaN          NaN           NaN                     0  \n",
       "4        740.0         10.0             5                     0  \n",
       "\n",
       "[5 rows x 205 columns]"
      ]
     },
     "execution_count": 100,
     "metadata": {},
     "output_type": "execute_result"
    }
   ],
   "source": [
    "cat_features_mapper = DataFrameMapper([\n",
    "    (\"Make\", MultiLabelBinarizer()),\n",
    "    (\"Model\", MultiLabelBinarizer()),\n",
    "    (\"Fuel\", MultiLabelBinarizer()),\n",
    "    (\"Gearbox\", LabelBinarizer()),\n",
    "    (\"portes\", MultiLabelBinarizer()),\n",
    "    (\"couleur\", MultiLabelBinarizer())\n",
    "], input_df=True, df_out=True, default=None)\n",
    "\n",
    "data = cat_features_mapper.fit_transform(data_imp)\n",
    "data.head()"
   ]
  },
  {
   "cell_type": "code",
   "execution_count": 29,
   "metadata": {},
   "outputs": [
    {
     "data": {
      "text/plain": [
       "array(['Make_ ', 'Make_a', 'Make_b', 'Make_c', 'Make_d', 'Make_e',\n",
       "       'Make_f', 'Make_g', 'Make_h', 'Make_i', 'Make_j', 'Make_k',\n",
       "       'Make_l', 'Make_m', 'Make_n', 'Make_o', 'Make_p', 'Make_r',\n",
       "       'Make_s', 'Make_t', 'Make_u', 'Make_v', 'Make_w', 'Make_x',\n",
       "       'Make_y', 'Make_z', 'Model_ ', 'Model_!', 'Model_+', 'Model_-',\n",
       "       'Model_.', 'Model_/', 'Model_0', 'Model_1', 'Model_2', 'Model_3',\n",
       "       'Model_4', 'Model_5', 'Model_6', 'Model_7', 'Model_8', 'Model_9',\n",
       "       'Model_a', 'Model_b', 'Model_c', 'Model_d', 'Model_e', 'Model_f',\n",
       "       'Model_g', 'Model_h', 'Model_i', 'Model_j', 'Model_k', 'Model_l',\n",
       "       'Model_m', 'Model_n', 'Model_o', 'Model_p', 'Model_q', 'Model_r',\n",
       "       'Model_s', 'Model_t', 'Model_u', 'Model_v', 'Model_w', 'Model_x',\n",
       "       'Model_y', 'Model_z', 'Fuel_ ', 'Fuel_B', 'Fuel_D', 'Fuel_E',\n",
       "       'Fuel_G', 'Fuel_H', 'Fuel_L', 'Fuel_N', 'Fuel_P', 'Fuel_V',\n",
       "       'Fuel_a', 'Fuel_b', 'Fuel_c', 'Fuel_d', 'Fuel_e', 'Fuel_h',\n",
       "       'Fuel_i', 'Fuel_l', 'Fuel_n', 'Fuel_o', 'Fuel_q', 'Fuel_r',\n",
       "       'Fuel_s', 'Fuel_t', 'Fuel_u', 'Fuel_y', 'Fuel_é', 'Gearbox',\n",
       "       'portes_-', 'portes_0', 'portes_2', 'portes_3', 'portes_4',\n",
       "       'portes_5', 'portes_6', 'portes_B', 'portes_C', 'portes_F',\n",
       "       'portes_M', 'portes_T', 'portes_a', 'portes_b', 'portes_c',\n",
       "       'portes_e', 'portes_g', 'portes_i', 'portes_k', 'portes_l',\n",
       "       'portes_m', 'portes_n', 'portes_o', 'portes_p', 'portes_r',\n",
       "       'portes_s', 'portes_t', 'portes_u', 'portes_é', 'couleur_ ',\n",
       "       'couleur_\"', 'couleur_#', 'couleur_&', \"couleur_'\", 'couleur_(',\n",
       "       'couleur_)', 'couleur_*', 'couleur_+', 'couleur_,', 'couleur_-',\n",
       "       'couleur_.', 'couleur_/', 'couleur_0', 'couleur_1', 'couleur_2',\n",
       "       'couleur_3', 'couleur_4', 'couleur_5', 'couleur_6', 'couleur_7',\n",
       "       'couleur_8', 'couleur_9', 'couleur_:', 'couleur_>', 'couleur_?',\n",
       "       'couleur__', 'couleur_a', 'couleur_b', 'couleur_c', 'couleur_d',\n",
       "       'couleur_e', 'couleur_f', 'couleur_g', 'couleur_h', 'couleur_i',\n",
       "       'couleur_j', 'couleur_k', 'couleur_l', 'couleur_m', 'couleur_n',\n",
       "       'couleur_o', 'couleur_p', 'couleur_q', 'couleur_r', 'couleur_s',\n",
       "       'couleur_t', 'couleur_u', 'couleur_v', 'couleur_w', 'couleur_x',\n",
       "       'couleur_y', 'couleur_z', 'couleur_{', 'couleur_\\xa0', 'couleur_©',\n",
       "       'couleur_²', 'couleur_à', 'couleur_è', 'couleur_é', 'couleur_ê',\n",
       "       'couleur_î', 'couleur_ï', 'couleur_ô', 'couleur_ö', 'couleur_ú',\n",
       "       'age', 'Model_year', 'Mileage', 'Price', 'version',\n",
       "       'spuissance_fiscale', 'options', 'starting_price', 'bonus_malus',\n",
       "       'puiss_scrap', 'portes_scrap', 'Price/Starting Price', 'cylindre',\n",
       "       'cv'], dtype=object)"
      ]
     },
     "execution_count": 29,
     "metadata": {},
     "output_type": "execute_result"
    }
   ],
   "source": [
    "data.columns.values"
   ]
  },
  {
   "cell_type": "code",
   "execution_count": 101,
   "metadata": {},
   "outputs": [
    {
     "data": {
      "text/html": [
       "<div>\n",
       "<style scoped>\n",
       "    .dataframe tbody tr th:only-of-type {\n",
       "        vertical-align: middle;\n",
       "    }\n",
       "\n",
       "    .dataframe tbody tr th {\n",
       "        vertical-align: top;\n",
       "    }\n",
       "\n",
       "    .dataframe thead th {\n",
       "        text-align: right;\n",
       "    }\n",
       "</style>\n",
       "<table border=\"1\" class=\"dataframe\">\n",
       "  <thead>\n",
       "    <tr style=\"text-align: right;\">\n",
       "      <th></th>\n",
       "      <th>Make_</th>\n",
       "      <th>Make_a</th>\n",
       "      <th>Make_b</th>\n",
       "      <th>Make_c</th>\n",
       "      <th>Make_d</th>\n",
       "      <th>Make_e</th>\n",
       "      <th>Make_f</th>\n",
       "      <th>Make_g</th>\n",
       "      <th>Make_h</th>\n",
       "      <th>Make_i</th>\n",
       "      <th>...</th>\n",
       "      <th>couleur_ú</th>\n",
       "      <th>cylindre</th>\n",
       "      <th>cv</th>\n",
       "      <th>Price</th>\n",
       "      <th>age</th>\n",
       "      <th>Model_year</th>\n",
       "      <th>Mileage</th>\n",
       "      <th>spuissance_fiscale</th>\n",
       "      <th>starting_price</th>\n",
       "      <th>bonus_malus</th>\n",
       "    </tr>\n",
       "  </thead>\n",
       "  <tbody>\n",
       "    <tr>\n",
       "      <th>0</th>\n",
       "      <td>0</td>\n",
       "      <td>0</td>\n",
       "      <td>0</td>\n",
       "      <td>0</td>\n",
       "      <td>0</td>\n",
       "      <td>1</td>\n",
       "      <td>0</td>\n",
       "      <td>1</td>\n",
       "      <td>0</td>\n",
       "      <td>0</td>\n",
       "      <td>...</td>\n",
       "      <td>0</td>\n",
       "      <td>1.6000</td>\n",
       "      <td>92.0</td>\n",
       "      <td>11220.0</td>\n",
       "      <td>4</td>\n",
       "      <td>2014</td>\n",
       "      <td>94341.0</td>\n",
       "      <td>4</td>\n",
       "      <td>25050.0</td>\n",
       "      <td>0.0</td>\n",
       "    </tr>\n",
       "    <tr>\n",
       "      <th>1</th>\n",
       "      <td>0</td>\n",
       "      <td>0</td>\n",
       "      <td>0</td>\n",
       "      <td>0</td>\n",
       "      <td>1</td>\n",
       "      <td>0</td>\n",
       "      <td>1</td>\n",
       "      <td>0</td>\n",
       "      <td>0</td>\n",
       "      <td>0</td>\n",
       "      <td>...</td>\n",
       "      <td>0</td>\n",
       "      <td>1.3000</td>\n",
       "      <td>70.0</td>\n",
       "      <td>2830.0</td>\n",
       "      <td>11</td>\n",
       "      <td>2007</td>\n",
       "      <td>92282.0</td>\n",
       "      <td>5</td>\n",
       "      <td>12150.0</td>\n",
       "      <td>150.0</td>\n",
       "    </tr>\n",
       "    <tr>\n",
       "      <th>2</th>\n",
       "      <td>0</td>\n",
       "      <td>1</td>\n",
       "      <td>0</td>\n",
       "      <td>0</td>\n",
       "      <td>0</td>\n",
       "      <td>0</td>\n",
       "      <td>1</td>\n",
       "      <td>0</td>\n",
       "      <td>0</td>\n",
       "      <td>1</td>\n",
       "      <td>...</td>\n",
       "      <td>0</td>\n",
       "      <td>1.4000</td>\n",
       "      <td>95.0</td>\n",
       "      <td>12925.0</td>\n",
       "      <td>0</td>\n",
       "      <td>2018</td>\n",
       "      <td>10.0</td>\n",
       "      <td>5</td>\n",
       "      <td>14990.0</td>\n",
       "      <td>740.0</td>\n",
       "    </tr>\n",
       "    <tr>\n",
       "      <th>3</th>\n",
       "      <td>0</td>\n",
       "      <td>0</td>\n",
       "      <td>1</td>\n",
       "      <td>0</td>\n",
       "      <td>0</td>\n",
       "      <td>0</td>\n",
       "      <td>0</td>\n",
       "      <td>0</td>\n",
       "      <td>0</td>\n",
       "      <td>0</td>\n",
       "      <td>...</td>\n",
       "      <td>0</td>\n",
       "      <td>1.7319</td>\n",
       "      <td>313.0</td>\n",
       "      <td>27956.0</td>\n",
       "      <td>6</td>\n",
       "      <td>2012</td>\n",
       "      <td>95623.0</td>\n",
       "      <td>20</td>\n",
       "      <td>NaN</td>\n",
       "      <td>NaN</td>\n",
       "    </tr>\n",
       "    <tr>\n",
       "      <th>4</th>\n",
       "      <td>0</td>\n",
       "      <td>1</td>\n",
       "      <td>0</td>\n",
       "      <td>0</td>\n",
       "      <td>1</td>\n",
       "      <td>0</td>\n",
       "      <td>0</td>\n",
       "      <td>0</td>\n",
       "      <td>0</td>\n",
       "      <td>1</td>\n",
       "      <td>...</td>\n",
       "      <td>0</td>\n",
       "      <td>2.0000</td>\n",
       "      <td>140.0</td>\n",
       "      <td>16888.0</td>\n",
       "      <td>5</td>\n",
       "      <td>2013</td>\n",
       "      <td>49018.0</td>\n",
       "      <td>7</td>\n",
       "      <td>45070.0</td>\n",
       "      <td>740.0</td>\n",
       "    </tr>\n",
       "  </tbody>\n",
       "</table>\n",
       "<p>5 rows × 200 columns</p>\n",
       "</div>"
      ],
      "text/plain": [
       "   Make_   Make_a  Make_b  Make_c  Make_d  Make_e  Make_f  Make_g  Make_h  \\\n",
       "0       0       0       0       0       0       1       0       1       0   \n",
       "1       0       0       0       0       1       0       1       0       0   \n",
       "2       0       1       0       0       0       0       1       0       0   \n",
       "3       0       0       1       0       0       0       0       0       0   \n",
       "4       0       1       0       0       1       0       0       0       0   \n",
       "\n",
       "   Make_i     ...       couleur_ú  cylindre     cv    Price  age  Model_year  \\\n",
       "0       0     ...               0    1.6000   92.0  11220.0    4        2014   \n",
       "1       0     ...               0    1.3000   70.0   2830.0   11        2007   \n",
       "2       1     ...               0    1.4000   95.0  12925.0    0        2018   \n",
       "3       0     ...               0    1.7319  313.0  27956.0    6        2012   \n",
       "4       1     ...               0    2.0000  140.0  16888.0    5        2013   \n",
       "\n",
       "   Mileage  spuissance_fiscale  starting_price  bonus_malus  \n",
       "0  94341.0                   4         25050.0          0.0  \n",
       "1  92282.0                   5         12150.0        150.0  \n",
       "2     10.0                   5         14990.0        740.0  \n",
       "3  95623.0                  20             NaN          NaN  \n",
       "4  49018.0                   7         45070.0        740.0  \n",
       "\n",
       "[5 rows x 200 columns]"
      ]
     },
     "execution_count": 101,
     "metadata": {},
     "output_type": "execute_result"
    }
   ],
   "source": [
    "drop_cols = [\"version\", \"options\", \"puiss_scrap\", \"portes_scrap\", \"Price/Starting Price\"]\n",
    "data.drop(drop_cols, axis=1, inplace=True)\n",
    "data.head()"
   ]
  },
  {
   "cell_type": "code",
   "execution_count": 102,
   "metadata": {},
   "outputs": [
    {
     "data": {
      "text/plain": [
       "(115031, 200)"
      ]
     },
     "execution_count": 102,
     "metadata": {},
     "output_type": "execute_result"
    }
   ],
   "source": [
    "data = data[data['starting_price'].notnull()]\n",
    "data.shape"
   ]
  },
  {
   "cell_type": "code",
   "execution_count": 103,
   "metadata": {},
   "outputs": [],
   "source": [
    "target = np.log(data[\"Price\"].values)\n",
    "data = data.drop([\"Price\"], axis=1)"
   ]
  },
  {
   "cell_type": "code",
   "execution_count": 104,
   "metadata": {},
   "outputs": [
    {
     "data": {
      "text/plain": [
       "((92024, 199), (23007, 199), (92024,), (23007,))"
      ]
     },
     "execution_count": 104,
     "metadata": {},
     "output_type": "execute_result"
    }
   ],
   "source": [
    "X_train, X_test, y_train, y_test = train_test_split(data, target, test_size=0.2)\n",
    "X_train.shape, X_test.shape, y_train.shape, y_test.shape"
   ]
  },
  {
   "cell_type": "code",
   "execution_count": 105,
   "metadata": {},
   "outputs": [],
   "source": [
    "def MAPE(y_true, y_pred):\n",
    "    # assuré que les parameters entrés sont 1D array\n",
    "    y_true = np.array(y_true).reshape(1, -1)[0]\n",
    "    y_pred = np.array(y_pred).reshape(1, -1)[0]\n",
    "    return np.mean(np.abs(y_true - y_pred) / y_true)"
   ]
  },
  {
   "cell_type": "code",
   "execution_count": 106,
   "metadata": {},
   "outputs": [
    {
     "data": {
      "text/plain": [
       "RandomForestRegressor(bootstrap=True, criterion='mse', max_depth=None,\n",
       "           max_features='auto', max_leaf_nodes=None,\n",
       "           min_impurity_decrease=0.0, min_impurity_split=None,\n",
       "           min_samples_leaf=1, min_samples_split=2,\n",
       "           min_weight_fraction_leaf=0.0, n_estimators=10, n_jobs=1,\n",
       "           oob_score=False, random_state=2, verbose=0, warm_start=False)"
      ]
     },
     "execution_count": 106,
     "metadata": {},
     "output_type": "execute_result"
    }
   ],
   "source": [
    "rfr = RandomForestRegressor(random_state=2)\n",
    "rfr.fit(X_train, y_train)"
   ]
  },
  {
   "cell_type": "markdown",
   "metadata": {},
   "source": [
    "rfr.feature_importances_\n",
    "features = X_train.columns\n",
    "importances = rfr.feature_importances_\n",
    "indices = np.argsort(importances)\n",
    "\n",
    "plt.figure(figsize=(16,8))\n",
    "plt.title('Feature Importances')\n",
    "plt.barh(range(len(indices)), importances[indices], color='b', align='center')\n",
    "plt.yticks(range(len(indices)), [features[i] for i in indices])\n",
    "plt.xlabel('Relative Importance')\n",
    "plt.show()"
   ]
  },
  {
   "cell_type": "code",
   "execution_count": 107,
   "metadata": {},
   "outputs": [
    {
     "name": "stdout",
     "output_type": "stream",
     "text": [
      "MAPE: 0.67 %\n"
     ]
    }
   ],
   "source": [
    "y_pred = rfr.predict(X_test)\n",
    "#print(\"-----\"*10)\n",
    "#print(\"MSE: {:.2f} %\".format(mean_squared_error(y_test.values, y_pred)*100))\n",
    "#print(\"RMSE: {:.2f} %\".format(np.sqrt(mean_squared_error(y_test.values, y_pred)*100)))\n",
    "#print(\"-----\"*10)\n",
    "#print(\"MAE: {:.2f} %\".format(mean_absolute_error(y_test.values, y_pred)*100))\n",
    "print(\"MAPE: {:.2f} %\".format(MAPE(y_test, y_pred) * 100))"
   ]
  },
  {
   "cell_type": "code",
   "execution_count": 39,
   "metadata": {},
   "outputs": [],
   "source": [
    "def accuracy_score(y_true, y_pred):\n",
    "    y_true = np.array(y_true).reshape(1, -1)[0]\n",
    "    y_pred = np.array(y_pred).reshape(1, -1)[0]\n",
    "    mape = np.mean(np.abs(y_true - y_pred) / y_true)\n",
    "    accuracy = 1. - mape\n",
    "    return accuracy"
   ]
  },
  {
   "cell_type": "code",
   "execution_count": 40,
   "metadata": {},
   "outputs": [
    {
     "name": "stderr",
     "output_type": "stream",
     "text": [
      "[Parallel(n_jobs=-1)]: Done  10 out of  10 | elapsed:    9.0s finished\n",
      "[Parallel(n_jobs=4)]: Done  10 out of  10 | elapsed:    0.0s finished\n",
      "[Parallel(n_jobs=-1)]: Done  10 out of  10 | elapsed:    8.7s finished\n",
      "[Parallel(n_jobs=4)]: Done  10 out of  10 | elapsed:    0.0s finished\n",
      "[Parallel(n_jobs=-1)]: Done  10 out of  10 | elapsed:    8.9s finished\n",
      "[Parallel(n_jobs=4)]: Done  10 out of  10 | elapsed:    0.0s finished\n",
      "[Parallel(n_jobs=-1)]: Done  10 out of  10 | elapsed:    9.0s finished\n",
      "[Parallel(n_jobs=4)]: Done  10 out of  10 | elapsed:    0.0s finished\n",
      "[Parallel(n_jobs=-1)]: Done  10 out of  10 | elapsed:    8.7s finished\n",
      "[Parallel(n_jobs=4)]: Done  10 out of  10 | elapsed:    0.0s finished\n",
      "[Parallel(n_jobs=-1)]: Done  10 out of  10 | elapsed:    8.7s finished\n",
      "[Parallel(n_jobs=4)]: Done  10 out of  10 | elapsed:    0.0s finished\n",
      "[Parallel(n_jobs=-1)]: Done  10 out of  10 | elapsed:    8.7s finished\n",
      "[Parallel(n_jobs=4)]: Done  10 out of  10 | elapsed:    0.0s finished\n"
     ]
    },
    {
     "name": "stdout",
     "output_type": "stream",
     "text": [
      "CPU times: user 3min 26s, sys: 3.1 s, total: 3min 29s\n",
      "Wall time: 1min 5s\n"
     ]
    }
   ],
   "source": [
    "%%time\n",
    "from sklearn.model_selection import KFold\n",
    "scores = []\n",
    "mape = []\n",
    "\n",
    "cv = KFold(n_splits=7, shuffle=False)\n",
    "\n",
    "for train_index, val_index in cv.split(X_train):\n",
    "\n",
    "    X_train_cv, X_val, y_train_cv, y_val = X_train.iloc[train_index, :], \\\n",
    "                                            X_train.iloc[val_index, :], \\\n",
    "                                            y_train[train_index], y_train[val_index]\n",
    "    # model\n",
    "    rf_cv = RandomForestRegressor(verbose=-1, n_jobs=-1)\n",
    "    # fit\n",
    "    rf_cv.fit(X_train_cv, y_train_cv)\n",
    "    y_val_pred = rf_cv.predict(X_val)\n",
    "    # add score\n",
    "    scores.append(accuracy_score(y_val, y_val_pred))\n",
    "    # metric mape\n",
    "    mape.append(MAPE(y_val, y_val_pred))"
   ]
  },
  {
   "cell_type": "code",
   "execution_count": 49,
   "metadata": {},
   "outputs": [
    {
     "data": {
      "text/plain": [
       "[<matplotlib.lines.Line2D at 0x1a61ccc278>]"
      ]
     },
     "execution_count": 49,
     "metadata": {},
     "output_type": "execute_result"
    },
    {
     "data": {
      "text/plain": [
       "(0.99, 1)"
      ]
     },
     "execution_count": 49,
     "metadata": {},
     "output_type": "execute_result"
    },
    {
     "data": {
      "text/plain": [
       "Text(0, 0.5, 'scores')"
      ]
     },
     "execution_count": 49,
     "metadata": {},
     "output_type": "execute_result"
    },
    {
     "data": {
      "text/plain": [
       "Text(0.5, 0, 'Fold')"
      ]
     },
     "execution_count": 49,
     "metadata": {},
     "output_type": "execute_result"
    },
    {
     "data": {
      "text/plain": [
       "Text(0.5, 1.0, 'Score of Cross Validation with 10 Folder on Random Forest')"
      ]
     },
     "execution_count": 49,
     "metadata": {},
     "output_type": "execute_result"
    },
    {
     "data": {
      "text/plain": [
       "[<matplotlib.lines.Line2D at 0x1a52e9fda0>]"
      ]
     },
     "execution_count": 49,
     "metadata": {},
     "output_type": "execute_result"
    },
    {
     "data": {
      "text/plain": [
       "Text(0, 0.5, 'MAPE')"
      ]
     },
     "execution_count": 49,
     "metadata": {},
     "output_type": "execute_result"
    },
    {
     "data": {
      "text/plain": [
       "Text(0.5, 0, 'Fold')"
      ]
     },
     "execution_count": 49,
     "metadata": {},
     "output_type": "execute_result"
    },
    {
     "data": {
      "text/plain": [
       "(0, 0.01)"
      ]
     },
     "execution_count": 49,
     "metadata": {},
     "output_type": "execute_result"
    },
    {
     "data": {
      "text/plain": [
       "Text(0.5, 1.0, 'MAPE of Cross Validation with 10 Folder on Random Forest')"
      ]
     },
     "execution_count": 49,
     "metadata": {},
     "output_type": "execute_result"
    },
    {
     "data": {
      "image/png": "[encoded data removed]",
      "text/plain": [
       "<Figure size 1080x576 with 2 Axes>"
      ]
     },
     "metadata": {
      "needs_background": "light"
     },
     "output_type": "display_data"
    }
   ],
   "source": [
    "fig, ax = plt.subplots(1, 2, figsize=(15,8))\n",
    "ax = ax.flatten()\n",
    "ax[0].plot(range(1,8,1), scores, 'g-')\n",
    "ax[0].set_ylim([0.99,1])\n",
    "ax[0].set_ylabel(\"scores\")\n",
    "ax[0].set_xlabel(\"Fold\")\n",
    "ax[0].set_title(\"Score of Cross Validation with 10 Folder on Random Forest\")\n",
    "ax[1].plot(range(1,8,1), mape, 'r-')\n",
    "ax[1].set_ylabel(\"MAPE\")\n",
    "ax[1].set_xlabel(\"Fold\")\n",
    "ax[1].set_ylim([0,0.01])\n",
    "ax[1].set_title(\"MAPE of Cross Validation with 10 Folder on Random Forest\")\n",
    "plt.show()"
   ]
  },
  {
   "cell_type": "code",
   "execution_count": 43,
   "metadata": {},
   "outputs": [],
   "source": [
    "def evaluate(model, test_features, test_labels):\n",
    "    predictions = model.predict(test_features)\n",
    "    mape = MAPE(predictions, test_labels)\n",
    "    accuracy = 100 - mape*100\n",
    "    print('Model Performance')\n",
    "    print('Accuracy = {:0.2f}%.'.format(accuracy))\n",
    "    print('MAPE = {:0.2f}%.'.format(mape*100))\n",
    "    \n",
    "    return accuracy"
   ]
  },
  {
   "cell_type": "code",
   "execution_count": 45,
   "metadata": {},
   "outputs": [
    {
     "data": {
      "text/plain": [
       "RandomForestRegressor(bootstrap=True, criterion='mse', max_depth=80,\n",
       "           max_features=2, max_leaf_nodes=None, min_impurity_decrease=0.0,\n",
       "           min_impurity_split=None, min_samples_leaf=3,\n",
       "           min_samples_split=8, min_weight_fraction_leaf=0.0,\n",
       "           n_estimators=100, n_jobs=1, oob_score=False, random_state=None,\n",
       "           verbose=0, warm_start=False)"
      ]
     },
     "execution_count": 45,
     "metadata": {},
     "output_type": "execute_result"
    },
    {
     "name": "stdout",
     "output_type": "stream",
     "text": [
      "Model Performance\n",
      "Accuracy = 97.71%.\n",
      "MAPE = 2.29%.\n"
     ]
    },
    {
     "data": {
      "text/plain": [
       "97.7135296184178"
      ]
     },
     "execution_count": 45,
     "metadata": {},
     "output_type": "execute_result"
    }
   ],
   "source": [
    "best_param_cv = {\n",
    "    'bootstrap': True,\n",
    "    'max_depth': 80,\n",
    "    'max_features': 2,\n",
    "    'min_samples_split': 8,\n",
    "    'min_samples_leaf': 3,\n",
    "    'n_estimators': 100\n",
    "}\n",
    "rf = RandomForestRegressor(**best_param_cv)\n",
    "rf.fit(X_train, y_train)\n",
    "evaluate(rf, X_test, y_test)"
   ]
  },
  {
   "cell_type": "code",
   "execution_count": null,
   "metadata": {},
   "outputs": [],
   "source": []
  }
 ],
 "metadata": {
  "kernelspec": {
   "display_name": "Python 3",
   "language": "python",
   "name": "python3"
  },
  "language_info": {
   "codemirror_mode": {
    "name": "ipython",
    "version": 3
   },
   "file_extension": ".py",
   "mimetype": "text/x-python",
   "name": "python",
   "nbconvert_exporter": "python",
   "pygments_lexer": "ipython3",
   "version": "3.6.5"
  }
 },
 "nbformat": 4,
 "nbformat_minor": 4
}
