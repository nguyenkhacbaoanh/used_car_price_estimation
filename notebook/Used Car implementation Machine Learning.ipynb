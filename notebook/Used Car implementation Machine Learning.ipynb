{
 "cells": [
  {
   "cell_type": "markdown",
   "metadata": {},
   "source": [
    "# importation les libraries"
   ]
  },
  {
   "cell_type": "code",
   "execution_count": 1,
   "metadata": {},
   "outputs": [
    {
     "name": "stderr",
     "output_type": "stream",
     "text": [
      "/Users/nguyenkhacbaoanh/anaconda3/lib/python3.6/site-packages/sklearn/ensemble/weight_boosting.py:29: DeprecationWarning: numpy.core.umath_tests is an internal NumPy module and should not be imported. It will be removed in a future NumPy release.\n",
      "  from numpy.core.umath_tests import inner1d\n"
     ]
    }
   ],
   "source": [
    "import warnings\n",
    "warnings.filterwarnings('ignore')\n",
    "\n",
    "import pandas as pd\n",
    "import numpy as np\n",
    "import matplotlib\n",
    "import matplotlib.pyplot as plt\n",
    "import os\n",
    "import re\n",
    "from datetime import datetime\n",
    "from sklearn.preprocessing import LabelEncoder, MultiLabelBinarizer, LabelBinarizer, OneHotEncoder\n",
    "from sklearn.model_selection import train_test_split\n",
    "from sklearn.ensemble import (RandomForestRegressor,\n",
    "                              AdaBoostRegressor,\n",
    "                              GradientBoostingRegressor,\n",
    "                              ExtraTreesRegressor,\n",
    "                              BaggingRegressor)\n",
    "from sklearn.linear_model import Lasso, Ridge, LinearRegression\n",
    "from sklearn.tree import DecisionTreeRegressor, ExtraTreeRegressor\n",
    "from sklearn.neighbors import NearestNeighbors\n",
    "from sklearn.metrics import mean_absolute_error, mean_squared_error\n",
    "from sklearn.dummy import DummyRegressor\n",
    "from sklearn.metrics import make_scorer\n",
    "from sklearn.model_selection import GridSearchCV, RandomizedSearchCV\n",
    "from sklearn.externals import joblib\n",
    "from sklearn.base import TransformerMixin, BaseEstimator\n",
    "from sklearn.pipeline import FeatureUnion, make_pipeline\n",
    "from sklearn_pandas import DataFrameMapper, CategoricalImputer\n",
    "from sklearn.preprocessing import Imputer\n",
    "import lightgbm as lgb\n",
    "from sklearn.model_selection import KFold\n",
    "from collections import defaultdict\n",
    "%matplotlib inline"
   ]
  },
  {
   "cell_type": "markdown",
   "metadata": {},
   "source": [
    "### Metric function"
   ]
  },
  {
   "cell_type": "markdown",
   "metadata": {},
   "source": [
    "- On definier le metric: le moyen d'absolu des pourcentage d'erreur\n",
    "- Ce métrique nous permet de savoir combien le pourcentage d'erreur sur chaque sample que le model prédit"
   ]
  },
  {
   "cell_type": "code",
   "execution_count": 2,
   "metadata": {},
   "outputs": [],
   "source": [
    "def MAPE(y_true, y_pred):\n",
    "    # assuré que les parameters entrés sont 1D array\n",
    "    y_true = np.array(y_true).reshape(1, -1)[0]\n",
    "    y_pred = np.array(y_pred).reshape(1, -1)[0]\n",
    "    return np.mean(np.abs(y_true - y_pred) / y_true)"
   ]
  },
  {
   "cell_type": "code",
   "execution_count": 3,
   "metadata": {},
   "outputs": [],
   "source": [
    "# fonction de calculation le performance du model: 1 - MAPE\n",
    "def accuracy_score(y_true, y_pred):\n",
    "    y_true = np.array(y_true).reshape(1, -1)[0]\n",
    "    y_pred = np.array(y_pred).reshape(1, -1)[0]\n",
    "    mape = np.mean(np.abs(y_true - y_pred) / y_true)\n",
    "    accuracy = 1. - mape\n",
    "    return accuracy"
   ]
  },
  {
   "cell_type": "code",
   "execution_count": 4,
   "metadata": {},
   "outputs": [],
   "source": [
    "def evaluate(model, test_features, test_labels):\n",
    "    predictions = model.predict(test_features)\n",
    "    mape = MAPE(predictions, test_labels)\n",
    "    accuracy = 100 - mape*100\n",
    "    print('Model Performance')\n",
    "    print('Accuracy = {:0.2f}%.'.format(accuracy))\n",
    "    print('MAPE = {:0.2f}%.'.format(mape*100))\n",
    "    \n",
    "    return accuracy"
   ]
  },
  {
   "cell_type": "markdown",
   "metadata": {},
   "source": [
    "# Data source"
   ]
  },
  {
   "cell_type": "markdown",
   "metadata": {},
   "source": [
    "## Data Origin"
   ]
  },
  {
   "cell_type": "code",
   "execution_count": 2,
   "metadata": {},
   "outputs": [],
   "source": [
    "NOTEBOOK_DIR = os.getcwd()\n",
    "BASE_DIR = os.path.dirname(NOTEBOOK_DIR)\n",
    "DATA_DIR = os.path.join(BASE_DIR, \"data\")\n",
    "DATA_DIR_PATH = os.path.join(DATA_DIR, \"Data_cars.csv\")\n",
    "DATA_ZIP_DIR_PATH = os.path.join(DATA_DIR, \"Data_cars.csv.zip\")"
   ]
  },
  {
   "cell_type": "code",
   "execution_count": 5,
   "metadata": {},
   "outputs": [
    {
     "data": {
      "text/html": [
       "<div>\n",
       "<style scoped>\n",
       "    .dataframe tbody tr th:only-of-type {\n",
       "        vertical-align: middle;\n",
       "    }\n",
       "\n",
       "    .dataframe tbody tr th {\n",
       "        vertical-align: top;\n",
       "    }\n",
       "\n",
       "    .dataframe thead th {\n",
       "        text-align: right;\n",
       "    }\n",
       "</style>\n",
       "<table border=\"1\" class=\"dataframe\">\n",
       "  <thead>\n",
       "    <tr style=\"text-align: right;\">\n",
       "      <th></th>\n",
       "      <th>Price</th>\n",
       "      <th>Make</th>\n",
       "      <th>Model</th>\n",
       "      <th>Model_year</th>\n",
       "      <th>Mileage</th>\n",
       "      <th>Fuel</th>\n",
       "      <th>Gearbox</th>\n",
       "      <th>Online</th>\n",
       "      <th>Description</th>\n",
       "    </tr>\n",
       "  </thead>\n",
       "  <tbody>\n",
       "    <tr>\n",
       "      <th>0</th>\n",
       "      <td>11220.0</td>\n",
       "      <td>PEUGEOT</td>\n",
       "      <td>308</td>\n",
       "      <td>2014</td>\n",
       "      <td>94341.0 km</td>\n",
       "      <td>Diesel</td>\n",
       "      <td>mécanique</td>\n",
       "      <td>06/07/2018 à 3h47</td>\n",
       "      <td>modele: 308 (2E GENERATION), version: 1.6 HDI ...</td>\n",
       "    </tr>\n",
       "    <tr>\n",
       "      <th>1</th>\n",
       "      <td>57526.0</td>\n",
       "      <td>BMW</td>\n",
       "      <td>X6</td>\n",
       "      <td>2015</td>\n",
       "      <td>39051.0 km</td>\n",
       "      <td>Diesel</td>\n",
       "      <td>automatique</td>\n",
       "      <td>03/04/2018 à 16h41</td>\n",
       "      <td>modele: X6 F16, version: (F16) XDRIVE30D 258 M...</td>\n",
       "    </tr>\n",
       "    <tr>\n",
       "      <th>2</th>\n",
       "      <td>80379.0</td>\n",
       "      <td>AUDI</td>\n",
       "      <td>RS6</td>\n",
       "      <td>2014</td>\n",
       "      <td>75381.0 km</td>\n",
       "      <td>Essence</td>\n",
       "      <td>automatique</td>\n",
       "      <td>30/07/2018 à 1h55</td>\n",
       "      <td>modele: RS6 (3E GENERATION) AVANT, version: II...</td>\n",
       "    </tr>\n",
       "    <tr>\n",
       "      <th>3</th>\n",
       "      <td>2830.0</td>\n",
       "      <td>FORD</td>\n",
       "      <td>KA</td>\n",
       "      <td>2007</td>\n",
       "      <td>92282.0 km</td>\n",
       "      <td>Essence</td>\n",
       "      <td>mécanique</td>\n",
       "      <td>09/07/2018 à 14h12</td>\n",
       "      <td>modele: KA, version: 1.3 70 FUN, puissance_fis...</td>\n",
       "    </tr>\n",
       "    <tr>\n",
       "      <th>4</th>\n",
       "      <td>12925.0</td>\n",
       "      <td>FIAT</td>\n",
       "      <td>TIPO</td>\n",
       "      <td>2018</td>\n",
       "      <td>10.0 km</td>\n",
       "      <td>Essence</td>\n",
       "      <td>mécanique</td>\n",
       "      <td>19/05/2018 à 3h52</td>\n",
       "      <td>modele: TIPO 2 SW, version: II SW 1.4 95 POP, ...</td>\n",
       "    </tr>\n",
       "  </tbody>\n",
       "</table>\n",
       "</div>"
      ],
      "text/plain": [
       "     Price     Make Model  Model_year     Mileage     Fuel      Gearbox  \\\n",
       "0  11220.0  PEUGEOT   308        2014  94341.0 km   Diesel    mécanique   \n",
       "1  57526.0      BMW    X6        2015  39051.0 km   Diesel  automatique   \n",
       "2  80379.0     AUDI   RS6        2014  75381.0 km  Essence  automatique   \n",
       "3   2830.0     FORD    KA        2007  92282.0 km  Essence    mécanique   \n",
       "4  12925.0     FIAT  TIPO        2018     10.0 km  Essence    mécanique   \n",
       "\n",
       "               Online                                        Description  \n",
       "0   06/07/2018 à 3h47  modele: 308 (2E GENERATION), version: 1.6 HDI ...  \n",
       "1  03/04/2018 à 16h41  modele: X6 F16, version: (F16) XDRIVE30D 258 M...  \n",
       "2   30/07/2018 à 1h55  modele: RS6 (3E GENERATION) AVANT, version: II...  \n",
       "3  09/07/2018 à 14h12  modele: KA, version: 1.3 70 FUN, puissance_fis...  \n",
       "4   19/05/2018 à 3h52  modele: TIPO 2 SW, version: II SW 1.4 95 POP, ...  "
      ]
     },
     "execution_count": 5,
     "metadata": {},
     "output_type": "execute_result"
    }
   ],
   "source": [
    "if not os.path.exists(DATA_DIR_PATH):\n",
    "    !unzip \"${DATA_ZIP_DIR_PATH}\"\n",
    "\n",
    "data_car = pd.read_csv(DATA_DIR_PATH)\n",
    "\n",
    "data_car.head()"
   ]
  },
  {
   "cell_type": "code",
   "execution_count": 6,
   "metadata": {},
   "outputs": [
    {
     "name": "stdout",
     "output_type": "stream",
     "text": [
      "<class 'pandas.core.frame.DataFrame'>\n",
      "RangeIndex: 166695 entries, 0 to 166694\n",
      "Data columns (total 9 columns):\n",
      "Price          166695 non-null float64\n",
      "Make           166695 non-null object\n",
      "Model          166695 non-null object\n",
      "Model_year     166695 non-null int64\n",
      "Mileage        166695 non-null object\n",
      "Fuel           166695 non-null object\n",
      "Gearbox        166695 non-null object\n",
      "Online         166695 non-null object\n",
      "Description    166695 non-null object\n",
      "dtypes: float64(1), int64(1), object(7)\n",
      "memory usage: 11.4+ MB\n"
     ]
    }
   ],
   "source": [
    "data_car.info()"
   ]
  },
  {
   "cell_type": "markdown",
   "metadata": {},
   "source": [
    "# Preprocessing"
   ]
  },
  {
   "cell_type": "markdown",
   "metadata": {},
   "source": [
    "## Function"
   ]
  },
  {
   "cell_type": "markdown",
   "metadata": {},
   "source": [
    "- En premier temps, nous utilisons les fonctions qui permets rapidement de transformer et/ou extraire des features"
   ]
  },
  {
   "cell_type": "code",
   "execution_count": 7,
   "metadata": {},
   "outputs": [],
   "source": [
    "def online_clean(df):\n",
    "    \"\"\"\n",
    "    Traitement les champs en type de string et en datatime format et le convertir en type datetime\n",
    "    \"\"\"\n",
    "    datetime_format = \"%d/%m/%Y à %Hh%M\"\n",
    "    df.Online = [datetime.strptime(d, datetime_format) for d in df.Online.values]\n",
    "    return df\n",
    "\n",
    "def mileage_clean(df):\n",
    "    \"\"\"\n",
    "    convertir le champ kilometrage de string vers float\n",
    "    \"\"\"\n",
    "    df.Mileage = [float(m.split(' ')[0]) for m in df.Mileage.values]\n",
    "    return df\n",
    "\n",
    "def descriptions_clean(df):\n",
    "    \"\"\"\n",
    "    extraire le champe de descriptions:\n",
    "    - version\n",
    "    - puissance fiscale\n",
    "    - le nombre de la porte\n",
    "    - les options\n",
    "    - la couleur\n",
    "    \"\"\"\n",
    "    regex_pattern = r\"modele:\\s*(?P<modele>.*?(?=,)),\\sversion:\\s*(?P<version>.*?(?=,)),\\spuissance_fiscale:\\s*(?P<puissance_fiscale>.*?(?=,)),\\sportes:\\s*(?P<portes>.*?(?=,)),\\soptions:\\s*(?P<Descriptions>.*?(?=,)),\\scouleur:\\s(?P<couleur>.*$)\"\n",
    "    version = []\n",
    "    puissance_fiscale = []\n",
    "    portes = []\n",
    "    options = []\n",
    "    couleur = []\n",
    "    for i in range(df.shape[0]):\n",
    "        match = re.search(regex_pattern, df.Description[i])\n",
    "        version.append(match.group(2))\n",
    "        puissance_fiscale.append(match.group(3))\n",
    "        portes.append(match.group(4))\n",
    "        options.append(match.group(5))\n",
    "        couleur.append(match.group(6))\n",
    "    df[\"version\"] = list(map(str.lower, version))\n",
    "    df[\"puissance_fiscale\"] = puissance_fiscale\n",
    "    df[\"portes\"] = portes\n",
    "    df[\"options\"] = options\n",
    "    df[\"couleur\"] = list(map(str.lower, couleur))\n",
    "    del df[\"Description\"]\n",
    "    return df\n",
    "\n",
    "def cylindre_cv_extra(df):\n",
    "    \"\"\"\n",
    "    a partir de colone `version`, on extrait le nombre de:\n",
    "    - cylindré\n",
    "    - cv\n",
    "    \"\"\"\n",
    "    regex_cyclindre = \"\\d+[\\.,]\\d+\"\n",
    "    regex_cv = \"\\s+\\d{1,3}\\s?\"\n",
    "    cylindre = []\n",
    "    cheveaux = []\n",
    "    for i in range(df.version.shape[0]):\n",
    "        if df.version[i] == 'ii allurehdifap2.0150cv':\n",
    "            df.version[i] = 'ii allurehdifap 2.0 150cv'\n",
    "        #print(i, data_car_preprocessed.version[i])\n",
    "        text = df.version[i]\n",
    "        # supprimer les nombres du kilogmetrage dans le text\n",
    "        text = re.sub(\"\\d+[\\.,]\\d+km\", \"\", text)\n",
    "        text = re.sub(\"(159.226|76.538|87.480|71.000)\", \"\", text)\n",
    "        cl = re.findall(regex_cyclindre, text)\n",
    "        text = re.sub(regex_cyclindre, \"\", text)\n",
    "        # supprimer les nombres du porte dans text\n",
    "        text = re.sub(\"\\d+p\", \"\", text)\n",
    "        cv = re.findall(regex_cv, text)\n",
    "        if len(cl) == 0:\n",
    "            #print(\"None\")\n",
    "            cylindre.append(np.nan)\n",
    "        else:\n",
    "            #print(\"More 2\")\n",
    "            cylindre.append(float(cl[0].strip().replace(\",\", \".\")))\n",
    "\n",
    "        if len(cv) == 0:\n",
    "            cheveaux.append(np.nan)\n",
    "        else:\n",
    "            cheveaux.append(int(cv[0].strip()))\n",
    "        #cylindre.append(re.findall(regex, data_car_preprocessed.version[i])[0])\n",
    "    # print(len(cv), len(cylindre), df.shape)\n",
    "    df[\"cylindre\"] = cylindre\n",
    "    df[\"cv\"] = cheveaux\n",
    "    return df\n",
    "\n",
    "def price_log_transformation(df):\n",
    "    df[\"log_price\"] = np.log(df.Price.values)\n",
    "    #del df[\"Price\"]\n",
    "    return df\n",
    "\n",
    "def car_age(df):\n",
    "    \"\"\"\n",
    "    new feature pour l'age de la voiture\n",
    "    \"\"\"\n",
    "    df[\"age\"] = [int(df.loc[i,\"Online\"].year) - int(df.loc[i, \"Model_year\"]) for i in range(df.shape[0])]\n",
    "    return df\n",
    "\n",
    "# en raison que les models machine learning ont besoin de type en Integer ou Float\n",
    "def categorical_variables(df):\n",
    "    del df[\"options\"]\n",
    "    categorical_v = [\"Make\", \"Model\", \"Fuel\", \"Gearbox\", \"couleur\"]\n",
    "    df[categorical_v] = df[categorical_v].apply(LabelEncoder().fit_transform)\n",
    "    return df\n",
    "\n",
    "def preprocessing(data, preprocessors=None):\n",
    "    df = data.copy(deep=True)\n",
    "    if preprocessors is not None:\n",
    "        for preprocessor in preprocessors:\n",
    "            df = preprocessor(df)\n",
    "        return df\n",
    "    else:\n",
    "        return df"
   ]
  },
  {
   "cell_type": "code",
   "execution_count": 8,
   "metadata": {},
   "outputs": [
    {
     "data": {
      "text/html": [
       "<div>\n",
       "<style scoped>\n",
       "    .dataframe tbody tr th:only-of-type {\n",
       "        vertical-align: middle;\n",
       "    }\n",
       "\n",
       "    .dataframe tbody tr th {\n",
       "        vertical-align: top;\n",
       "    }\n",
       "\n",
       "    .dataframe thead th {\n",
       "        text-align: right;\n",
       "    }\n",
       "</style>\n",
       "<table border=\"1\" class=\"dataframe\">\n",
       "  <thead>\n",
       "    <tr style=\"text-align: right;\">\n",
       "      <th></th>\n",
       "      <th>Price</th>\n",
       "      <th>Make</th>\n",
       "      <th>Model</th>\n",
       "      <th>Model_year</th>\n",
       "      <th>Mileage</th>\n",
       "      <th>Fuel</th>\n",
       "      <th>Gearbox</th>\n",
       "      <th>Online</th>\n",
       "      <th>version</th>\n",
       "      <th>puissance_fiscale</th>\n",
       "      <th>portes</th>\n",
       "      <th>couleur</th>\n",
       "      <th>cylindre</th>\n",
       "      <th>cv</th>\n",
       "      <th>age</th>\n",
       "      <th>log_price</th>\n",
       "    </tr>\n",
       "  </thead>\n",
       "  <tbody>\n",
       "    <tr>\n",
       "      <th>0</th>\n",
       "      <td>11220.0</td>\n",
       "      <td>70</td>\n",
       "      <td>46</td>\n",
       "      <td>2014</td>\n",
       "      <td>94341.0</td>\n",
       "      <td>3</td>\n",
       "      <td>1</td>\n",
       "      <td>2018-07-06 03:47:00</td>\n",
       "      <td>1.6 hdi fap 92ch business 5p</td>\n",
       "      <td>4</td>\n",
       "      <td>5.0</td>\n",
       "      <td>881</td>\n",
       "      <td>1.6</td>\n",
       "      <td>92.0</td>\n",
       "      <td>4</td>\n",
       "      <td>9.325453</td>\n",
       "    </tr>\n",
       "    <tr>\n",
       "      <th>1</th>\n",
       "      <td>57526.0</td>\n",
       "      <td>13</td>\n",
       "      <td>814</td>\n",
       "      <td>2015</td>\n",
       "      <td>39051.0</td>\n",
       "      <td>3</td>\n",
       "      <td>0</td>\n",
       "      <td>2018-04-03 16:41:00</td>\n",
       "      <td>(f16) xdrive30d 258 m sport bva8</td>\n",
       "      <td>16</td>\n",
       "      <td>5.0</td>\n",
       "      <td>2194</td>\n",
       "      <td>NaN</td>\n",
       "      <td>258.0</td>\n",
       "      <td>3</td>\n",
       "      <td>10.959992</td>\n",
       "    </tr>\n",
       "    <tr>\n",
       "      <th>2</th>\n",
       "      <td>80379.0</td>\n",
       "      <td>7</td>\n",
       "      <td>635</td>\n",
       "      <td>2014</td>\n",
       "      <td>75381.0</td>\n",
       "      <td>5</td>\n",
       "      <td>0</td>\n",
       "      <td>2018-07-30 01:55:00</td>\n",
       "      <td>iii avant 4.0 tfsi 560 quattro tiptronic</td>\n",
       "      <td>47</td>\n",
       "      <td>5.0</td>\n",
       "      <td>4957</td>\n",
       "      <td>4.0</td>\n",
       "      <td>560.0</td>\n",
       "      <td>4</td>\n",
       "      <td>11.294508</td>\n",
       "    </tr>\n",
       "    <tr>\n",
       "      <th>3</th>\n",
       "      <td>2830.0</td>\n",
       "      <td>34</td>\n",
       "      <td>462</td>\n",
       "      <td>2007</td>\n",
       "      <td>92282.0</td>\n",
       "      <td>5</td>\n",
       "      <td>1</td>\n",
       "      <td>2018-07-09 14:12:00</td>\n",
       "      <td>1.3 70 fun</td>\n",
       "      <td>5</td>\n",
       "      <td>3.0</td>\n",
       "      <td>4089</td>\n",
       "      <td>1.3</td>\n",
       "      <td>70.0</td>\n",
       "      <td>11</td>\n",
       "      <td>7.948032</td>\n",
       "    </tr>\n",
       "    <tr>\n",
       "      <th>4</th>\n",
       "      <td>12925.0</td>\n",
       "      <td>32</td>\n",
       "      <td>739</td>\n",
       "      <td>2018</td>\n",
       "      <td>10.0</td>\n",
       "      <td>5</td>\n",
       "      <td>1</td>\n",
       "      <td>2018-05-19 03:52:00</td>\n",
       "      <td>ii sw 1.4 95 pop</td>\n",
       "      <td>5</td>\n",
       "      <td>5.0</td>\n",
       "      <td>1258</td>\n",
       "      <td>1.4</td>\n",
       "      <td>95.0</td>\n",
       "      <td>0</td>\n",
       "      <td>9.466919</td>\n",
       "    </tr>\n",
       "  </tbody>\n",
       "</table>\n",
       "</div>"
      ],
      "text/plain": [
       "     Price  Make  Model  Model_year  Mileage  Fuel  Gearbox  \\\n",
       "0  11220.0    70     46        2014  94341.0     3        1   \n",
       "1  57526.0    13    814        2015  39051.0     3        0   \n",
       "2  80379.0     7    635        2014  75381.0     5        0   \n",
       "3   2830.0    34    462        2007  92282.0     5        1   \n",
       "4  12925.0    32    739        2018     10.0     5        1   \n",
       "\n",
       "               Online                                   version  \\\n",
       "0 2018-07-06 03:47:00              1.6 hdi fap 92ch business 5p   \n",
       "1 2018-04-03 16:41:00          (f16) xdrive30d 258 m sport bva8   \n",
       "2 2018-07-30 01:55:00  iii avant 4.0 tfsi 560 quattro tiptronic   \n",
       "3 2018-07-09 14:12:00                                1.3 70 fun   \n",
       "4 2018-05-19 03:52:00                          ii sw 1.4 95 pop   \n",
       "\n",
       "  puissance_fiscale portes  couleur  cylindre     cv  age  log_price  \n",
       "0                 4    5.0      881       1.6   92.0    4   9.325453  \n",
       "1                16    5.0     2194       NaN  258.0    3  10.959992  \n",
       "2                47    5.0     4957       4.0  560.0    4  11.294508  \n",
       "3                 5    3.0     4089       1.3   70.0   11   7.948032  \n",
       "4                 5    5.0     1258       1.4   95.0    0   9.466919  "
      ]
     },
     "execution_count": 8,
     "metadata": {},
     "output_type": "execute_result"
    }
   ],
   "source": [
    "data = preprocessing(data_car, [online_clean, \\\n",
    "                                mileage_clean, \\\n",
    "                                descriptions_clean, \\\n",
    "                                cylindre_cv_extra, \\\n",
    "                                car_age,\n",
    "                                price_log_transformation, \\\n",
    "                                categorical_variables])\n",
    "\n",
    "data.head()"
   ]
  },
  {
   "cell_type": "code",
   "execution_count": 9,
   "metadata": {},
   "outputs": [
    {
     "name": "stdout",
     "output_type": "stream",
     "text": [
      "<class 'pandas.core.frame.DataFrame'>\n",
      "RangeIndex: 166695 entries, 0 to 166694\n",
      "Data columns (total 16 columns):\n",
      "Price                166695 non-null float64\n",
      "Make                 166695 non-null int64\n",
      "Model                166695 non-null int64\n",
      "Model_year           166695 non-null int64\n",
      "Mileage              166695 non-null float64\n",
      "Fuel                 166695 non-null int64\n",
      "Gearbox              166695 non-null int64\n",
      "Online               166695 non-null datetime64[ns]\n",
      "version              166695 non-null object\n",
      "puissance_fiscale    166695 non-null object\n",
      "portes               166695 non-null object\n",
      "couleur              166695 non-null int64\n",
      "cylindre             136619 non-null float64\n",
      "cv                   158458 non-null float64\n",
      "age                  166695 non-null int64\n",
      "log_price            166695 non-null float64\n",
      "dtypes: datetime64[ns](1), float64(5), int64(7), object(3)\n",
      "memory usage: 20.3+ MB\n"
     ]
    }
   ],
   "source": [
    "data.info()"
   ]
  },
  {
   "cell_type": "code",
   "execution_count": 10,
   "metadata": {},
   "outputs": [],
   "source": [
    "data[[\"puissance_fiscale\", \"portes\"]] = data[[\"puissance_fiscale\", \"portes\"]].apply(pd.to_numeric)\n",
    "#test = data[[\"spuissance_fiscale\", \"portes\"]].apply(pd.to_numeric)\n",
    "#data[test[\"portes\"].isna()]"
   ]
  },
  {
   "cell_type": "markdown",
   "metadata": {},
   "source": [
    "- Dans la data origin, le nombre de porte sont en chiffre, donc qu'on pourrais les traiter en numérique catégorie\n",
    "- La prochaine étape, il y a des features externes qui sont récupéré par le scrapping, dont le port est présenté en chain de caractère. Dans ce cas la, il nous faut d'ajouter la colone `portes` dans la fonction `category_variable()`"
   ]
  },
  {
   "cell_type": "markdown",
   "metadata": {},
   "source": [
    "## Imputation missing value"
   ]
  },
  {
   "cell_type": "markdown",
   "metadata": {},
   "source": [
    "### Using Mean Imputation"
   ]
  },
  {
   "cell_type": "markdown",
   "metadata": {},
   "source": [
    "- La simple moyenne de résoudre les valeurs manquantes dans la dataset est d'utiliser le fonction Imputer avec les stratégie comme: `mean`, `median`, `most_frequent` etc (comme les codes au-dessous)"
   ]
  },
  {
   "cell_type": "markdown",
   "metadata": {},
   "source": [
    "from sklearn.preprocessing import Imputer\n",
    "imp = Imputer(missing_values=np.nan, strategy='mean')\n",
    "imp = imp.fit(X_train)"
   ]
  },
  {
   "cell_type": "markdown",
   "metadata": {},
   "source": [
    "- Nous allons utiliser cette moyenne afin de remplir les valeurs manquantes de `portes` colonne avec le stratégie `most_frequent`."
   ]
  },
  {
   "cell_type": "markdown",
   "metadata": {},
   "source": [
    "### Imputer les portes manquantes en stratégie: most_frequent"
   ]
  },
  {
   "cell_type": "code",
   "execution_count": 11,
   "metadata": {},
   "outputs": [],
   "source": [
    "port_imp = Imputer(missing_values=np.nan, strategy='most_frequent')\n",
    "data[\"portes\"] = port_imp.fit_transform(data[\"portes\"].values.reshape(-1,1)).reshape(1, -1)[0]"
   ]
  },
  {
   "cell_type": "code",
   "execution_count": 12,
   "metadata": {
    "scrolled": false
   },
   "outputs": [
    {
     "data": {
      "text/plain": [
       "Price                    0\n",
       "Make                     0\n",
       "Model                    0\n",
       "Model_year               0\n",
       "Mileage                  0\n",
       "Fuel                     0\n",
       "Gearbox                  0\n",
       "Online                   0\n",
       "version                  0\n",
       "puissance_fiscale        0\n",
       "portes                   0\n",
       "couleur                  0\n",
       "cylindre             30076\n",
       "cv                    8237\n",
       "age                      0\n",
       "log_price                0\n",
       "dtype: int64"
      ]
     },
     "execution_count": 12,
     "metadata": {},
     "output_type": "execute_result"
    }
   ],
   "source": [
    "data.isnull().sum()"
   ]
  },
  {
   "cell_type": "markdown",
   "metadata": {},
   "source": [
    "### Using linear regression"
   ]
  },
  {
   "cell_type": "markdown",
   "metadata": {},
   "source": [
    "- As we know that there are a high correlation between number of cv - number of cylindre and price, it means that the higher of cv or of cylindre and the higher car's price.\n",
    " \n",
    "- So we decide to use linear regression to fulfill all missing values"
   ]
  },
  {
   "cell_type": "code",
   "execution_count": 13,
   "metadata": {},
   "outputs": [
    {
     "data": {
      "text/plain": [
       "LinearRegression(copy_X=True, fit_intercept=True, n_jobs=1, normalize=False)"
      ]
     },
     "execution_count": 13,
     "metadata": {},
     "output_type": "execute_result"
    },
    {
     "data": {
      "text/plain": [
       "LinearRegression(copy_X=True, fit_intercept=True, n_jobs=1, normalize=False)"
      ]
     },
     "execution_count": 13,
     "metadata": {},
     "output_type": "execute_result"
    }
   ],
   "source": [
    "missing_v_feature = [\"cylindre\", \"cv\"]\n",
    "for f in missing_v_feature:\n",
    "    # les prix qui ont les cylindre ou cv manquant\n",
    "    missing_data_price = data.loc[data[f].isnull().values, \"Price\"].values.reshape(-1,1)\n",
    "    # les index de ces prix\n",
    "    missing_data_index = data.loc[data[f].isnull().values, \"Price\"].index.values\n",
    "    # le dataframe qui ont pas les null sur la colonne de cylindré ou cv, qui va être utilisé pour le train\n",
    "    dt = data.loc[data[f].notnull(), [\"Price\", f]]\n",
    "\n",
    "    m = LinearRegression()\n",
    "    # training le model linear regressor avec X=prix et y=cylindré ou y=cv\n",
    "    m.fit(X = dt[\"Price\"].values.reshape(-1,1), y = dt[f].values.reshape(-1,1))\n",
    "    # prédire sur le nombre de cv ou cylindré en ulisant le prix\n",
    "    missing_data_pred = m.predict(missing_data_price)\n",
    "    # remplir les valeurs manquants par ce qui est prédit dans le model linear regressor\n",
    "    data[f][missing_data_index] = missing_data_pred.reshape(1, -1)[0]"
   ]
  },
  {
   "cell_type": "code",
   "execution_count": 14,
   "metadata": {
    "scrolled": true
   },
   "outputs": [
    {
     "data": {
      "text/plain": [
       "Price                0\n",
       "Make                 0\n",
       "Model                0\n",
       "Model_year           0\n",
       "Mileage              0\n",
       "Fuel                 0\n",
       "Gearbox              0\n",
       "Online               0\n",
       "version              0\n",
       "puissance_fiscale    0\n",
       "portes               0\n",
       "couleur              0\n",
       "cylindre             0\n",
       "cv                   0\n",
       "age                  0\n",
       "log_price            0\n",
       "dtype: int64"
      ]
     },
     "execution_count": 14,
     "metadata": {},
     "output_type": "execute_result"
    }
   ],
   "source": [
    "data.isnull().sum()"
   ]
  },
  {
   "cell_type": "markdown",
   "metadata": {},
   "source": [
    "- All's right. il n'en plus les valeurs manquant dans la dataset"
   ]
  },
  {
   "cell_type": "markdown",
   "metadata": {},
   "source": [
    "## Data preparation"
   ]
  },
  {
   "cell_type": "markdown",
   "metadata": {},
   "source": [
    "- Definir les features applicable dans le model machine learning et le target (label)"
   ]
  },
  {
   "cell_type": "code",
   "execution_count": 15,
   "metadata": {},
   "outputs": [],
   "source": [
    "features = ['Make', 'Model', 'Model_year', 'Mileage', 'Fuel', 'Gearbox', 'puissance_fiscale', 'portes', 'couleur', 'age', 'cylindre', 'cv']\n",
    "target = [\"log_price\"]"
   ]
  },
  {
   "cell_type": "code",
   "execution_count": 17,
   "metadata": {},
   "outputs": [],
   "source": [
    "target = data[target]\n",
    "data = data[features]"
   ]
  },
  {
   "cell_type": "code",
   "execution_count": 18,
   "metadata": {},
   "outputs": [
    {
     "name": "stdout",
     "output_type": "stream",
     "text": [
      "dataset a 12 features et 166695 samples\n"
     ]
    }
   ],
   "source": [
    "print(\"dataset a {} features et {} samples\".format(data.shape[1], data.shape[0]))"
   ]
  },
  {
   "cell_type": "markdown",
   "metadata": {},
   "source": [
    "- Spliter les données en train et test set"
   ]
  },
  {
   "cell_type": "code",
   "execution_count": 39,
   "metadata": {},
   "outputs": [
    {
     "data": {
      "text/plain": [
       "((133356, 12), (33339, 12), (133356, 1), (33339, 1))"
      ]
     },
     "execution_count": 39,
     "metadata": {},
     "output_type": "execute_result"
    }
   ],
   "source": [
    "X_train, X_test, y_train, y_test = train_test_split(data, target, test_size=0.2, random_state=42)\n",
    "X_train.shape, X_test.shape, y_train.shape, y_test.shape"
   ]
  },
  {
   "cell_type": "markdown",
   "metadata": {},
   "source": [
    "### Naive Approche"
   ]
  },
  {
   "cell_type": "markdown",
   "metadata": {},
   "source": [
    "- Utilise le naif approche pour voir le résultat de prédiction de prix sans appliquer l'apprentissage"
   ]
  },
  {
   "cell_type": "code",
   "execution_count": 40,
   "metadata": {},
   "outputs": [
    {
     "data": {
      "text/plain": [
       "DummyRegressor(constant=None, quantile=None, strategy='mean')"
      ]
     },
     "execution_count": 40,
     "metadata": {},
     "output_type": "execute_result"
    },
    {
     "name": "stdout",
     "output_type": "stream",
     "text": [
      "--------------------------------------------------\n",
      "MAPE: 100.98 %\n",
      "--------------------------------------------------\n",
      "Performance du model: -0.98 %\n"
     ]
    }
   ],
   "source": [
    "dr = DummyRegressor(strategy=\"mean\")\n",
    "dr.fit(X_train, y_train)\n",
    "y_pred = dr.predict(X_test)\n",
    "print(\"-----\"*10)\n",
    "print(\"MAPE: {:.2f} %\".format(MAPE(np.exp(y_test.values), np.exp(y_pred)) * 100))\n",
    "print(\"-----\"*10)\n",
    "print(\"Performance du model: {:.2f} %\".format(100 - MAPE(np.exp(y_test.values), np.exp(y_pred)) * 100))"
   ]
  },
  {
   "cell_type": "markdown",
   "metadata": {},
   "source": [
    "- Comme on a vu que le MAPE est supérieur à 100 %, c'est à dire `DummyRegressor` est trompé plus 100% dans la prédiction."
   ]
  },
  {
   "cell_type": "markdown",
   "metadata": {},
   "source": [
    "## Model `Random forest` appliqué"
   ]
  },
  {
   "cell_type": "markdown",
   "metadata": {},
   "source": [
    "- En choissant aléatoire ce model parce que son connu dans la machine learning et aussi qui est utilisé beaucoup dans la prédiction de label en nummérique continue."
   ]
  },
  {
   "cell_type": "markdown",
   "metadata": {},
   "source": [
    "### Model RandomForest sans hyperparameter"
   ]
  },
  {
   "cell_type": "code",
   "execution_count": 41,
   "metadata": {},
   "outputs": [
    {
     "data": {
      "text/plain": [
       "RandomForestRegressor(bootstrap=True, criterion='mse', max_depth=None,\n",
       "           max_features='auto', max_leaf_nodes=None,\n",
       "           min_impurity_decrease=0.0, min_impurity_split=None,\n",
       "           min_samples_leaf=1, min_samples_split=2,\n",
       "           min_weight_fraction_leaf=0.0, n_estimators=10, n_jobs=1,\n",
       "           oob_score=False, random_state=42, verbose=0, warm_start=False)"
      ]
     },
     "execution_count": 41,
     "metadata": {},
     "output_type": "execute_result"
    }
   ],
   "source": [
    "rfr = RandomForestRegressor(random_state=42)\n",
    "rfr.fit(X_train, y_train.values)"
   ]
  },
  {
   "cell_type": "markdown",
   "metadata": {},
   "source": [
    "### Features d'importance"
   ]
  },
  {
   "cell_type": "code",
   "execution_count": 42,
   "metadata": {},
   "outputs": [
    {
     "data": {
      "text/plain": [
       "<Figure size 1152x576 with 0 Axes>"
      ]
     },
     "execution_count": 42,
     "metadata": {},
     "output_type": "execute_result"
    },
    {
     "data": {
      "text/plain": [
       "Text(0.5, 1.0, 'Feature Importances')"
      ]
     },
     "execution_count": 42,
     "metadata": {},
     "output_type": "execute_result"
    },
    {
     "data": {
      "text/plain": [
       "<BarContainer object of 12 artists>"
      ]
     },
     "execution_count": 42,
     "metadata": {},
     "output_type": "execute_result"
    },
    {
     "data": {
      "text/plain": [
       "([<matplotlib.axis.YTick at 0x1a25a58320>,\n",
       "  <matplotlib.axis.YTick at 0x1a25b66e48>,\n",
       "  <matplotlib.axis.YTick at 0x1a25c14ac8>,\n",
       "  <matplotlib.axis.YTick at 0x11ffb3780>,\n",
       "  <matplotlib.axis.YTick at 0x11ffb57f0>,\n",
       "  <matplotlib.axis.YTick at 0x11ffb6908>,\n",
       "  <matplotlib.axis.YTick at 0x11ffbad30>,\n",
       "  <matplotlib.axis.YTick at 0x11ffc0c18>,\n",
       "  <matplotlib.axis.YTick at 0x11ffc6160>,\n",
       "  <matplotlib.axis.YTick at 0x11ffc8320>,\n",
       "  <matplotlib.axis.YTick at 0x11ffc87f0>,\n",
       "  <matplotlib.axis.YTick at 0x11ffca6a0>],\n",
       " <a list of 12 Text yticklabel objects>)"
      ]
     },
     "execution_count": 42,
     "metadata": {},
     "output_type": "execute_result"
    },
    {
     "data": {
      "text/plain": [
       "Text(0.5, 0, 'Relative Importance')"
      ]
     },
     "execution_count": 42,
     "metadata": {},
     "output_type": "execute_result"
    },
    {
     "data": {
      "image/png": "[encoded data removed]",
      "text/plain": [
       "<Figure size 1152x576 with 1 Axes>"
      ]
     },
     "metadata": {
      "needs_background": "light"
     },
     "output_type": "display_data"
    }
   ],
   "source": [
    "features = X_train.columns\n",
    "importances = rfr.feature_importances_\n",
    "indices = np.argsort(importances)\n",
    "\n",
    "plt.figure(figsize=(16,8))\n",
    "plt.title('Feature Importances')\n",
    "plt.barh(range(len(indices)), importances[indices], color='b', align='center')\n",
    "plt.yticks(range(len(indices)), [features[i] for i in indices])\n",
    "plt.xlabel('Relative Importance')\n",
    "#plt.show()"
   ]
  },
  {
   "cell_type": "code",
   "execution_count": 44,
   "metadata": {},
   "outputs": [
    {
     "name": "stdout",
     "output_type": "stream",
     "text": [
      "--------------------------------------------------\n",
      "MAPE: 14.77 %\n",
      "--------------------------------------------------\n"
     ]
    }
   ],
   "source": [
    "#X_test_imp = imp.transform(X_test)\n",
    "rfr = RandomForestRegressor(random_state=42)\n",
    "rfr.fit(X_train, y_train.values)\n",
    "y_pred = rfr.predict(X_test)\n",
    "print(\"-----\"*10)\n",
    "print(\"MAPE: {:.2f} %\".format(MAPE(np.exp(y_test.values.reshape(1, -1)[0]), np.exp(y_pred)) * 100))\n",
    "print(\"-----\"*10)"
   ]
  },
  {
   "cell_type": "code",
   "execution_count": 45,
   "metadata": {},
   "outputs": [
    {
     "data": {
      "text/plain": [
       "0.1477206640584618"
      ]
     },
     "execution_count": 45,
     "metadata": {},
     "output_type": "execute_result"
    }
   ],
   "source": [
    "np.mean(np.abs(np.exp(y_test.values.reshape(1, -1)[0]) - np.exp(y_pred))/np.exp(y_test.values.reshape(1, -1)[0]))"
   ]
  },
  {
   "cell_type": "markdown",
   "metadata": {},
   "source": [
    "Sans Hyperparameter sur le model `Randomforest`\n",
    "\n",
    "- En premier temps, j'utilise `Imputer`avec `mean` stratégie pour imputer les valeurs manquantes:\n",
    "    - MAPE = 0.17 = 17%\n",
    "- En deuxième temps, après d'extraction des nouveaux features: le nombre de cheveaux (`cv`) & de cylindré (`cylindre`), l'utilisation de `LinearRegressor` afin d'imputer les deux features manquantes grâce à ses fortes corrélation avec le prix:\n",
    "    - MAPE = 0.1435 = 14.35%\n",
    "- En changeant `random_state` lors de spliter la data, le MAPE est 7.07%. Donc le model est très variété ou le model sans hyperparameter n'est pas capable générerer sur les nouveaux datasets."
   ]
  },
  {
   "cell_type": "markdown",
   "metadata": {},
   "source": [
    "### Remarque: Le model est sur-apprentissage\n",
    "- le model n'est pas stable, c'est à dire, il n'est pas capable de générer sur les nouvelles données.\n",
    "- Afin de savoir, comment se passe-t-il, re-lancer le `randomforest` sans précise le random_state, la prédiction ou autrement dire, le MAPE est parfois est mauvais résultat: plus 100% de MAPE"
   ]
  },
  {
   "cell_type": "markdown",
   "metadata": {},
   "source": [
    "### Utilisation de `Cross Validation` afin de tester le stabilisation du model"
   ]
  },
  {
   "cell_type": "markdown",
   "metadata": {},
   "source": [
    "- Une autre moyenne pour tester le model en utilisant le cross validation"
   ]
  },
  {
   "cell_type": "code",
   "execution_count": 49,
   "metadata": {},
   "outputs": [
    {
     "name": "stderr",
     "output_type": "stream",
     "text": [
      "[Parallel(n_jobs=-1)]: Done  10 out of  10 | elapsed:    3.6s finished\n",
      "[Parallel(n_jobs=4)]: Done  10 out of  10 | elapsed:    0.0s finished\n",
      "[Parallel(n_jobs=-1)]: Done  10 out of  10 | elapsed:    3.4s finished\n",
      "[Parallel(n_jobs=4)]: Done  10 out of  10 | elapsed:    0.0s finished\n",
      "[Parallel(n_jobs=-1)]: Done  10 out of  10 | elapsed:    3.4s finished\n",
      "[Parallel(n_jobs=4)]: Done  10 out of  10 | elapsed:    0.0s finished\n",
      "[Parallel(n_jobs=-1)]: Done  10 out of  10 | elapsed:    3.4s finished\n",
      "[Parallel(n_jobs=4)]: Done  10 out of  10 | elapsed:    0.0s finished\n",
      "[Parallel(n_jobs=-1)]: Done  10 out of  10 | elapsed:    3.0s finished\n",
      "[Parallel(n_jobs=4)]: Done  10 out of  10 | elapsed:    0.0s finished\n",
      "[Parallel(n_jobs=-1)]: Done  10 out of  10 | elapsed:    3.2s finished\n",
      "[Parallel(n_jobs=4)]: Done  10 out of  10 | elapsed:    0.0s finished\n",
      "[Parallel(n_jobs=-1)]: Done  10 out of  10 | elapsed:    3.1s finished\n",
      "[Parallel(n_jobs=4)]: Done  10 out of  10 | elapsed:    0.0s finished\n",
      "[Parallel(n_jobs=-1)]: Done  10 out of  10 | elapsed:    3.2s finished\n",
      "[Parallel(n_jobs=4)]: Done  10 out of  10 | elapsed:    0.0s finished\n",
      "[Parallel(n_jobs=-1)]: Done  10 out of  10 | elapsed:    3.0s finished\n",
      "[Parallel(n_jobs=4)]: Done  10 out of  10 | elapsed:    0.0s finished\n",
      "[Parallel(n_jobs=-1)]: Done  10 out of  10 | elapsed:    3.6s finished\n",
      "[Parallel(n_jobs=4)]: Done  10 out of  10 | elapsed:    0.0s finished\n",
      "[Parallel(n_jobs=-1)]: Done  10 out of  10 | elapsed:    3.0s finished\n",
      "[Parallel(n_jobs=4)]: Done  10 out of  10 | elapsed:    0.0s finished\n",
      "[Parallel(n_jobs=-1)]: Done  10 out of  10 | elapsed:    3.2s finished\n",
      "[Parallel(n_jobs=4)]: Done  10 out of  10 | elapsed:    0.0s finished\n",
      "[Parallel(n_jobs=-1)]: Done  10 out of  10 | elapsed:    3.1s finished\n",
      "[Parallel(n_jobs=4)]: Done  10 out of  10 | elapsed:    0.0s finished\n",
      "[Parallel(n_jobs=-1)]: Done  10 out of  10 | elapsed:    3.1s finished\n",
      "[Parallel(n_jobs=4)]: Done  10 out of  10 | elapsed:    0.0s finished\n",
      "[Parallel(n_jobs=-1)]: Done  10 out of  10 | elapsed:    3.0s finished\n",
      "[Parallel(n_jobs=4)]: Done  10 out of  10 | elapsed:    0.0s finished\n",
      "[Parallel(n_jobs=-1)]: Done  10 out of  10 | elapsed:    3.2s finished\n",
      "[Parallel(n_jobs=4)]: Done  10 out of  10 | elapsed:    0.0s finished\n",
      "[Parallel(n_jobs=-1)]: Done  10 out of  10 | elapsed:    3.1s finished\n",
      "[Parallel(n_jobs=4)]: Done  10 out of  10 | elapsed:    0.0s finished\n",
      "[Parallel(n_jobs=-1)]: Done  10 out of  10 | elapsed:    3.1s finished\n",
      "[Parallel(n_jobs=4)]: Done  10 out of  10 | elapsed:    0.0s finished\n",
      "[Parallel(n_jobs=-1)]: Done  10 out of  10 | elapsed:    3.0s finished\n",
      "[Parallel(n_jobs=4)]: Done  10 out of  10 | elapsed:    0.0s finished\n"
     ]
    },
    {
     "name": "stdout",
     "output_type": "stream",
     "text": [
      "CPU times: user 3min 25s, sys: 4.45 s, total: 3min 30s\n",
      "Wall time: 1min 8s\n"
     ]
    },
    {
     "name": "stderr",
     "output_type": "stream",
     "text": [
      "[Parallel(n_jobs=-1)]: Done  10 out of  10 | elapsed:    3.3s finished\n",
      "[Parallel(n_jobs=4)]: Done  10 out of  10 | elapsed:    0.0s finished\n"
     ]
    }
   ],
   "source": [
    "%%time\n",
    "scores = []\n",
    "mapes = []\n",
    "\n",
    "cv = KFold(n_splits=20, shuffle=False)\n",
    "\n",
    "for train_index, val_index in cv.split(X_train):\n",
    "\n",
    "    X_train_cv, X_val, y_train_cv, y_val = X_train.iloc[train_index, :], \\\n",
    "                                            X_train.iloc[val_index, :], \\\n",
    "                                            y_train.values[train_index], y_train.values[val_index]\n",
    "    # model\n",
    "    rf_cv = RandomForestRegressor(verbose=-1, n_jobs=-1)\n",
    "    # fit\n",
    "    rf_cv.fit(X_train_cv, y_train_cv)\n",
    "    y_val_pred = rf_cv.predict(X_val)\n",
    "    # add score\n",
    "    scores.append(accuracy_score(np.exp(y_val), np.exp(y_val_pred)))\n",
    "    # metric mape\n",
    "    mapes.append(MAPE(np.exp(y_val.reshape(1, -1)[0]), np.exp(y_val_pred)))"
   ]
  },
  {
   "cell_type": "code",
   "execution_count": 51,
   "metadata": {},
   "outputs": [
    {
     "data": {
      "text/plain": [
       "[<matplotlib.lines.Line2D at 0x1a25f9a5c0>]"
      ]
     },
     "execution_count": 51,
     "metadata": {},
     "output_type": "execute_result"
    },
    {
     "data": {
      "text/plain": [
       "(0, 1)"
      ]
     },
     "execution_count": 51,
     "metadata": {},
     "output_type": "execute_result"
    },
    {
     "data": {
      "text/plain": [
       "Text(0, 0.5, 'scores')"
      ]
     },
     "execution_count": 51,
     "metadata": {},
     "output_type": "execute_result"
    },
    {
     "data": {
      "text/plain": [
       "Text(0.5, 0, 'Fold')"
      ]
     },
     "execution_count": 51,
     "metadata": {},
     "output_type": "execute_result"
    },
    {
     "data": {
      "text/plain": [
       "Text(0.5, 1.0, 'Score of Cross Validation with 10 Folder on Random Forest')"
      ]
     },
     "execution_count": 51,
     "metadata": {},
     "output_type": "execute_result"
    },
    {
     "data": {
      "text/plain": [
       "[<matplotlib.lines.Line2D at 0x1a257bf630>]"
      ]
     },
     "execution_count": 51,
     "metadata": {},
     "output_type": "execute_result"
    },
    {
     "data": {
      "text/plain": [
       "Text(0, 0.5, 'MAPE')"
      ]
     },
     "execution_count": 51,
     "metadata": {},
     "output_type": "execute_result"
    },
    {
     "data": {
      "text/plain": [
       "Text(0.5, 0, 'Fold')"
      ]
     },
     "execution_count": 51,
     "metadata": {},
     "output_type": "execute_result"
    },
    {
     "data": {
      "text/plain": [
       "(0, 1)"
      ]
     },
     "execution_count": 51,
     "metadata": {},
     "output_type": "execute_result"
    },
    {
     "data": {
      "text/plain": [
       "Text(0.5, 1.0, 'MAPE of Cross Validation with 10 Folder on Random Forest')"
      ]
     },
     "execution_count": 51,
     "metadata": {},
     "output_type": "execute_result"
    },
    {
     "data": {
      "image/png": "[encoded data removed]",
      "text/plain": [
       "<Figure size 1080x576 with 2 Axes>"
      ]
     },
     "metadata": {
      "needs_background": "light"
     },
     "output_type": "display_data"
    }
   ],
   "source": [
    "fig, ax = plt.subplots(1, 2, figsize=(15,8))\n",
    "ax = ax.flatten()\n",
    "ax[0].plot(range(1,21,1), scores, 'g-')\n",
    "ax[0].set_ylim([0,1])\n",
    "ax[0].set_ylabel(\"scores\")\n",
    "ax[0].set_xlabel(\"Fold\")\n",
    "ax[0].set_title(\"Score of Cross Validation with 10 Folder on Random Forest\")\n",
    "ax[1].plot(range(1,21,1), mapes, 'r-')\n",
    "ax[1].set_ylabel(\"MAPE\")\n",
    "ax[1].set_xlabel(\"Fold\")\n",
    "ax[1].set_ylim([0,1])\n",
    "ax[1].set_title(\"MAPE of Cross Validation with 10 Folder on Random Forest\")\n",
    "plt.show()"
   ]
  },
  {
   "cell_type": "markdown",
   "metadata": {},
   "source": [
    "- le model a eu le résultat étrange car en deux dernier folds, il y une chute énormément\n",
    "=> analist les erreurs, explorer le fold particulère, le model particulier pour un model par example"
   ]
  },
  {
   "cell_type": "markdown",
   "metadata": {},
   "source": [
    "## Comparaison multiples models"
   ]
  },
  {
   "cell_type": "code",
   "execution_count": 52,
   "metadata": {},
   "outputs": [
    {
     "name": "stdout",
     "output_type": "stream",
     "text": [
      "CPU times: user 4min 15s, sys: 6.22 s, total: 4min 22s\n",
      "Wall time: 2min 55s\n"
     ]
    }
   ],
   "source": [
    "%%time\n",
    "models = [\n",
    "    (\"RandomForest\", RandomForestRegressor()),\n",
    "    (\"AdaBoost\", AdaBoostRegressor()),\n",
    "    (\"GradientBoosting\", GradientBoostingRegressor()),\n",
    "    (\"ExtraTreesEnsemble\", ExtraTreesRegressor()),\n",
    "    (\"Bagging\", BaggingRegressor()),\n",
    "    (\"Lasso\", Lasso()),\n",
    "    (\"Ridge\", Ridge()),\n",
    "    (\"DecisionTree\", DecisionTreeRegressor()),\n",
    "    (\"ExtraTree\", ExtraTreeRegressor())\n",
    "]\n",
    "\n",
    "scores = defaultdict(list)\n",
    "mapes = defaultdict(list)\n",
    "\n",
    "cv = KFold(n_splits=5, shuffle=False)\n",
    "\n",
    "for name, model in models:\n",
    "    for train_index, val_index in cv.split(X_train):\n",
    "\n",
    "        X_train_cv, X_val, y_train_cv, y_val = X_train.iloc[train_index, :], \\\n",
    "                                                X_train.iloc[val_index, :], \\\n",
    "                                                y_train.values[train_index], y_train.values[val_index]\n",
    "        # model\n",
    "        # rf_cv = RandomForestRegressor(verbose=-1, n_jobs=-1)\n",
    "        # fit\n",
    "        model.fit(X_train_cv, y_train_cv)\n",
    "        y_val_pred = model.predict(X_val)\n",
    "        # add score\n",
    "        scores[name].append(accuracy_score(np.exp(y_val), np.exp(y_val_pred)))\n",
    "        # metric mape\n",
    "        mapes[name].append(MAPE(np.exp(y_val.reshape(1, -1)[0]), np.exp(y_val_pred)))\n",
    "    "
   ]
  },
  {
   "cell_type": "code",
   "execution_count": 53,
   "metadata": {},
   "outputs": [
    {
     "data": {
      "text/plain": [
       "Text(0.5, 0, 'Number of Fold')"
      ]
     },
     "execution_count": 53,
     "metadata": {},
     "output_type": "execute_result"
    },
    {
     "data": {
      "text/plain": [
       "Text(0, 0.5, 'Score')"
      ]
     },
     "execution_count": 53,
     "metadata": {},
     "output_type": "execute_result"
    },
    {
     "data": {
      "text/plain": [
       "(0, 1)"
      ]
     },
     "execution_count": 53,
     "metadata": {},
     "output_type": "execute_result"
    },
    {
     "data": {
      "text/plain": [
       "Text(0.5, 1.0, 'Score of Cross Validation with 10 Folder on Multiple Models')"
      ]
     },
     "execution_count": 53,
     "metadata": {},
     "output_type": "execute_result"
    },
    {
     "data": {
      "text/plain": [
       "[<matplotlib.lines.Line2D at 0x1a264ea438>]"
      ]
     },
     "execution_count": 53,
     "metadata": {},
     "output_type": "execute_result"
    },
    {
     "data": {
      "text/plain": [
       "[<matplotlib.lines.Line2D at 0x1105b9668>]"
      ]
     },
     "execution_count": 53,
     "metadata": {},
     "output_type": "execute_result"
    },
    {
     "data": {
      "text/plain": [
       "[<matplotlib.lines.Line2D at 0x1a26556eb8>]"
      ]
     },
     "execution_count": 53,
     "metadata": {},
     "output_type": "execute_result"
    },
    {
     "data": {
      "text/plain": [
       "[<matplotlib.lines.Line2D at 0x1a2655a9b0>]"
      ]
     },
     "execution_count": 53,
     "metadata": {},
     "output_type": "execute_result"
    },
    {
     "data": {
      "text/plain": [
       "[<matplotlib.lines.Line2D at 0x1a2655ab38>]"
      ]
     },
     "execution_count": 53,
     "metadata": {},
     "output_type": "execute_result"
    },
    {
     "data": {
      "text/plain": [
       "[<matplotlib.lines.Line2D at 0x1a2655ec50>]"
      ]
     },
     "execution_count": 53,
     "metadata": {},
     "output_type": "execute_result"
    },
    {
     "data": {
      "text/plain": [
       "[<matplotlib.lines.Line2D at 0x1a2655eda0>]"
      ]
     },
     "execution_count": 53,
     "metadata": {},
     "output_type": "execute_result"
    },
    {
     "data": {
      "text/plain": [
       "[<matplotlib.lines.Line2D at 0x1a26560fd0>]"
      ]
     },
     "execution_count": 53,
     "metadata": {},
     "output_type": "execute_result"
    },
    {
     "data": {
      "text/plain": [
       "[<matplotlib.lines.Line2D at 0x1a26569940>]"
      ]
     },
     "execution_count": 53,
     "metadata": {},
     "output_type": "execute_result"
    },
    {
     "data": {
      "text/plain": [
       "<matplotlib.legend.Legend at 0x1a2656b518>"
      ]
     },
     "execution_count": 53,
     "metadata": {},
     "output_type": "execute_result"
    },
    {
     "data": {
      "text/plain": [
       "Text(0.5, 0, 'Number of Fold')"
      ]
     },
     "execution_count": 53,
     "metadata": {},
     "output_type": "execute_result"
    },
    {
     "data": {
      "text/plain": [
       "Text(0, 0.5, 'Mape')"
      ]
     },
     "execution_count": 53,
     "metadata": {},
     "output_type": "execute_result"
    },
    {
     "data": {
      "text/plain": [
       "(0, 1)"
      ]
     },
     "execution_count": 53,
     "metadata": {},
     "output_type": "execute_result"
    },
    {
     "data": {
      "text/plain": [
       "Text(0.5, 1.0, 'Mape of Cross Validation with 10 Folder on Multiple Models')"
      ]
     },
     "execution_count": 53,
     "metadata": {},
     "output_type": "execute_result"
    },
    {
     "data": {
      "text/plain": [
       "[<matplotlib.lines.Line2D at 0x1a26569a90>]"
      ]
     },
     "execution_count": 53,
     "metadata": {},
     "output_type": "execute_result"
    },
    {
     "data": {
      "text/plain": [
       "[<matplotlib.lines.Line2D at 0x1a26590d68>]"
      ]
     },
     "execution_count": 53,
     "metadata": {},
     "output_type": "execute_result"
    },
    {
     "data": {
      "text/plain": [
       "[<matplotlib.lines.Line2D at 0x1a26592da0>]"
      ]
     },
     "execution_count": 53,
     "metadata": {},
     "output_type": "execute_result"
    },
    {
     "data": {
      "text/plain": [
       "[<matplotlib.lines.Line2D at 0x1a26597978>]"
      ]
     },
     "execution_count": 53,
     "metadata": {},
     "output_type": "execute_result"
    },
    {
     "data": {
      "text/plain": [
       "[<matplotlib.lines.Line2D at 0x1a26597b38>]"
      ]
     },
     "execution_count": 53,
     "metadata": {},
     "output_type": "execute_result"
    },
    {
     "data": {
      "text/plain": [
       "[<matplotlib.lines.Line2D at 0x1a26575748>]"
      ]
     },
     "execution_count": 53,
     "metadata": {},
     "output_type": "execute_result"
    },
    {
     "data": {
      "text/plain": [
       "[<matplotlib.lines.Line2D at 0x1a2659ac88>]"
      ]
     },
     "execution_count": 53,
     "metadata": {},
     "output_type": "execute_result"
    },
    {
     "data": {
      "text/plain": [
       "[<matplotlib.lines.Line2D at 0x1a2659af60>]"
      ]
     },
     "execution_count": 53,
     "metadata": {},
     "output_type": "execute_result"
    },
    {
     "data": {
      "text/plain": [
       "[<matplotlib.lines.Line2D at 0x1a2659c9b0>]"
      ]
     },
     "execution_count": 53,
     "metadata": {},
     "output_type": "execute_result"
    },
    {
     "data": {
      "text/plain": [
       "<matplotlib.legend.Legend at 0x1a2652b518>"
      ]
     },
     "execution_count": 53,
     "metadata": {},
     "output_type": "execute_result"
    },
    {
     "data": {
      "image/png": "[encoded data removed]",
      "text/plain": [
       "<Figure size 1152x576 with 2 Axes>"
      ]
     },
     "metadata": {
      "needs_background": "light"
     },
     "output_type": "display_data"
    }
   ],
   "source": [
    "fig, ax = plt.subplots(1, 2, figsize=(16,8))\n",
    "ax = ax.flatten()\n",
    "ax[0].set_xlabel(\"Number of Fold\")\n",
    "ax[0].set_ylabel(\"Score\")\n",
    "ax[0].set_ylim([0,1])\n",
    "ax[0].set_title(\"Score of Cross Validation with 10 Folder on Multiple Models\")\n",
    "for k, v in scores.items():\n",
    "    ax[0].plot(range(1, len(v) + 1), v, '.-', label=k)\n",
    "ax[0].legend()\n",
    "\n",
    "ax[1].set_xlabel(\"Number of Fold\")\n",
    "ax[1].set_ylabel(\"Mape\")\n",
    "ax[1].set_ylim([0,1])\n",
    "ax[1].set_title(\"Mape of Cross Validation with 10 Folder on Multiple Models\")\n",
    "for k, v in mapes.items():\n",
    "    ax[1].plot(range(1, len(v) + 1), v, '.-', label=k)\n",
    "ax[1].legend()\n",
    "\n",
    "plt.show()"
   ]
  },
  {
   "cell_type": "code",
   "execution_count": 40,
   "metadata": {},
   "outputs": [
    {
     "name": "stdout",
     "output_type": "stream",
     "text": [
      "RandomForest [0.08605599045159483, 0.07852743376743623, 3.15285978111941, 0.07912016666783823, 0.07397128954693594]\n",
      "AdaBoost [0.44915827980881656, 0.2926629459844507, 1.8693392200542798, 0.29723646692925565, 0.27709748456802297]\n",
      "GradientBoosting [0.17183793194737124, 0.13538863577608318, 2.925068615037187, 0.13508924275193335, 0.13016470715969936]\n",
      "ExtraTreesEnsemble [0.10311403870231843, 0.08163422054123111, 2.7741793270694624, 0.08125088197756157, 0.07637170209439313]\n",
      "Bagging [0.08685079122836019, 0.07985963181402235, 3.1218028614623283, 0.07916542971826497, 0.07410322702546383]\n",
      "Lasso [0.428411722959461, 0.3672208647157402, 2.972330525833691, 0.2891700178985819, 0.2805389096324802]\n",
      "Ridge [0.35578881638583626, 3.0771479865782077e+40, 2.9098657581249756, 0.2348878055180928, 4.446183977949428e+16]\n",
      "DecisionTree [0.10275885052156236, 0.09865110677945868, 3.247754128728448, 0.09578157901030263, 0.09264332540838219]\n",
      "ExtraTree [0.10872894639325398, 0.10694886369524233, 4.595232935407186, 0.10502913910839799, 0.10443969967504772]\n"
     ]
    }
   ],
   "source": [
    "for i, m in mapes.items():\n",
    "    print(i, m)"
   ]
  },
  {
   "cell_type": "code",
   "execution_count": 54,
   "metadata": {},
   "outputs": [
    {
     "data": {
      "text/plain": [
       "<BarContainer object of 9 artists>"
      ]
     },
     "execution_count": 54,
     "metadata": {},
     "output_type": "execute_result"
    },
    {
     "data": {
      "text/plain": [
       "(0, 1)"
      ]
     },
     "execution_count": 54,
     "metadata": {},
     "output_type": "execute_result"
    },
    {
     "data": {
      "text/plain": [
       "<BarContainer object of 9 artists>"
      ]
     },
     "execution_count": 54,
     "metadata": {},
     "output_type": "execute_result"
    },
    {
     "data": {
      "text/plain": [
       "(0, 1)"
      ]
     },
     "execution_count": 54,
     "metadata": {},
     "output_type": "execute_result"
    },
    {
     "data": {
      "text/plain": [
       "Text(0, 0.5, 'Score')"
      ]
     },
     "execution_count": 54,
     "metadata": {},
     "output_type": "execute_result"
    },
    {
     "data": {
      "text/plain": [
       "Text(0, 0.5, 'MAPE')"
      ]
     },
     "execution_count": 54,
     "metadata": {},
     "output_type": "execute_result"
    },
    {
     "data": {
      "text/plain": [
       "Text(0.5, 0, 'Model')"
      ]
     },
     "execution_count": 54,
     "metadata": {},
     "output_type": "execute_result"
    },
    {
     "data": {
      "image/png": "[encoded data removed]",
      "text/plain": [
       "<Figure size 1152x576 with 2 Axes>"
      ]
     },
     "metadata": {
      "needs_background": "light"
     },
     "output_type": "display_data"
    }
   ],
   "source": [
    "fig, ax = plt.subplots(2, 1, figsize=(16,8))\n",
    "ax = ax.flatten()\n",
    "for a, k in zip(ax, [scores, mapes]):\n",
    "    m_k = k.keys()\n",
    "    m_v = [np.mean(v) for v in k.values()]\n",
    "    a.bar(m_k, m_v)\n",
    "    a.set_ylim(0,1)\n",
    "\n",
    "ax[0].set_ylabel(\"Score\")\n",
    "ax[1].set_ylabel(\"MAPE\")\n",
    "ax[1].set_xlabel(\"Model\")\n",
    "#plt.show()"
   ]
  },
  {
   "cell_type": "markdown",
   "metadata": {},
   "source": [
    "- le résultat disant que l'algorithm `ExtraTreesEnsemble` est le meilleur model"
   ]
  },
  {
   "cell_type": "markdown",
   "metadata": {},
   "source": [
    "## Hyperparameter with Random Forest"
   ]
  },
  {
   "cell_type": "markdown",
   "metadata": {},
   "source": [
    "**Note**: Ne lance pas les cellures au-dessous, ça prend 640 minutes pour obtenir le résultat"
   ]
  },
  {
   "cell_type": "code",
   "execution_count": 52,
   "metadata": {},
   "outputs": [],
   "source": [
    "param_grid = {\n",
    "    'bootstrap': [True],\n",
    "    'max_depth': [80, 90, 100, 110],\n",
    "    'max_features': [2, 3],\n",
    "    'min_samples_leaf': [3, 4, 5],\n",
    "    'min_samples_split': [8, 10, 12],\n",
    "    'n_estimators': [100, 200, 300, 1000]\n",
    "}"
   ]
  },
  {
   "cell_type": "code",
   "execution_count": 43,
   "metadata": {},
   "outputs": [],
   "source": [
    "# X_train, X_test, y_train, y_test\n",
    "# Use the random grid to search for best hyperparameters\n",
    "# First create the base model to tune\n",
    "\n",
    "#rfr = RandomForestRegressor()\n",
    "\n",
    "# Random search of parameters, using 3 fold cross validation, \n",
    "# search across 100 different combinations, and use all available cores\n",
    "\n",
    "#grid_search = GridSearchCV(estimator = rfr, param_grid = param_grid, \n",
    "#                          cv = 3, n_jobs = -1, verbose = 2, scoring=mape_scorer)\n",
    "\n",
    "# Fit the random search model\n",
    "\n",
    "#grid_search.fit(X_train, y_train.values)"
   ]
  },
  {
   "cell_type": "code",
   "execution_count": 55,
   "metadata": {},
   "outputs": [
    {
     "data": {
      "text/plain": [
       "{'bootstrap': True,\n",
       " 'max_depth': 80,\n",
       " 'max_features': 2,\n",
       " 'min_samples_leaf': 3,\n",
       " 'min_samples_split': 8,\n",
       " 'n_estimators': 100}"
      ]
     },
     "execution_count": 55,
     "metadata": {},
     "output_type": "execute_result"
    }
   ],
   "source": [
    "#grid_search.best_params_"
   ]
  },
  {
   "cell_type": "markdown",
   "metadata": {},
   "source": [
    "- en lançant les cellure de GridSearch, nous obtenons le `best_params_`:\n",
    "```json\n",
    "{'bootstrap': True,\n",
    " 'max_depth': 80,\n",
    " 'max_features': 2,\n",
    " 'min_samples_leaf': 3,\n",
    " 'min_samples_split': 8,\n",
    " 'n_estimators': 100}\n",
    "```"
   ]
  },
  {
   "cell_type": "code",
   "execution_count": 60,
   "metadata": {},
   "outputs": [
    {
     "name": "stdout",
     "output_type": "stream",
     "text": [
      "Model Performance\n",
      "Accuracy = 99.17%.\n"
     ]
    }
   ],
   "source": [
    "#best_grid = grid_search.best_estimator_\n",
    "best_params = {\n",
    "    'bootstrap': True,\n",
    "    'max_depth': 80,\n",
    "    'max_features': 2,\n",
    "    'min_samples_leaf': 3,\n",
    "    'min_samples_split': 8,\n",
    "    'n_estimators': 100\n",
    "}\n",
    "rf_best_params = RandomForestRegressor(**best_params)\n",
    "grid_accuracy = evaluate(rf_best_params, X_test, y_test.values)"
   ]
  },
  {
   "cell_type": "markdown",
   "metadata": {},
   "source": [
    "## Save model"
   ]
  },
  {
   "cell_type": "code",
   "execution_count": 59,
   "metadata": {},
   "outputs": [
    {
     "data": {
      "text/plain": [
       "['/Volumes/DataSu/dev/secondhand_car_price_estimation/model/model_rfr.pkl']"
      ]
     },
     "execution_count": 59,
     "metadata": {},
     "output_type": "execute_result"
    }
   ],
   "source": [
    "MODEL_PATH = os.path.join(BASE_DIR, \"model\")\n",
    "if not os.path.exists(MODEL_PATH):\n",
    "    os.makedirs(MODEL_PATH)\n",
    "    joblib.dump(grid_search.best_estimator_, os.path.join(MODEL_PATH, 'model_rfr.pkl'))\n",
    "else:\n",
    "    joblib.dump(grid_search.best_estimator_, os.path.join(MODEL_PATH, 'model_rfr.pkl'))"
   ]
  },
  {
   "cell_type": "markdown",
   "metadata": {},
   "source": [
    "## Evaluation la performance de Model Machine Learning"
   ]
  },
  {
   "cell_type": "code",
   "execution_count": 57,
   "metadata": {},
   "outputs": [
    {
     "data": {
      "text/plain": [
       "RandomForestRegressor(bootstrap=True, criterion='mse', max_depth=80,\n",
       "           max_features=2, max_leaf_nodes=None, min_impurity_decrease=0.0,\n",
       "           min_impurity_split=None, min_samples_leaf=3,\n",
       "           min_samples_split=8, min_weight_fraction_leaf=0.0,\n",
       "           n_estimators=100, n_jobs=1, oob_score=False, random_state=None,\n",
       "           verbose=0, warm_start=False)"
      ]
     },
     "execution_count": 57,
     "metadata": {},
     "output_type": "execute_result"
    },
    {
     "name": "stdout",
     "output_type": "stream",
     "text": [
      "Model Performance\n",
      "Accuracy = 99.17%.\n",
      "MAPE = 0.83%.\n"
     ]
    },
    {
     "data": {
      "text/plain": [
       "99.17275786735678"
      ]
     },
     "execution_count": 57,
     "metadata": {},
     "output_type": "execute_result"
    }
   ],
   "source": [
    "X_train, X_test, y_train, y_test = train_test_split(data, target, test_size=0.2, random_state=42)\n",
    "best_param_cv = {\n",
    "    'bootstrap': True,\n",
    "    'max_depth': 80,\n",
    "    'max_features': 2,\n",
    "    'min_samples_split': 8,\n",
    "    'min_samples_leaf': 3,\n",
    "    'n_estimators': 100\n",
    "}\n",
    "rf = RandomForestRegressor(**best_param_cv)\n",
    "rf.fit(X_train, y_train.values)\n",
    "evaluate(rf, X_test, y_test.values)"
   ]
  },
  {
   "cell_type": "markdown",
   "metadata": {},
   "source": [
    "- Question:\n",
    "    - Comment gérer le sur-apprentissage lors d'appercevoir pendent l'etape cross validation. comment trouver la saison pour laquel model a eu la chute de baisse sur le performance\n",
    "    - En indutrialisation, le Imputation pendant le preprocessing aura l'impact sur la phase de mettre en production?\n",
    "    - En production, comment le model va prédire?"
   ]
  },
  {
   "cell_type": "markdown",
   "metadata": {},
   "source": [
    "# Data External"
   ]
  },
  {
   "cell_type": "markdown",
   "metadata": {},
   "source": [
    "**En scrapping sur le site d'autoplus, on s'intéresse sur les prix initiaux et les bonus et les malus**\n",
    "- le prix initiaux est le prix de la voiture neuve lors de mise en vendre en premier fois, ce feature est important parce que ça existes toujours la comparaison le prix initial avec le prix du vendre sur la voiture secondaire, cela a l'impact sur le prix de vendre\n",
    "- Bonus et Malus: le feature qui réflect sur la polution de la voiture, si la voiture a la valeur possitive, elle est considère que cette voiture est bcp polué et est taxé sur le prix donc que le prix sera élevé, le contraire pour la valeur négative"
   ]
  },
  {
   "cell_type": "code",
   "execution_count": 102,
   "metadata": {},
   "outputs": [],
   "source": [
    "NOTEBOOK_DIR = os.getcwd()\n",
    "BASE_DIR = os.path.dirname(NOTEBOOK_DIR)\n",
    "DATA_DIR = os.path.join(BASE_DIR, \"data\")\n",
    "DATA_EXT_DIR_PATH = os.path.join(DATA_DIR, \"init_price_cleaned.csv\")\n",
    "DATA_EXT_ZIP_DIR_PATH = os.path.join(DATA_DIR, \"init_price_cleaned.csv.zip\")"
   ]
  },
  {
   "cell_type": "code",
   "execution_count": 103,
   "metadata": {},
   "outputs": [
    {
     "data": {
      "text/html": [
       "<div>\n",
       "<style scoped>\n",
       "    .dataframe tbody tr th:only-of-type {\n",
       "        vertical-align: middle;\n",
       "    }\n",
       "\n",
       "    .dataframe tbody tr th {\n",
       "        vertical-align: top;\n",
       "    }\n",
       "\n",
       "    .dataframe thead th {\n",
       "        text-align: right;\n",
       "    }\n",
       "</style>\n",
       "<table border=\"1\" class=\"dataframe\">\n",
       "  <thead>\n",
       "    <tr style=\"text-align: right;\">\n",
       "      <th></th>\n",
       "      <th>Price</th>\n",
       "      <th>Make</th>\n",
       "      <th>Model</th>\n",
       "      <th>Model_year</th>\n",
       "      <th>Mileage</th>\n",
       "      <th>Fuel</th>\n",
       "      <th>Gearbox</th>\n",
       "      <th>Online</th>\n",
       "      <th>version</th>\n",
       "      <th>spuissance_fiscale</th>\n",
       "      <th>portes</th>\n",
       "      <th>options</th>\n",
       "      <th>couleur</th>\n",
       "      <th>starting_price</th>\n",
       "      <th>bonus_malus</th>\n",
       "      <th>puiss_scrap</th>\n",
       "      <th>portes_scrap</th>\n",
       "      <th>Price/Starting Price</th>\n",
       "    </tr>\n",
       "  </thead>\n",
       "  <tbody>\n",
       "    <tr>\n",
       "      <th>0</th>\n",
       "      <td>11220.0</td>\n",
       "      <td>peugeot</td>\n",
       "      <td>308</td>\n",
       "      <td>2014</td>\n",
       "      <td>94341.0 km</td>\n",
       "      <td>Diesel</td>\n",
       "      <td>mécanique</td>\n",
       "      <td>06/07/2018 à 3h47</td>\n",
       "      <td>1.6 hdi fap 92ch business 5p</td>\n",
       "      <td>4</td>\n",
       "      <td>5.0</td>\n",
       "      <td>banquette arrière 3 places;volant cuir;cache b...</td>\n",
       "      <td>blanc banquise</td>\n",
       "      <td>25050.0</td>\n",
       "      <td>0.0</td>\n",
       "      <td>5.0</td>\n",
       "      <td>5</td>\n",
       "      <td>0</td>\n",
       "    </tr>\n",
       "    <tr>\n",
       "      <th>1</th>\n",
       "      <td>2830.0</td>\n",
       "      <td>ford</td>\n",
       "      <td>ka</td>\n",
       "      <td>2007</td>\n",
       "      <td>92282.0 km</td>\n",
       "      <td>Essence</td>\n",
       "      <td>mécanique</td>\n",
       "      <td>09/07/2018 à 14h12</td>\n",
       "      <td>1.3 70 fun</td>\n",
       "      <td>5</td>\n",
       "      <td>3.0</td>\n",
       "      <td>direction assistée;jantes alu;rétroviseurs éle...</td>\n",
       "      <td>jaune</td>\n",
       "      <td>12150.0</td>\n",
       "      <td>150.0</td>\n",
       "      <td>5.0</td>\n",
       "      <td>5</td>\n",
       "      <td>0</td>\n",
       "    </tr>\n",
       "    <tr>\n",
       "      <th>2</th>\n",
       "      <td>12925.0</td>\n",
       "      <td>fiat</td>\n",
       "      <td>tipo</td>\n",
       "      <td>2018</td>\n",
       "      <td>10.0 km</td>\n",
       "      <td>Essence</td>\n",
       "      <td>mécanique</td>\n",
       "      <td>19/05/2018 à 3h52</td>\n",
       "      <td>ii sw 1.4 95 pop</td>\n",
       "      <td>5</td>\n",
       "      <td>5.0</td>\n",
       "      <td>Volant alu &amp; cuir;Bluetooth inclut musique en ...</td>\n",
       "      <td>blanc verni</td>\n",
       "      <td>14990.0</td>\n",
       "      <td>740.0</td>\n",
       "      <td>5.0</td>\n",
       "      <td>4</td>\n",
       "      <td>0</td>\n",
       "    </tr>\n",
       "    <tr>\n",
       "      <th>3</th>\n",
       "      <td>27956.0</td>\n",
       "      <td>bmw</td>\n",
       "      <td>x3</td>\n",
       "      <td>2012</td>\n",
       "      <td>95623.0 km</td>\n",
       "      <td>Diesel</td>\n",
       "      <td>automatique</td>\n",
       "      <td>14/03/2018 à 4h24</td>\n",
       "      <td>(f25) xdrive35d 313 sport design bva8</td>\n",
       "      <td>20</td>\n",
       "      <td>5.0</td>\n",
       "      <td>vitrage calorifuge;triangle de presignalisatio...</td>\n",
       "      <td>saphirschwarz metal</td>\n",
       "      <td>NaN</td>\n",
       "      <td>NaN</td>\n",
       "      <td>NaN</td>\n",
       "      <td>NaN</td>\n",
       "      <td>0</td>\n",
       "    </tr>\n",
       "    <tr>\n",
       "      <th>4</th>\n",
       "      <td>16888.0</td>\n",
       "      <td>audi</td>\n",
       "      <td>a3</td>\n",
       "      <td>2013</td>\n",
       "      <td>49018.0 km</td>\n",
       "      <td>Diesel</td>\n",
       "      <td>mécanique</td>\n",
       "      <td>16/04/2018 à 21h35</td>\n",
       "      <td>ii (2) sportback 2.0 tdi 140 7cv ambition luxe...</td>\n",
       "      <td>7</td>\n",
       "      <td>5.0</td>\n",
       "      <td>\"anti démarrage;radar de recul;prises audio au...</td>\n",
       "      <td>gris clair metal</td>\n",
       "      <td>45070.0</td>\n",
       "      <td>740.0</td>\n",
       "      <td>10.0</td>\n",
       "      <td>5</td>\n",
       "      <td>0</td>\n",
       "    </tr>\n",
       "  </tbody>\n",
       "</table>\n",
       "</div>"
      ],
      "text/plain": [
       "     Price     Make Model  Model_year     Mileage     Fuel      Gearbox  \\\n",
       "0  11220.0  peugeot   308        2014  94341.0 km   Diesel    mécanique   \n",
       "1   2830.0     ford    ka        2007  92282.0 km  Essence    mécanique   \n",
       "2  12925.0     fiat  tipo        2018     10.0 km  Essence    mécanique   \n",
       "3  27956.0      bmw    x3        2012  95623.0 km   Diesel  automatique   \n",
       "4  16888.0     audi    a3        2013  49018.0 km   Diesel    mécanique   \n",
       "\n",
       "               Online                                            version  \\\n",
       "0   06/07/2018 à 3h47                       1.6 hdi fap 92ch business 5p   \n",
       "1  09/07/2018 à 14h12                                         1.3 70 fun   \n",
       "2   19/05/2018 à 3h52                                   ii sw 1.4 95 pop   \n",
       "3   14/03/2018 à 4h24              (f25) xdrive35d 313 sport design bva8   \n",
       "4  16/04/2018 à 21h35  ii (2) sportback 2.0 tdi 140 7cv ambition luxe...   \n",
       "\n",
       "   spuissance_fiscale  portes  \\\n",
       "0                   4     5.0   \n",
       "1                   5     3.0   \n",
       "2                   5     5.0   \n",
       "3                  20     5.0   \n",
       "4                   7     5.0   \n",
       "\n",
       "                                             options              couleur  \\\n",
       "0  banquette arrière 3 places;volant cuir;cache b...       blanc banquise   \n",
       "1  direction assistée;jantes alu;rétroviseurs éle...                jaune   \n",
       "2  Volant alu & cuir;Bluetooth inclut musique en ...          blanc verni   \n",
       "3  vitrage calorifuge;triangle de presignalisatio...  saphirschwarz metal   \n",
       "4  \"anti démarrage;radar de recul;prises audio au...     gris clair metal   \n",
       "\n",
       "   starting_price  bonus_malus  puiss_scrap portes_scrap  Price/Starting Price  \n",
       "0         25050.0          0.0          5.0            5                     0  \n",
       "1         12150.0        150.0          5.0            5                     0  \n",
       "2         14990.0        740.0          5.0            4                     0  \n",
       "3             NaN          NaN          NaN          NaN                     0  \n",
       "4         45070.0        740.0         10.0            5                     0  "
      ]
     },
     "execution_count": 103,
     "metadata": {},
     "output_type": "execute_result"
    }
   ],
   "source": [
    "if not os.path.exists(DATA_EXT_DIR_PATH):\n",
    "    !unzip \"${DATA_EXT_ZIP_DIR_PATH}\"\n",
    "\n",
    "data_ext = pd.read_csv(DATA_EXT_DIR_PATH)\n",
    "\n",
    "data_ext.head()"
   ]
  },
  {
   "cell_type": "markdown",
   "metadata": {},
   "source": [
    "## Spuisance + portes: data original vs data external"
   ]
  },
  {
   "cell_type": "markdown",
   "metadata": {},
   "source": [
    "- Sur autoplus, on scrape non seulement les prix initiaux et les bonus et malus mais aussi les puissance fiscale et le nombre de la porte.\n",
    "- On essaie de matcher (merge) les données scraping avec les données en fonction des caractériques de la voiture: `Make`, `Model`, `Model_year` etc"
   ]
  },
  {
   "cell_type": "code",
   "execution_count": 104,
   "metadata": {},
   "outputs": [
    {
     "data": {
      "text/plain": [
       "1106"
      ]
     },
     "execution_count": 104,
     "metadata": {},
     "output_type": "execute_result"
    }
   ],
   "source": [
    "data_ext[\"portes\"].isnull().sum()"
   ]
  },
  {
   "cell_type": "markdown",
   "metadata": {},
   "source": [
    "- Il y a `1106` valeur manquant sur la data l'origin, on essaie de remplir ces valeurs manquantes par ces portes scraping avant de `Imputation` les valeurs manquantes.\n",
    "- le portes d'origin contient les valeurs représentant en chiffre `float` mais en chain de caractère. Il nous faut les convertir en integer avant de convertir en string. Le but est d'avoir la même format de `porte scrapping`"
   ]
  },
  {
   "cell_type": "code",
   "execution_count": 105,
   "metadata": {},
   "outputs": [],
   "source": [
    "# changer data type: str + float mixture => int => str\n",
    "data_ext[\"portes\"][data_ext[\"portes\"].notnull()] = data_ext[\"portes\"][data_ext[\"portes\"].notnull()]\\\n",
    "                                                    .astype(int, inplace=True)\\\n",
    "                                                    .astype(str, inplace=True)"
   ]
  },
  {
   "cell_type": "code",
   "execution_count": 106,
   "metadata": {},
   "outputs": [],
   "source": [
    "data_ext[\"portes\"] = np.where(\n",
    "    ((data_ext[\"portes\"].isnull()) | (data_ext[\"portes\"] == '0') | (data_ext[\"portes\"] == '6')) \\\n",
    "         & (data_ext[\"portes_scrap\"].notnull()),\n",
    "    data_ext[\"portes_scrap\"],\n",
    "    data_ext[\"portes\"]\n",
    ")"
   ]
  },
  {
   "cell_type": "code",
   "execution_count": 107,
   "metadata": {},
   "outputs": [
    {
     "data": {
      "text/plain": [
       "480"
      ]
     },
     "execution_count": 107,
     "metadata": {},
     "output_type": "execute_result"
    }
   ],
   "source": [
    "data_ext[\"portes\"].isnull().sum()"
   ]
  },
  {
   "cell_type": "markdown",
   "metadata": {},
   "source": [
    "- il nous reste que `480` valeurs manquantes pour la colonne de `portes`. On va utiliser `Imputer` avec le stratégie `most_frequent` afin de les remplir"
   ]
  },
  {
   "cell_type": "markdown",
   "metadata": {},
   "source": [
    "## Data Preprocessing"
   ]
  },
  {
   "cell_type": "markdown",
   "metadata": {},
   "source": [
    "- On définie les `class` de `TransformerMixin` qui nous permet de creer des pipelines de transformation et aussi d'être facilement mise en production"
   ]
  },
  {
   "cell_type": "code",
   "execution_count": 108,
   "metadata": {},
   "outputs": [],
   "source": [
    "class DateOnlineEncoder(TransformerMixin):\n",
    "    def fit(self, X, y=None):\n",
    "        return self\n",
    "    def transform(self, X):\n",
    "        assert isinstance(X, pd.DataFrame)\n",
    "        d_t = [datetime.strptime(c[0], \"%d/%m/%Y à %Hh%M\") for c in X.values]\n",
    "        return np.array(d_t)\n",
    "    \n",
    "class AgeFeature(TransformerMixin):\n",
    "    def fit(self, X, y=None):\n",
    "        return self\n",
    "    def transform(self, X):\n",
    "        assert isinstance(X, pd.DataFrame)\n",
    "        #d_t = [datetime.strptime(c, \"%d/%m/%Y à %Hh%M\") for c in X.iloc[:,0].values]\n",
    "        age = [np.abs(a.year - b) for (a, b) in zip(X.iloc[:,0].values, X.iloc[:,1].values)]\n",
    "        return np.array(age)\n",
    "\n",
    "class MileageClean(TransformerMixin):\n",
    "    def fit(self, X, y=None):\n",
    "        return self\n",
    "    def transform(self, X):\n",
    "        #assert isinstance(X, pd.DataFrame)\n",
    "        return np.array([float(m[0].rstrip('km').strip()) for m in np.array(X.values).reshape(-1, 1)]).reshape(-1,1)\n",
    "    \n",
    "class DesciptionClean(TransformerMixin):\n",
    "    def fit(self, X, y=None):\n",
    "        return self\n",
    "    def transform(self, X):\n",
    "        assert isinstance(X, pd.DataFrame)\n",
    "        def parser():\n",
    "            regex_pattern = r\"modele:\\s*(?P<modele>.*?(?=,)),\\sversion:\\s*(?P<version>.*?(?=,)),\\spuissance_fiscale:\\s*(?P<puissance_fiscale>.*?(?=,)),\\sportes:\\s*(?P<portes>.*?(?=,)),\\soptions:\\s*(?P<Descriptions>.*?(?=,)),\\scouleur:\\s(?P<couleur>.*$)\"\n",
    "            regex_cyclindre = \"\\d+[\\.,]\\d+\"\n",
    "            regex_cv = \"\\s+\\d{1,3}\\s?\"\n",
    "            #version = []\n",
    "            #puissance_fiscale = []\n",
    "            #portes = []\n",
    "            #options = []\n",
    "            #couleur = []\n",
    "            for i in range(X.shape[0]):\n",
    "                match = re.search(regex_pattern, X.values[i][0])\n",
    "                version = match.group(2)\n",
    "                if str(version) == 'ii allurehdifap2.0150cv':\n",
    "                    version = 'ii allurehdifap 2.0 150cv'\n",
    "                version = re.sub(\"\\d+[\\.,]\\d+km\", \"\", version)\n",
    "                version = re.sub(\"(159.226|76.538|87.480|71.000)\", \"\", version)\n",
    "                cl = re.findall(regex_cyclindre, version)\n",
    "                version = re.sub(regex_cyclindre, \"\", version)\n",
    "                version = re.sub(\"\\d+p\", \"\", version)\n",
    "                cv = re.findall(regex_cv, version)\n",
    "                if len(cl) == 0:\n",
    "                    cl = np.nan\n",
    "                else:\n",
    "                    cl = float(cl[0].strip().replace(\",\", \".\"))\n",
    "                if len(cv) == 0:\n",
    "                    cv = np.nan\n",
    "                else:\n",
    "                    cv = int(float(cv[0].strip()))\n",
    "                #version.append(match.group(2))\n",
    "                #puissance_fiscale.append(match.group(3))\n",
    "                #portes.append(match.group(4))\n",
    "                #options.append(match.group(5))\n",
    "                #couleur.append(match.group(6))\n",
    "                yield [cl, cv, pd.to_numeric(match.group(3)), pd.to_numeric(match.group(4)), str(match.group(6)).lower()]\n",
    "\n",
    "        return pd.DataFrame.from_records(list(parser()))\n",
    "\n",
    "class CylindreFeature(TransformerMixin):\n",
    "    def fit(self, X, y=None):\n",
    "        return self\n",
    "    def transform(self, X):\n",
    "        regex_cyclindre = \"\\d+[\\.,]\\d+\"\n",
    "        regex_cv = \"\\s+\\d{1,3}\\s?\"\n",
    "        def parser():\n",
    "            for version in X.values:\n",
    "                version = version[0]\n",
    "                if str(version) == 'ii allurehdifap2.0150cv':\n",
    "                        version = 'ii allurehdifap 2.0 150cv'\n",
    "                version = re.sub(\"\\d+[\\.,]\\d+km\", \"\", version)\n",
    "                version = re.sub(\"(159.226|76.538|87.480|71.000)\", \"\", version)\n",
    "                cl = re.findall(regex_cyclindre, version)\n",
    "                version = re.sub(regex_cyclindre, \"\", version)\n",
    "                version = re.sub(\"\\d+p\", \"\", version)\n",
    "                cv = re.findall(regex_cv, version)\n",
    "                if len(cl) == 0:\n",
    "                    cl = np.nan\n",
    "                else:\n",
    "                    cl = float(cl[0].strip().replace(\",\", \".\"))\n",
    "                if len(cv) == 0:\n",
    "                    cv = np.nan\n",
    "                else:\n",
    "                    cv = int(float(cv[0].strip()))\n",
    "                yield [cl]\n",
    "        return pd.DataFrame.from_records(list(parser()))\n",
    "\n",
    "class CVFeature(TransformerMixin):\n",
    "    def fit(self, X, y=None):\n",
    "        return self\n",
    "    def transform(self, X):\n",
    "        regex_cyclindre = \"\\d+[\\.,]\\d+\"\n",
    "        regex_cv = \"\\s+\\d{1,3}\\s?\"\n",
    "        def parser():\n",
    "            for version in X.values:\n",
    "                version = version[0]\n",
    "                if str(version) == 'ii allurehdifap2.0150cv':\n",
    "                        version = 'ii allurehdifap 2.0 150cv'\n",
    "                version = re.sub(\"\\d+[\\.,]\\d+km\", \"\", version)\n",
    "                version = re.sub(\"(159.226|76.538|87.480|71.000)\", \"\", version)\n",
    "                cl = re.findall(regex_cyclindre, version)\n",
    "                version = re.sub(regex_cyclindre, \"\", version)\n",
    "                version = re.sub(\"\\d+p\", \"\", version)\n",
    "                cv = re.findall(regex_cv, version)\n",
    "                if len(cl) == 0:\n",
    "                    cl = np.nan\n",
    "                else:\n",
    "                    cl = float(cl[0].strip().replace(\",\", \".\"))\n",
    "                if len(cv) == 0:\n",
    "                    cv = np.nan\n",
    "                else:\n",
    "                    cv = int(float(cv[0].strip()))\n",
    "                yield [cv]\n",
    "        return pd.DataFrame.from_records(list(parser()))\n",
    "\n",
    "class LinearRegressorImputer(TransformerMixin):\n",
    "    def fit(self, X, y=None):\n",
    "        return self\n",
    "    def transform(self, X):\n",
    "        #X.iloc[:,0].values, X.iloc[:,1].values\n",
    "        assert isinstance(X, pd.DataFrame)\n",
    "        missing_data_price = X.loc[X.iloc[:,0].isnull().values, \"Price\"].values.reshape(-1,1)\n",
    "        missing_data_index = [i[0] for i in X.loc[X.iloc[:,0].isnull().values, \"Price\"].index.values.reshape(-1,1)]\n",
    "        dt = X.loc[X.iloc[:,0].notnull(), :]\n",
    "        m = LinearRegression()\n",
    "        m.fit(X = dt.iloc[:,1].values.reshape(-1,1), y = dt.iloc[:, 0].values.reshape(-1,1))\n",
    "        missing_data_pred = m.predict(missing_data_price)\n",
    "        \n",
    "        X.iloc[missing_data_index, 0] = missing_data_pred.reshape(1, -1)[0]\n",
    "        return X.iloc[:,0].values\n",
    "\n",
    "class DummiesCategory(BaseEstimator, TransformerMixin):\n",
    "    def __init__(self, columns):\n",
    "        self.columns = columns\n",
    "    def fit(self, X, y=None):\n",
    "        return self\n",
    "\n",
    "    def transform(self, X):\n",
    "        print(pd.get_dummies(X, prefix=self.columns).values)\n",
    "        return pd.get_dummies(X, prefix=self.columns).values\n",
    "    \n",
    "    \n",
    "class CategoryType(TransformerMixin):\n",
    "    def fit(self, X, y=None):\n",
    "        return self\n",
    "\n",
    "    def transform(self, X):\n",
    "        #assert isinstance(X, pd.DataFrame)\n",
    "        return X.astype(\"object\")\n",
    "\n",
    "class TypeSelector(BaseEstimator, TransformerMixin):\n",
    "    def __init__(self, dtype):\n",
    "        self.dtype = dtype\n",
    "\n",
    "    def fit(self, X, y=None):\n",
    "        return self\n",
    "\n",
    "    def transform(self, X):\n",
    "        assert isinstance(X, pd.DataFrame)\n",
    "        return X.select_dtypes(include=[self.dtype])"
   ]
  },
  {
   "cell_type": "markdown",
   "metadata": {},
   "source": [
    "- Premier étape, on fait preprocessing mapper pour la data originale"
   ]
  },
  {
   "cell_type": "code",
   "execution_count": 109,
   "metadata": {},
   "outputs": [
    {
     "data": {
      "text/html": [
       "<div>\n",
       "<style scoped>\n",
       "    .dataframe tbody tr th:only-of-type {\n",
       "        vertical-align: middle;\n",
       "    }\n",
       "\n",
       "    .dataframe tbody tr th {\n",
       "        vertical-align: top;\n",
       "    }\n",
       "\n",
       "    .dataframe thead th {\n",
       "        text-align: right;\n",
       "    }\n",
       "</style>\n",
       "<table border=\"1\" class=\"dataframe\">\n",
       "  <thead>\n",
       "    <tr style=\"text-align: right;\">\n",
       "      <th></th>\n",
       "      <th>Online</th>\n",
       "      <th>Make</th>\n",
       "      <th>Model</th>\n",
       "      <th>Model_year</th>\n",
       "      <th>Mileage</th>\n",
       "      <th>Fuel</th>\n",
       "      <th>Gearbox</th>\n",
       "      <th>Price</th>\n",
       "      <th>version</th>\n",
       "      <th>spuissance_fiscale</th>\n",
       "      <th>portes</th>\n",
       "      <th>options</th>\n",
       "      <th>couleur</th>\n",
       "      <th>starting_price</th>\n",
       "      <th>bonus_malus</th>\n",
       "      <th>puiss_scrap</th>\n",
       "      <th>portes_scrap</th>\n",
       "      <th>Price/Starting Price</th>\n",
       "    </tr>\n",
       "  </thead>\n",
       "  <tbody>\n",
       "    <tr>\n",
       "      <th>0</th>\n",
       "      <td>2018-07-06 03:47:00</td>\n",
       "      <td>peugeot</td>\n",
       "      <td>308</td>\n",
       "      <td>2014</td>\n",
       "      <td>94341.0</td>\n",
       "      <td>Diesel</td>\n",
       "      <td>mécanique</td>\n",
       "      <td>11220.0</td>\n",
       "      <td>1.6 hdi fap 92ch business 5p</td>\n",
       "      <td>4</td>\n",
       "      <td>5</td>\n",
       "      <td>banquette arrière 3 places;volant cuir;cache b...</td>\n",
       "      <td>blanc banquise</td>\n",
       "      <td>25050.0</td>\n",
       "      <td>0.0</td>\n",
       "      <td>5.0</td>\n",
       "      <td>5</td>\n",
       "      <td>0</td>\n",
       "    </tr>\n",
       "    <tr>\n",
       "      <th>1</th>\n",
       "      <td>2018-07-09 14:12:00</td>\n",
       "      <td>ford</td>\n",
       "      <td>ka</td>\n",
       "      <td>2007</td>\n",
       "      <td>92282.0</td>\n",
       "      <td>Essence</td>\n",
       "      <td>mécanique</td>\n",
       "      <td>2830.0</td>\n",
       "      <td>1.3 70 fun</td>\n",
       "      <td>5</td>\n",
       "      <td>3</td>\n",
       "      <td>direction assistée;jantes alu;rétroviseurs éle...</td>\n",
       "      <td>jaune</td>\n",
       "      <td>12150.0</td>\n",
       "      <td>150.0</td>\n",
       "      <td>5.0</td>\n",
       "      <td>5</td>\n",
       "      <td>0</td>\n",
       "    </tr>\n",
       "    <tr>\n",
       "      <th>2</th>\n",
       "      <td>2018-05-19 03:52:00</td>\n",
       "      <td>fiat</td>\n",
       "      <td>tipo</td>\n",
       "      <td>2018</td>\n",
       "      <td>10.0</td>\n",
       "      <td>Essence</td>\n",
       "      <td>mécanique</td>\n",
       "      <td>12925.0</td>\n",
       "      <td>ii sw 1.4 95 pop</td>\n",
       "      <td>5</td>\n",
       "      <td>5</td>\n",
       "      <td>Volant alu &amp; cuir;Bluetooth inclut musique en ...</td>\n",
       "      <td>blanc verni</td>\n",
       "      <td>14990.0</td>\n",
       "      <td>740.0</td>\n",
       "      <td>5.0</td>\n",
       "      <td>4</td>\n",
       "      <td>0</td>\n",
       "    </tr>\n",
       "    <tr>\n",
       "      <th>3</th>\n",
       "      <td>2018-03-14 04:24:00</td>\n",
       "      <td>bmw</td>\n",
       "      <td>x3</td>\n",
       "      <td>2012</td>\n",
       "      <td>95623.0</td>\n",
       "      <td>Diesel</td>\n",
       "      <td>automatique</td>\n",
       "      <td>27956.0</td>\n",
       "      <td>(f25) xdrive35d 313 sport design bva8</td>\n",
       "      <td>20</td>\n",
       "      <td>5</td>\n",
       "      <td>vitrage calorifuge;triangle de presignalisatio...</td>\n",
       "      <td>saphirschwarz metal</td>\n",
       "      <td>NaN</td>\n",
       "      <td>NaN</td>\n",
       "      <td>NaN</td>\n",
       "      <td>NaN</td>\n",
       "      <td>0</td>\n",
       "    </tr>\n",
       "    <tr>\n",
       "      <th>4</th>\n",
       "      <td>2018-04-16 21:35:00</td>\n",
       "      <td>audi</td>\n",
       "      <td>a3</td>\n",
       "      <td>2013</td>\n",
       "      <td>49018.0</td>\n",
       "      <td>Diesel</td>\n",
       "      <td>mécanique</td>\n",
       "      <td>16888.0</td>\n",
       "      <td>ii (2) sportback 2.0 tdi 140 7cv ambition luxe...</td>\n",
       "      <td>7</td>\n",
       "      <td>5</td>\n",
       "      <td>\"anti démarrage;radar de recul;prises audio au...</td>\n",
       "      <td>gris clair metal</td>\n",
       "      <td>45070.0</td>\n",
       "      <td>740.0</td>\n",
       "      <td>10.0</td>\n",
       "      <td>5</td>\n",
       "      <td>0</td>\n",
       "    </tr>\n",
       "  </tbody>\n",
       "</table>\n",
       "</div>"
      ],
      "text/plain": [
       "                Online     Make Model  Model_year  Mileage     Fuel  \\\n",
       "0  2018-07-06 03:47:00  peugeot   308        2014  94341.0   Diesel   \n",
       "1  2018-07-09 14:12:00     ford    ka        2007  92282.0  Essence   \n",
       "2  2018-05-19 03:52:00     fiat  tipo        2018     10.0  Essence   \n",
       "3  2018-03-14 04:24:00      bmw    x3        2012  95623.0   Diesel   \n",
       "4  2018-04-16 21:35:00     audi    a3        2013  49018.0   Diesel   \n",
       "\n",
       "       Gearbox    Price                                            version  \\\n",
       "0    mécanique  11220.0                       1.6 hdi fap 92ch business 5p   \n",
       "1    mécanique   2830.0                                         1.3 70 fun   \n",
       "2    mécanique  12925.0                                   ii sw 1.4 95 pop   \n",
       "3  automatique  27956.0              (f25) xdrive35d 313 sport design bva8   \n",
       "4    mécanique  16888.0  ii (2) sportback 2.0 tdi 140 7cv ambition luxe...   \n",
       "\n",
       "   spuissance_fiscale portes  \\\n",
       "0                   4      5   \n",
       "1                   5      3   \n",
       "2                   5      5   \n",
       "3                  20      5   \n",
       "4                   7      5   \n",
       "\n",
       "                                             options              couleur  \\\n",
       "0  banquette arrière 3 places;volant cuir;cache b...       blanc banquise   \n",
       "1  direction assistée;jantes alu;rétroviseurs éle...                jaune   \n",
       "2  Volant alu & cuir;Bluetooth inclut musique en ...          blanc verni   \n",
       "3  vitrage calorifuge;triangle de presignalisatio...  saphirschwarz metal   \n",
       "4  \"anti démarrage;radar de recul;prises audio au...     gris clair metal   \n",
       "\n",
       "   starting_price  bonus_malus  puiss_scrap portes_scrap  Price/Starting Price  \n",
       "0         25050.0          0.0          5.0            5                     0  \n",
       "1         12150.0        150.0          5.0            5                     0  \n",
       "2         14990.0        740.0          5.0            4                     0  \n",
       "3             NaN          NaN          NaN          NaN                     0  \n",
       "4         45070.0        740.0         10.0            5                     0  "
      ]
     },
     "execution_count": 109,
     "metadata": {},
     "output_type": "execute_result"
    }
   ],
   "source": [
    "preprocessing_mapper = DataFrameMapper([\n",
    "    ([\"Online\"], DateOnlineEncoder()),\n",
    "    (\"Make\", [CategoricalImputer(), CategoryType()]),\n",
    "    (\"Model\", [CategoryType(), CategoricalImputer()]),\n",
    "    (\"Model_year\", CategoricalImputer()),\n",
    "    (\"Mileage\", [MileageClean(), Imputer(strategy='mean')]),\n",
    "    (\"Fuel\", [CategoryType(), CategoricalImputer()]),\n",
    "    (\"Gearbox\", [CategoryType(), CategoricalImputer()]),\n",
    "], input_df=True, df_out=True, default=None)\n",
    "\n",
    "data_preprocessing = preprocessing_mapper.fit_transform(data_ext)\n",
    "data_preprocessing.head()"
   ]
  },
  {
   "cell_type": "markdown",
   "metadata": {},
   "source": [
    "- En deuxième étape, on crees un mapper pour les features"
   ]
  },
  {
   "cell_type": "code",
   "execution_count": 110,
   "metadata": {},
   "outputs": [
    {
     "data": {
      "text/html": [
       "<div>\n",
       "<style scoped>\n",
       "    .dataframe tbody tr th:only-of-type {\n",
       "        vertical-align: middle;\n",
       "    }\n",
       "\n",
       "    .dataframe tbody tr th {\n",
       "        vertical-align: top;\n",
       "    }\n",
       "\n",
       "    .dataframe thead th {\n",
       "        text-align: right;\n",
       "    }\n",
       "</style>\n",
       "<table border=\"1\" class=\"dataframe\">\n",
       "  <thead>\n",
       "    <tr style=\"text-align: right;\">\n",
       "      <th></th>\n",
       "      <th>age</th>\n",
       "      <th>Model_year</th>\n",
       "      <th>cylindre</th>\n",
       "      <th>cv</th>\n",
       "      <th>Make</th>\n",
       "      <th>Model</th>\n",
       "      <th>Mileage</th>\n",
       "      <th>Fuel</th>\n",
       "      <th>Gearbox</th>\n",
       "      <th>Price</th>\n",
       "      <th>spuissance_fiscale</th>\n",
       "      <th>portes</th>\n",
       "      <th>options</th>\n",
       "      <th>couleur</th>\n",
       "      <th>starting_price</th>\n",
       "      <th>bonus_malus</th>\n",
       "      <th>puiss_scrap</th>\n",
       "      <th>portes_scrap</th>\n",
       "      <th>Price/Starting Price</th>\n",
       "    </tr>\n",
       "  </thead>\n",
       "  <tbody>\n",
       "    <tr>\n",
       "      <th>0</th>\n",
       "      <td>4</td>\n",
       "      <td>2014</td>\n",
       "      <td>1.6</td>\n",
       "      <td>92.0</td>\n",
       "      <td>peugeot</td>\n",
       "      <td>308</td>\n",
       "      <td>94341.0</td>\n",
       "      <td>Diesel</td>\n",
       "      <td>mécanique</td>\n",
       "      <td>11220.0</td>\n",
       "      <td>4</td>\n",
       "      <td>5</td>\n",
       "      <td>banquette arrière 3 places;volant cuir;cache b...</td>\n",
       "      <td>blanc banquise</td>\n",
       "      <td>25050.0</td>\n",
       "      <td>0.0</td>\n",
       "      <td>5.0</td>\n",
       "      <td>5</td>\n",
       "      <td>0</td>\n",
       "    </tr>\n",
       "    <tr>\n",
       "      <th>1</th>\n",
       "      <td>11</td>\n",
       "      <td>2007</td>\n",
       "      <td>1.3</td>\n",
       "      <td>70.0</td>\n",
       "      <td>ford</td>\n",
       "      <td>ka</td>\n",
       "      <td>92282.0</td>\n",
       "      <td>Essence</td>\n",
       "      <td>mécanique</td>\n",
       "      <td>2830.0</td>\n",
       "      <td>5</td>\n",
       "      <td>3</td>\n",
       "      <td>direction assistée;jantes alu;rétroviseurs éle...</td>\n",
       "      <td>jaune</td>\n",
       "      <td>12150.0</td>\n",
       "      <td>150.0</td>\n",
       "      <td>5.0</td>\n",
       "      <td>5</td>\n",
       "      <td>0</td>\n",
       "    </tr>\n",
       "    <tr>\n",
       "      <th>2</th>\n",
       "      <td>0</td>\n",
       "      <td>2018</td>\n",
       "      <td>1.4</td>\n",
       "      <td>95.0</td>\n",
       "      <td>fiat</td>\n",
       "      <td>tipo</td>\n",
       "      <td>10.0</td>\n",
       "      <td>Essence</td>\n",
       "      <td>mécanique</td>\n",
       "      <td>12925.0</td>\n",
       "      <td>5</td>\n",
       "      <td>5</td>\n",
       "      <td>Volant alu &amp; cuir;Bluetooth inclut musique en ...</td>\n",
       "      <td>blanc verni</td>\n",
       "      <td>14990.0</td>\n",
       "      <td>740.0</td>\n",
       "      <td>5.0</td>\n",
       "      <td>4</td>\n",
       "      <td>0</td>\n",
       "    </tr>\n",
       "    <tr>\n",
       "      <th>3</th>\n",
       "      <td>6</td>\n",
       "      <td>2012</td>\n",
       "      <td>NaN</td>\n",
       "      <td>313.0</td>\n",
       "      <td>bmw</td>\n",
       "      <td>x3</td>\n",
       "      <td>95623.0</td>\n",
       "      <td>Diesel</td>\n",
       "      <td>automatique</td>\n",
       "      <td>27956.0</td>\n",
       "      <td>20</td>\n",
       "      <td>5</td>\n",
       "      <td>vitrage calorifuge;triangle de presignalisatio...</td>\n",
       "      <td>saphirschwarz metal</td>\n",
       "      <td>NaN</td>\n",
       "      <td>NaN</td>\n",
       "      <td>NaN</td>\n",
       "      <td>NaN</td>\n",
       "      <td>0</td>\n",
       "    </tr>\n",
       "    <tr>\n",
       "      <th>4</th>\n",
       "      <td>5</td>\n",
       "      <td>2013</td>\n",
       "      <td>2.0</td>\n",
       "      <td>140.0</td>\n",
       "      <td>audi</td>\n",
       "      <td>a3</td>\n",
       "      <td>49018.0</td>\n",
       "      <td>Diesel</td>\n",
       "      <td>mécanique</td>\n",
       "      <td>16888.0</td>\n",
       "      <td>7</td>\n",
       "      <td>5</td>\n",
       "      <td>\"anti démarrage;radar de recul;prises audio au...</td>\n",
       "      <td>gris clair metal</td>\n",
       "      <td>45070.0</td>\n",
       "      <td>740.0</td>\n",
       "      <td>10.0</td>\n",
       "      <td>5</td>\n",
       "      <td>0</td>\n",
       "    </tr>\n",
       "  </tbody>\n",
       "</table>\n",
       "</div>"
      ],
      "text/plain": [
       "   age  Model_year  cylindre     cv     Make Model  Mileage     Fuel  \\\n",
       "0    4        2014       1.6   92.0  peugeot   308  94341.0   Diesel   \n",
       "1   11        2007       1.3   70.0     ford    ka  92282.0  Essence   \n",
       "2    0        2018       1.4   95.0     fiat  tipo     10.0  Essence   \n",
       "3    6        2012       NaN  313.0      bmw    x3  95623.0   Diesel   \n",
       "4    5        2013       2.0  140.0     audi    a3  49018.0   Diesel   \n",
       "\n",
       "       Gearbox    Price  spuissance_fiscale portes  \\\n",
       "0    mécanique  11220.0                   4      5   \n",
       "1    mécanique   2830.0                   5      3   \n",
       "2    mécanique  12925.0                   5      5   \n",
       "3  automatique  27956.0                  20      5   \n",
       "4    mécanique  16888.0                   7      5   \n",
       "\n",
       "                                             options              couleur  \\\n",
       "0  banquette arrière 3 places;volant cuir;cache b...       blanc banquise   \n",
       "1  direction assistée;jantes alu;rétroviseurs éle...                jaune   \n",
       "2  Volant alu & cuir;Bluetooth inclut musique en ...          blanc verni   \n",
       "3  vitrage calorifuge;triangle de presignalisatio...  saphirschwarz metal   \n",
       "4  \"anti démarrage;radar de recul;prises audio au...     gris clair metal   \n",
       "\n",
       "   starting_price  bonus_malus  puiss_scrap portes_scrap  Price/Starting Price  \n",
       "0         25050.0          0.0          5.0            5                     0  \n",
       "1         12150.0        150.0          5.0            5                     0  \n",
       "2         14990.0        740.0          5.0            4                     0  \n",
       "3             NaN          NaN          NaN          NaN                     0  \n",
       "4         45070.0        740.0         10.0            5                     0  "
      ]
     },
     "execution_count": 110,
     "metadata": {},
     "output_type": "execute_result"
    }
   ],
   "source": [
    "features_mapper = DataFrameMapper([\n",
    "    ([\"Online\", \"Model_year\"], AgeFeature(), {'alias': 'age'}),\n",
    "    ([\"Model_year\"], None),\n",
    "    ([\"version\"], CylindreFeature(), {'alias': 'cylindre'}),\n",
    "    ([\"version\"], CVFeature(), {'alias': 'cv'}),\n",
    "], input_df=True, df_out=True, default=None)\n",
    "\n",
    "data_extra_features = features_mapper.fit_transform(data_preprocessing)\n",
    "data_extra_features.head()"
   ]
  },
  {
   "cell_type": "markdown",
   "metadata": {},
   "source": [
    "- Imputation mapper"
   ]
  },
  {
   "cell_type": "code",
   "execution_count": 111,
   "metadata": {
    "scrolled": true
   },
   "outputs": [
    {
     "data": {
      "text/html": [
       "<div>\n",
       "<style scoped>\n",
       "    .dataframe tbody tr th:only-of-type {\n",
       "        vertical-align: middle;\n",
       "    }\n",
       "\n",
       "    .dataframe tbody tr th {\n",
       "        vertical-align: top;\n",
       "    }\n",
       "\n",
       "    .dataframe thead th {\n",
       "        text-align: right;\n",
       "    }\n",
       "</style>\n",
       "<table border=\"1\" class=\"dataframe\">\n",
       "  <thead>\n",
       "    <tr style=\"text-align: right;\">\n",
       "      <th></th>\n",
       "      <th>portes</th>\n",
       "      <th>couleur</th>\n",
       "      <th>cylindre</th>\n",
       "      <th>cv</th>\n",
       "      <th>Price</th>\n",
       "      <th>age</th>\n",
       "      <th>Model_year</th>\n",
       "      <th>Make</th>\n",
       "      <th>Model</th>\n",
       "      <th>Mileage</th>\n",
       "      <th>Fuel</th>\n",
       "      <th>Gearbox</th>\n",
       "      <th>spuissance_fiscale</th>\n",
       "      <th>options</th>\n",
       "      <th>starting_price</th>\n",
       "      <th>bonus_malus</th>\n",
       "      <th>puiss_scrap</th>\n",
       "      <th>portes_scrap</th>\n",
       "      <th>Price/Starting Price</th>\n",
       "    </tr>\n",
       "  </thead>\n",
       "  <tbody>\n",
       "    <tr>\n",
       "      <th>0</th>\n",
       "      <td>5</td>\n",
       "      <td>blanc banquise</td>\n",
       "      <td>1.6000</td>\n",
       "      <td>92.0</td>\n",
       "      <td>11220.0</td>\n",
       "      <td>4</td>\n",
       "      <td>2014</td>\n",
       "      <td>peugeot</td>\n",
       "      <td>308</td>\n",
       "      <td>94341.0</td>\n",
       "      <td>Diesel</td>\n",
       "      <td>mécanique</td>\n",
       "      <td>4</td>\n",
       "      <td>banquette arrière 3 places;volant cuir;cache b...</td>\n",
       "      <td>25050.0</td>\n",
       "      <td>0.0</td>\n",
       "      <td>5.0</td>\n",
       "      <td>5</td>\n",
       "      <td>0</td>\n",
       "    </tr>\n",
       "    <tr>\n",
       "      <th>1</th>\n",
       "      <td>3</td>\n",
       "      <td>jaune</td>\n",
       "      <td>1.3000</td>\n",
       "      <td>70.0</td>\n",
       "      <td>2830.0</td>\n",
       "      <td>11</td>\n",
       "      <td>2007</td>\n",
       "      <td>ford</td>\n",
       "      <td>ka</td>\n",
       "      <td>92282.0</td>\n",
       "      <td>Essence</td>\n",
       "      <td>mécanique</td>\n",
       "      <td>5</td>\n",
       "      <td>direction assistée;jantes alu;rétroviseurs éle...</td>\n",
       "      <td>12150.0</td>\n",
       "      <td>150.0</td>\n",
       "      <td>5.0</td>\n",
       "      <td>5</td>\n",
       "      <td>0</td>\n",
       "    </tr>\n",
       "    <tr>\n",
       "      <th>2</th>\n",
       "      <td>5</td>\n",
       "      <td>blanc verni</td>\n",
       "      <td>1.4000</td>\n",
       "      <td>95.0</td>\n",
       "      <td>12925.0</td>\n",
       "      <td>0</td>\n",
       "      <td>2018</td>\n",
       "      <td>fiat</td>\n",
       "      <td>tipo</td>\n",
       "      <td>10.0</td>\n",
       "      <td>Essence</td>\n",
       "      <td>mécanique</td>\n",
       "      <td>5</td>\n",
       "      <td>Volant alu &amp; cuir;Bluetooth inclut musique en ...</td>\n",
       "      <td>14990.0</td>\n",
       "      <td>740.0</td>\n",
       "      <td>5.0</td>\n",
       "      <td>4</td>\n",
       "      <td>0</td>\n",
       "    </tr>\n",
       "    <tr>\n",
       "      <th>3</th>\n",
       "      <td>5</td>\n",
       "      <td>saphirschwarz metal</td>\n",
       "      <td>1.7319</td>\n",
       "      <td>313.0</td>\n",
       "      <td>27956.0</td>\n",
       "      <td>6</td>\n",
       "      <td>2012</td>\n",
       "      <td>bmw</td>\n",
       "      <td>x3</td>\n",
       "      <td>95623.0</td>\n",
       "      <td>Diesel</td>\n",
       "      <td>automatique</td>\n",
       "      <td>20</td>\n",
       "      <td>vitrage calorifuge;triangle de presignalisatio...</td>\n",
       "      <td>NaN</td>\n",
       "      <td>NaN</td>\n",
       "      <td>NaN</td>\n",
       "      <td>NaN</td>\n",
       "      <td>0</td>\n",
       "    </tr>\n",
       "    <tr>\n",
       "      <th>4</th>\n",
       "      <td>5</td>\n",
       "      <td>gris clair metal</td>\n",
       "      <td>2.0000</td>\n",
       "      <td>140.0</td>\n",
       "      <td>16888.0</td>\n",
       "      <td>5</td>\n",
       "      <td>2013</td>\n",
       "      <td>audi</td>\n",
       "      <td>a3</td>\n",
       "      <td>49018.0</td>\n",
       "      <td>Diesel</td>\n",
       "      <td>mécanique</td>\n",
       "      <td>7</td>\n",
       "      <td>\"anti démarrage;radar de recul;prises audio au...</td>\n",
       "      <td>45070.0</td>\n",
       "      <td>740.0</td>\n",
       "      <td>10.0</td>\n",
       "      <td>5</td>\n",
       "      <td>0</td>\n",
       "    </tr>\n",
       "  </tbody>\n",
       "</table>\n",
       "</div>"
      ],
      "text/plain": [
       "  portes              couleur  cylindre     cv    Price  age  Model_year  \\\n",
       "0      5       blanc banquise    1.6000   92.0  11220.0    4        2014   \n",
       "1      3                jaune    1.3000   70.0   2830.0   11        2007   \n",
       "2      5          blanc verni    1.4000   95.0  12925.0    0        2018   \n",
       "3      5  saphirschwarz metal    1.7319  313.0  27956.0    6        2012   \n",
       "4      5     gris clair metal    2.0000  140.0  16888.0    5        2013   \n",
       "\n",
       "      Make Model  Mileage     Fuel      Gearbox  spuissance_fiscale  \\\n",
       "0  peugeot   308  94341.0   Diesel    mécanique                   4   \n",
       "1     ford    ka  92282.0  Essence    mécanique                   5   \n",
       "2     fiat  tipo     10.0  Essence    mécanique                   5   \n",
       "3      bmw    x3  95623.0   Diesel  automatique                  20   \n",
       "4     audi    a3  49018.0   Diesel    mécanique                   7   \n",
       "\n",
       "                                             options  starting_price  \\\n",
       "0  banquette arrière 3 places;volant cuir;cache b...         25050.0   \n",
       "1  direction assistée;jantes alu;rétroviseurs éle...         12150.0   \n",
       "2  Volant alu & cuir;Bluetooth inclut musique en ...         14990.0   \n",
       "3  vitrage calorifuge;triangle de presignalisatio...             NaN   \n",
       "4  \"anti démarrage;radar de recul;prises audio au...         45070.0   \n",
       "\n",
       "   bonus_malus  puiss_scrap portes_scrap  Price/Starting Price  \n",
       "0          0.0          5.0            5                     0  \n",
       "1        150.0          5.0            5                     0  \n",
       "2        740.0          5.0            4                     0  \n",
       "3          NaN          NaN          NaN                     0  \n",
       "4        740.0         10.0            5                     0  "
      ]
     },
     "execution_count": 111,
     "metadata": {},
     "output_type": "execute_result"
    }
   ],
   "source": [
    "imputer_extra_mapper = DataFrameMapper([\n",
    "    (\"portes\", CategoricalImputer()),\n",
    "    (\"couleur\", CategoricalImputer()),\n",
    "    ([\"cylindre\", \"Price\"], LinearRegressorImputer(), {'alias': 'cylindre'}),\n",
    "    ([\"cv\", \"Price\"], LinearRegressorImputer(), {'alias': 'cv'}),\n",
    "    (\"Price\", None)\n",
    "], input_df=True, df_out=True, default=None)\n",
    "\n",
    "data_imp = imputer_extra_mapper.fit_transform(data_extra_features)\n",
    "data_imp.head()"
   ]
  },
  {
   "cell_type": "markdown",
   "metadata": {},
   "source": [
    "- Utiliser `MultiLabelBinarizer` et `LabelBinarizer` pour les catégories features:\n",
    "    - On utilise `LabelBinarizer` pour `Gearbox` parce qu'il a eu 2 catégories\n",
    "    - et `MultiLabelBinarizer` pour les plus 2 catégories"
   ]
  },
  {
   "cell_type": "code",
   "execution_count": 112,
   "metadata": {},
   "outputs": [
    {
     "data": {
      "text/plain": [
       "6140"
      ]
     },
     "execution_count": 112,
     "metadata": {},
     "output_type": "execute_result"
    }
   ],
   "source": [
    "data_imp[\"couleur\"].nunique()"
   ]
  },
  {
   "cell_type": "markdown",
   "metadata": {},
   "source": [
    "We will ignore `couleur` for this momment"
   ]
  },
  {
   "cell_type": "code",
   "execution_count": 113,
   "metadata": {},
   "outputs": [
    {
     "data": {
      "text/html": [
       "<div>\n",
       "<style scoped>\n",
       "    .dataframe tbody tr th:only-of-type {\n",
       "        vertical-align: middle;\n",
       "    }\n",
       "\n",
       "    .dataframe tbody tr th {\n",
       "        vertical-align: top;\n",
       "    }\n",
       "\n",
       "    .dataframe thead th {\n",
       "        text-align: right;\n",
       "    }\n",
       "</style>\n",
       "<table border=\"1\" class=\"dataframe\">\n",
       "  <thead>\n",
       "    <tr style=\"text-align: right;\">\n",
       "      <th></th>\n",
       "      <th>couleur</th>\n",
       "      <th>portes</th>\n",
       "      <th>cylindre</th>\n",
       "      <th>cv</th>\n",
       "      <th>Price</th>\n",
       "      <th>age</th>\n",
       "      <th>Model_year</th>\n",
       "      <th>Make</th>\n",
       "      <th>Model</th>\n",
       "      <th>Mileage</th>\n",
       "      <th>Fuel</th>\n",
       "      <th>Gearbox</th>\n",
       "      <th>spuissance_fiscale</th>\n",
       "      <th>options</th>\n",
       "      <th>starting_price</th>\n",
       "      <th>bonus_malus</th>\n",
       "      <th>puiss_scrap</th>\n",
       "      <th>portes_scrap</th>\n",
       "      <th>Price/Starting Price</th>\n",
       "    </tr>\n",
       "  </thead>\n",
       "  <tbody>\n",
       "    <tr>\n",
       "      <th>0</th>\n",
       "      <td>791</td>\n",
       "      <td>5</td>\n",
       "      <td>1.6000</td>\n",
       "      <td>92.0</td>\n",
       "      <td>11220.0</td>\n",
       "      <td>4</td>\n",
       "      <td>2014</td>\n",
       "      <td>peugeot</td>\n",
       "      <td>308</td>\n",
       "      <td>94341.0</td>\n",
       "      <td>Diesel</td>\n",
       "      <td>mécanique</td>\n",
       "      <td>4</td>\n",
       "      <td>banquette arrière 3 places;volant cuir;cache b...</td>\n",
       "      <td>25050.0</td>\n",
       "      <td>0.0</td>\n",
       "      <td>5.0</td>\n",
       "      <td>5</td>\n",
       "      <td>0</td>\n",
       "    </tr>\n",
       "    <tr>\n",
       "      <th>1</th>\n",
       "      <td>3722</td>\n",
       "      <td>3</td>\n",
       "      <td>1.3000</td>\n",
       "      <td>70.0</td>\n",
       "      <td>2830.0</td>\n",
       "      <td>11</td>\n",
       "      <td>2007</td>\n",
       "      <td>ford</td>\n",
       "      <td>ka</td>\n",
       "      <td>92282.0</td>\n",
       "      <td>Essence</td>\n",
       "      <td>mécanique</td>\n",
       "      <td>5</td>\n",
       "      <td>direction assistée;jantes alu;rétroviseurs éle...</td>\n",
       "      <td>12150.0</td>\n",
       "      <td>150.0</td>\n",
       "      <td>5.0</td>\n",
       "      <td>5</td>\n",
       "      <td>0</td>\n",
       "    </tr>\n",
       "    <tr>\n",
       "      <th>2</th>\n",
       "      <td>1139</td>\n",
       "      <td>5</td>\n",
       "      <td>1.4000</td>\n",
       "      <td>95.0</td>\n",
       "      <td>12925.0</td>\n",
       "      <td>0</td>\n",
       "      <td>2018</td>\n",
       "      <td>fiat</td>\n",
       "      <td>tipo</td>\n",
       "      <td>10.0</td>\n",
       "      <td>Essence</td>\n",
       "      <td>mécanique</td>\n",
       "      <td>5</td>\n",
       "      <td>Volant alu &amp; cuir;Bluetooth inclut musique en ...</td>\n",
       "      <td>14990.0</td>\n",
       "      <td>740.0</td>\n",
       "      <td>5.0</td>\n",
       "      <td>4</td>\n",
       "      <td>0</td>\n",
       "    </tr>\n",
       "    <tr>\n",
       "      <th>3</th>\n",
       "      <td>5611</td>\n",
       "      <td>5</td>\n",
       "      <td>1.7319</td>\n",
       "      <td>313.0</td>\n",
       "      <td>27956.0</td>\n",
       "      <td>6</td>\n",
       "      <td>2012</td>\n",
       "      <td>bmw</td>\n",
       "      <td>x3</td>\n",
       "      <td>95623.0</td>\n",
       "      <td>Diesel</td>\n",
       "      <td>automatique</td>\n",
       "      <td>20</td>\n",
       "      <td>vitrage calorifuge;triangle de presignalisatio...</td>\n",
       "      <td>NaN</td>\n",
       "      <td>NaN</td>\n",
       "      <td>NaN</td>\n",
       "      <td>NaN</td>\n",
       "      <td>0</td>\n",
       "    </tr>\n",
       "    <tr>\n",
       "      <th>4</th>\n",
       "      <td>2732</td>\n",
       "      <td>5</td>\n",
       "      <td>2.0000</td>\n",
       "      <td>140.0</td>\n",
       "      <td>16888.0</td>\n",
       "      <td>5</td>\n",
       "      <td>2013</td>\n",
       "      <td>audi</td>\n",
       "      <td>a3</td>\n",
       "      <td>49018.0</td>\n",
       "      <td>Diesel</td>\n",
       "      <td>mécanique</td>\n",
       "      <td>7</td>\n",
       "      <td>\"anti démarrage;radar de recul;prises audio au...</td>\n",
       "      <td>45070.0</td>\n",
       "      <td>740.0</td>\n",
       "      <td>10.0</td>\n",
       "      <td>5</td>\n",
       "      <td>0</td>\n",
       "    </tr>\n",
       "  </tbody>\n",
       "</table>\n",
       "</div>"
      ],
      "text/plain": [
       "   couleur portes  cylindre     cv    Price  age  Model_year     Make Model  \\\n",
       "0      791      5    1.6000   92.0  11220.0    4        2014  peugeot   308   \n",
       "1     3722      3    1.3000   70.0   2830.0   11        2007     ford    ka   \n",
       "2     1139      5    1.4000   95.0  12925.0    0        2018     fiat  tipo   \n",
       "3     5611      5    1.7319  313.0  27956.0    6        2012      bmw    x3   \n",
       "4     2732      5    2.0000  140.0  16888.0    5        2013     audi    a3   \n",
       "\n",
       "   Mileage     Fuel      Gearbox  spuissance_fiscale  \\\n",
       "0  94341.0   Diesel    mécanique                   4   \n",
       "1  92282.0  Essence    mécanique                   5   \n",
       "2     10.0  Essence    mécanique                   5   \n",
       "3  95623.0   Diesel  automatique                  20   \n",
       "4  49018.0   Diesel    mécanique                   7   \n",
       "\n",
       "                                             options  starting_price  \\\n",
       "0  banquette arrière 3 places;volant cuir;cache b...         25050.0   \n",
       "1  direction assistée;jantes alu;rétroviseurs éle...         12150.0   \n",
       "2  Volant alu & cuir;Bluetooth inclut musique en ...         14990.0   \n",
       "3  vitrage calorifuge;triangle de presignalisatio...             NaN   \n",
       "4  \"anti démarrage;radar de recul;prises audio au...         45070.0   \n",
       "\n",
       "   bonus_malus  puiss_scrap portes_scrap  Price/Starting Price  \n",
       "0          0.0          5.0            5                     0  \n",
       "1        150.0          5.0            5                     0  \n",
       "2        740.0          5.0            4                     0  \n",
       "3          NaN          NaN          NaN                     0  \n",
       "4        740.0         10.0            5                     0  "
      ]
     },
     "execution_count": 113,
     "metadata": {},
     "output_type": "execute_result"
    }
   ],
   "source": [
    "cat_features_mapper = DataFrameMapper([\n",
    "    (\"couleur\", LabelEncoder()),\n",
    "], input_df=True, df_out=True, default=None)\n",
    "\n",
    "data = cat_features_mapper.fit_transform(data_imp)\n",
    "data.head()"
   ]
  },
  {
   "cell_type": "code",
   "execution_count": 114,
   "metadata": {},
   "outputs": [],
   "source": [
    "data = pd.get_dummies(data, columns=[\"Make\", \"Model\", \"Fuel\", \"Gearbox\", \"portes\"])"
   ]
  },
  {
   "cell_type": "markdown",
   "metadata": {},
   "source": [
    "cat_features_mapper = DataFrameMapper([\n",
    "    (\"Make\", MultiLabelBinarizer()),\n",
    "    (\"Model\", MultiLabelBinarizer()),\n",
    "    (\"Fuel\", MultiLabelBinarizer()),\n",
    "    (\"Gearbox\", LabelBinarizer()),\n",
    "    (\"portes\", MultiLabelBinarizer()),\n",
    "    (\"couleur\", MultiLabelBinarizer())\n",
    "], input_df=True, df_out=True, default=None)\n",
    "\n",
    "data = cat_features_mapper.fit_transform(data_imp)\n",
    "data.head()"
   ]
  },
  {
   "cell_type": "code",
   "execution_count": 115,
   "metadata": {},
   "outputs": [
    {
     "data": {
      "text/plain": [
       "(700,)"
      ]
     },
     "execution_count": 115,
     "metadata": {},
     "output_type": "execute_result"
    }
   ],
   "source": [
    "data.columns.values.shape"
   ]
  },
  {
   "cell_type": "code",
   "execution_count": 116,
   "metadata": {},
   "outputs": [
    {
     "data": {
      "text/html": [
       "<div>\n",
       "<style scoped>\n",
       "    .dataframe tbody tr th:only-of-type {\n",
       "        vertical-align: middle;\n",
       "    }\n",
       "\n",
       "    .dataframe tbody tr th {\n",
       "        vertical-align: top;\n",
       "    }\n",
       "\n",
       "    .dataframe thead th {\n",
       "        text-align: right;\n",
       "    }\n",
       "</style>\n",
       "<table border=\"1\" class=\"dataframe\">\n",
       "  <thead>\n",
       "    <tr style=\"text-align: right;\">\n",
       "      <th></th>\n",
       "      <th>couleur</th>\n",
       "      <th>cylindre</th>\n",
       "      <th>cv</th>\n",
       "      <th>Price</th>\n",
       "      <th>age</th>\n",
       "      <th>Model_year</th>\n",
       "      <th>Mileage</th>\n",
       "      <th>spuissance_fiscale</th>\n",
       "      <th>starting_price</th>\n",
       "      <th>bonus_malus</th>\n",
       "      <th>...</th>\n",
       "      <th>portes_5</th>\n",
       "      <th>portes_6</th>\n",
       "      <th>portes_Break</th>\n",
       "      <th>portes_Cabriolet</th>\n",
       "      <th>portes_Combiné</th>\n",
       "      <th>portes_Coupé</th>\n",
       "      <th>portes_Fourgon</th>\n",
       "      <th>portes_Fourgonnette</th>\n",
       "      <th>portes_Monospace</th>\n",
       "      <th>portes_Tout-Terrain</th>\n",
       "    </tr>\n",
       "  </thead>\n",
       "  <tbody>\n",
       "    <tr>\n",
       "      <th>0</th>\n",
       "      <td>791</td>\n",
       "      <td>1.6000</td>\n",
       "      <td>92.0</td>\n",
       "      <td>11220.0</td>\n",
       "      <td>4</td>\n",
       "      <td>2014</td>\n",
       "      <td>94341.0</td>\n",
       "      <td>4</td>\n",
       "      <td>25050.0</td>\n",
       "      <td>0.0</td>\n",
       "      <td>...</td>\n",
       "      <td>1</td>\n",
       "      <td>0</td>\n",
       "      <td>0</td>\n",
       "      <td>0</td>\n",
       "      <td>0</td>\n",
       "      <td>0</td>\n",
       "      <td>0</td>\n",
       "      <td>0</td>\n",
       "      <td>0</td>\n",
       "      <td>0</td>\n",
       "    </tr>\n",
       "    <tr>\n",
       "      <th>1</th>\n",
       "      <td>3722</td>\n",
       "      <td>1.3000</td>\n",
       "      <td>70.0</td>\n",
       "      <td>2830.0</td>\n",
       "      <td>11</td>\n",
       "      <td>2007</td>\n",
       "      <td>92282.0</td>\n",
       "      <td>5</td>\n",
       "      <td>12150.0</td>\n",
       "      <td>150.0</td>\n",
       "      <td>...</td>\n",
       "      <td>0</td>\n",
       "      <td>0</td>\n",
       "      <td>0</td>\n",
       "      <td>0</td>\n",
       "      <td>0</td>\n",
       "      <td>0</td>\n",
       "      <td>0</td>\n",
       "      <td>0</td>\n",
       "      <td>0</td>\n",
       "      <td>0</td>\n",
       "    </tr>\n",
       "    <tr>\n",
       "      <th>2</th>\n",
       "      <td>1139</td>\n",
       "      <td>1.4000</td>\n",
       "      <td>95.0</td>\n",
       "      <td>12925.0</td>\n",
       "      <td>0</td>\n",
       "      <td>2018</td>\n",
       "      <td>10.0</td>\n",
       "      <td>5</td>\n",
       "      <td>14990.0</td>\n",
       "      <td>740.0</td>\n",
       "      <td>...</td>\n",
       "      <td>1</td>\n",
       "      <td>0</td>\n",
       "      <td>0</td>\n",
       "      <td>0</td>\n",
       "      <td>0</td>\n",
       "      <td>0</td>\n",
       "      <td>0</td>\n",
       "      <td>0</td>\n",
       "      <td>0</td>\n",
       "      <td>0</td>\n",
       "    </tr>\n",
       "    <tr>\n",
       "      <th>3</th>\n",
       "      <td>5611</td>\n",
       "      <td>1.7319</td>\n",
       "      <td>313.0</td>\n",
       "      <td>27956.0</td>\n",
       "      <td>6</td>\n",
       "      <td>2012</td>\n",
       "      <td>95623.0</td>\n",
       "      <td>20</td>\n",
       "      <td>NaN</td>\n",
       "      <td>NaN</td>\n",
       "      <td>...</td>\n",
       "      <td>1</td>\n",
       "      <td>0</td>\n",
       "      <td>0</td>\n",
       "      <td>0</td>\n",
       "      <td>0</td>\n",
       "      <td>0</td>\n",
       "      <td>0</td>\n",
       "      <td>0</td>\n",
       "      <td>0</td>\n",
       "      <td>0</td>\n",
       "    </tr>\n",
       "    <tr>\n",
       "      <th>4</th>\n",
       "      <td>2732</td>\n",
       "      <td>2.0000</td>\n",
       "      <td>140.0</td>\n",
       "      <td>16888.0</td>\n",
       "      <td>5</td>\n",
       "      <td>2013</td>\n",
       "      <td>49018.0</td>\n",
       "      <td>7</td>\n",
       "      <td>45070.0</td>\n",
       "      <td>740.0</td>\n",
       "      <td>...</td>\n",
       "      <td>1</td>\n",
       "      <td>0</td>\n",
       "      <td>0</td>\n",
       "      <td>0</td>\n",
       "      <td>0</td>\n",
       "      <td>0</td>\n",
       "      <td>0</td>\n",
       "      <td>0</td>\n",
       "      <td>0</td>\n",
       "      <td>0</td>\n",
       "    </tr>\n",
       "  </tbody>\n",
       "</table>\n",
       "<p>5 rows × 696 columns</p>\n",
       "</div>"
      ],
      "text/plain": [
       "   couleur  cylindre     cv    Price  age  Model_year  Mileage  \\\n",
       "0      791    1.6000   92.0  11220.0    4        2014  94341.0   \n",
       "1     3722    1.3000   70.0   2830.0   11        2007  92282.0   \n",
       "2     1139    1.4000   95.0  12925.0    0        2018     10.0   \n",
       "3     5611    1.7319  313.0  27956.0    6        2012  95623.0   \n",
       "4     2732    2.0000  140.0  16888.0    5        2013  49018.0   \n",
       "\n",
       "   spuissance_fiscale  starting_price  bonus_malus         ...           \\\n",
       "0                   4         25050.0          0.0         ...            \n",
       "1                   5         12150.0        150.0         ...            \n",
       "2                   5         14990.0        740.0         ...            \n",
       "3                  20             NaN          NaN         ...            \n",
       "4                   7         45070.0        740.0         ...            \n",
       "\n",
       "   portes_5  portes_6  portes_Break  portes_Cabriolet  portes_Combiné  \\\n",
       "0         1         0             0                 0               0   \n",
       "1         0         0             0                 0               0   \n",
       "2         1         0             0                 0               0   \n",
       "3         1         0             0                 0               0   \n",
       "4         1         0             0                 0               0   \n",
       "\n",
       "   portes_Coupé  portes_Fourgon  portes_Fourgonnette  portes_Monospace  \\\n",
       "0             0               0                    0                 0   \n",
       "1             0               0                    0                 0   \n",
       "2             0               0                    0                 0   \n",
       "3             0               0                    0                 0   \n",
       "4             0               0                    0                 0   \n",
       "\n",
       "   portes_Tout-Terrain  \n",
       "0                    0  \n",
       "1                    0  \n",
       "2                    0  \n",
       "3                    0  \n",
       "4                    0  \n",
       "\n",
       "[5 rows x 696 columns]"
      ]
     },
     "execution_count": 116,
     "metadata": {},
     "output_type": "execute_result"
    }
   ],
   "source": [
    "drop_cols = [\"options\", \"puiss_scrap\", \"portes_scrap\", \"Price/Starting Price\"]\n",
    "data.drop(drop_cols, axis=1, inplace=True)\n",
    "data.head()"
   ]
  },
  {
   "cell_type": "code",
   "execution_count": 117,
   "metadata": {},
   "outputs": [
    {
     "data": {
      "text/plain": [
       "(115031, 696)"
      ]
     },
     "execution_count": 117,
     "metadata": {},
     "output_type": "execute_result"
    }
   ],
   "source": [
    "data = data[data['starting_price'].notnull()]\n",
    "data.shape"
   ]
  },
  {
   "cell_type": "code",
   "execution_count": 118,
   "metadata": {},
   "outputs": [],
   "source": [
    "#target = np.log(data[\"Price\"].values)\n",
    "target = data[\"Price\"].values\n",
    "data = data.drop([\"Price\"], axis=1)"
   ]
  },
  {
   "cell_type": "code",
   "execution_count": 119,
   "metadata": {},
   "outputs": [
    {
     "data": {
      "text/plain": [
       "((92024, 695), (23007, 695), (92024,), (23007,))"
      ]
     },
     "execution_count": 119,
     "metadata": {},
     "output_type": "execute_result"
    }
   ],
   "source": [
    "X_train, X_test, y_train, y_test = train_test_split(data, target, test_size=0.2, random_state=42)\n",
    "X_train.shape, X_test.shape, y_train.shape, y_test.shape"
   ]
  },
  {
   "cell_type": "markdown",
   "metadata": {},
   "source": [
    "### Model RandomForest sans hyperparameter"
   ]
  },
  {
   "cell_type": "code",
   "execution_count": 50,
   "metadata": {},
   "outputs": [
    {
     "data": {
      "text/plain": [
       "RandomForestRegressor(bootstrap=True, criterion='mse', max_depth=None,\n",
       "           max_features='auto', max_leaf_nodes=None,\n",
       "           min_impurity_decrease=0.0, min_impurity_split=None,\n",
       "           min_samples_leaf=1, min_samples_split=2,\n",
       "           min_weight_fraction_leaf=0.0, n_estimators=10, n_jobs=1,\n",
       "           oob_score=False, random_state=42, verbose=0, warm_start=False)"
      ]
     },
     "execution_count": 50,
     "metadata": {},
     "output_type": "execute_result"
    },
    {
     "name": "stdout",
     "output_type": "stream",
     "text": [
      "Model Performance\n",
      "Accuracy = 99.33%.\n",
      "MAPE = 0.67%.\n"
     ]
    },
    {
     "data": {
      "text/plain": [
       "99.32511892677883"
      ]
     },
     "execution_count": 50,
     "metadata": {},
     "output_type": "execute_result"
    }
   ],
   "source": [
    "rfr = RandomForestRegressor(random_state=42)\n",
    "rfr.fit(X_train, y_train)\n",
    "evaluate(rfr, X_test, y_test)"
   ]
  },
  {
   "cell_type": "markdown",
   "metadata": {},
   "source": [
    "### Features d'importance"
   ]
  },
  {
   "cell_type": "code",
   "execution_count": 51,
   "metadata": {},
   "outputs": [
    {
     "data": {
      "text/plain": [
       "<Figure size 1152x576 with 0 Axes>"
      ]
     },
     "execution_count": 51,
     "metadata": {},
     "output_type": "execute_result"
    },
    {
     "data": {
      "text/plain": [
       "Text(0.5, 1.0, '15 top Feature Importances de random forest')"
      ]
     },
     "execution_count": 51,
     "metadata": {},
     "output_type": "execute_result"
    },
    {
     "data": {
      "text/plain": [
       "<BarContainer object of 15 artists>"
      ]
     },
     "execution_count": 51,
     "metadata": {},
     "output_type": "execute_result"
    },
    {
     "data": {
      "text/plain": [
       "([<matplotlib.axis.YTick at 0x1a3768b550>,\n",
       "  <matplotlib.axis.YTick at 0x1a32f7ed68>,\n",
       "  <matplotlib.axis.YTick at 0x1a22c07470>,\n",
       "  <matplotlib.axis.YTick at 0x1a35d6d9e8>,\n",
       "  <matplotlib.axis.YTick at 0x1a35d6d4e0>,\n",
       "  <matplotlib.axis.YTick at 0x1a35d6df28>,\n",
       "  <matplotlib.axis.YTick at 0x1a35cfcba8>,\n",
       "  <matplotlib.axis.YTick at 0x1a35d73908>,\n",
       "  <matplotlib.axis.YTick at 0x1a32f3e160>,\n",
       "  <matplotlib.axis.YTick at 0x1a32f3bc50>,\n",
       "  <matplotlib.axis.YTick at 0x1a32f3b780>,\n",
       "  <matplotlib.axis.YTick at 0x1a32f3b2b0>,\n",
       "  <matplotlib.axis.YTick at 0x1a32f3bcf8>,\n",
       "  <matplotlib.axis.YTick at 0x1a35d73048>,\n",
       "  <matplotlib.axis.YTick at 0x1a374e7f98>],\n",
       " <a list of 15 Text yticklabel objects>)"
      ]
     },
     "execution_count": 51,
     "metadata": {},
     "output_type": "execute_result"
    },
    {
     "data": {
      "text/plain": [
       "Text(0.5, 0, 'Relative Importance')"
      ]
     },
     "execution_count": 51,
     "metadata": {},
     "output_type": "execute_result"
    },
    {
     "data": {
      "image/png": "[encoded data removed]",
      "text/plain": [
       "<Figure size 1152x576 with 1 Axes>"
      ]
     },
     "metadata": {
      "needs_background": "light"
     },
     "output_type": "display_data"
    }
   ],
   "source": [
    "features = X_train.columns\n",
    "importances = rfr.feature_importances_\n",
    "indices = np.argsort(importances)\n",
    "#print(indices[:15])\n",
    "#print(sorted(importances))\n",
    "\n",
    "plt.figure(figsize=(16,8))\n",
    "plt.title('15 top Feature Importances de random forest')\n",
    "plt.barh(range(len(indices))[-15:], importances[indices][-15:], color='b', align='center')\n",
    "plt.yticks(range(len(indices))[-15:], [features[i] for i in indices[-15:]])\n",
    "plt.xlabel('Relative Importance')\n",
    "#plt.show()"
   ]
  },
  {
   "cell_type": "code",
   "execution_count": 53,
   "metadata": {},
   "outputs": [
    {
     "name": "stderr",
     "output_type": "stream",
     "text": [
      "[Parallel(n_jobs=-1)]: Done  10 out of  10 | elapsed:   10.7s finished\n",
      "[Parallel(n_jobs=4)]: Done  10 out of  10 | elapsed:    0.0s finished\n",
      "[Parallel(n_jobs=-1)]: Done  10 out of  10 | elapsed:   10.1s finished\n",
      "[Parallel(n_jobs=4)]: Done  10 out of  10 | elapsed:    0.0s finished\n",
      "[Parallel(n_jobs=-1)]: Done  10 out of  10 | elapsed:   10.6s finished\n",
      "[Parallel(n_jobs=4)]: Done  10 out of  10 | elapsed:    0.0s finished\n",
      "[Parallel(n_jobs=-1)]: Done  10 out of  10 | elapsed:    9.2s finished\n",
      "[Parallel(n_jobs=4)]: Done  10 out of  10 | elapsed:    0.0s finished\n",
      "[Parallel(n_jobs=-1)]: Done  10 out of  10 | elapsed:    9.2s finished\n",
      "[Parallel(n_jobs=4)]: Done  10 out of  10 | elapsed:    0.0s finished\n",
      "[Parallel(n_jobs=-1)]: Done  10 out of  10 | elapsed:    9.8s finished\n",
      "[Parallel(n_jobs=4)]: Done  10 out of  10 | elapsed:    0.0s finished\n",
      "[Parallel(n_jobs=-1)]: Done  10 out of  10 | elapsed:    9.5s finished\n",
      "[Parallel(n_jobs=4)]: Done  10 out of  10 | elapsed:    0.0s finished\n",
      "[Parallel(n_jobs=-1)]: Done  10 out of  10 | elapsed:   10.0s finished\n",
      "[Parallel(n_jobs=4)]: Done  10 out of  10 | elapsed:    0.0s finished\n",
      "[Parallel(n_jobs=-1)]: Done  10 out of  10 | elapsed:   10.2s finished\n",
      "[Parallel(n_jobs=4)]: Done  10 out of  10 | elapsed:    0.0s finished\n",
      "[Parallel(n_jobs=-1)]: Done  10 out of  10 | elapsed:   10.2s finished\n",
      "[Parallel(n_jobs=4)]: Done  10 out of  10 | elapsed:    0.0s finished\n",
      "[Parallel(n_jobs=-1)]: Done  10 out of  10 | elapsed:   10.2s finished\n",
      "[Parallel(n_jobs=4)]: Done  10 out of  10 | elapsed:    0.0s finished\n",
      "[Parallel(n_jobs=-1)]: Done  10 out of  10 | elapsed:   10.2s finished\n",
      "[Parallel(n_jobs=4)]: Done  10 out of  10 | elapsed:    0.0s finished\n",
      "[Parallel(n_jobs=-1)]: Done  10 out of  10 | elapsed:   10.2s finished\n",
      "[Parallel(n_jobs=4)]: Done  10 out of  10 | elapsed:    0.0s finished\n",
      "[Parallel(n_jobs=-1)]: Done  10 out of  10 | elapsed:   10.4s finished\n",
      "[Parallel(n_jobs=4)]: Done  10 out of  10 | elapsed:    0.0s finished\n",
      "[Parallel(n_jobs=-1)]: Done  10 out of  10 | elapsed:   11.3s finished\n",
      "[Parallel(n_jobs=4)]: Done  10 out of  10 | elapsed:    0.0s finished\n",
      "[Parallel(n_jobs=-1)]: Done  10 out of  10 | elapsed:   11.5s finished\n",
      "[Parallel(n_jobs=4)]: Done  10 out of  10 | elapsed:    0.0s finished\n",
      "[Parallel(n_jobs=-1)]: Done  10 out of  10 | elapsed:   10.5s finished\n",
      "[Parallel(n_jobs=4)]: Done  10 out of  10 | elapsed:    0.0s finished\n",
      "[Parallel(n_jobs=-1)]: Done  10 out of  10 | elapsed:   10.0s finished\n",
      "[Parallel(n_jobs=4)]: Done  10 out of  10 | elapsed:    0.0s finished\n",
      "[Parallel(n_jobs=-1)]: Done  10 out of  10 | elapsed:   12.5s finished\n",
      "[Parallel(n_jobs=4)]: Done  10 out of  10 | elapsed:    0.0s finished\n",
      "[Parallel(n_jobs=-1)]: Done  10 out of  10 | elapsed:   10.2s finished\n",
      "[Parallel(n_jobs=4)]: Done  10 out of  10 | elapsed:    0.0s finished\n"
     ]
    },
    {
     "name": "stdout",
     "output_type": "stream",
     "text": [
      "CPU times: user 10min 30s, sys: 16.3 s, total: 10min 46s\n",
      "Wall time: 3min 50s\n"
     ]
    }
   ],
   "source": [
    "%%time\n",
    "scores = []\n",
    "mapes = []\n",
    "\n",
    "cv = KFold(n_splits=20, shuffle=False)\n",
    "\n",
    "for train_index, val_index in cv.split(X_train):\n",
    "\n",
    "    X_train_cv, X_val, y_train_cv, y_val = X_train.iloc[train_index, :], \\\n",
    "                                            X_train.iloc[val_index, :], \\\n",
    "                                            y_train[train_index], y_train[val_index]\n",
    "    # model\n",
    "    rf_cv = RandomForestRegressor(verbose=-1, n_jobs=-1)\n",
    "    # fit\n",
    "    rf_cv.fit(X_train_cv, y_train_cv)\n",
    "    y_val_pred = rf_cv.predict(X_val)\n",
    "    # add score\n",
    "    scores.append(accuracy_score(np.exp(y_val), np.exp(y_val_pred)))\n",
    "    # metric mape\n",
    "    mapes.append(MAPE(np.exp(y_val.reshape(1, -1)[0]), np.exp(y_val_pred)))"
   ]
  },
  {
   "cell_type": "code",
   "execution_count": 54,
   "metadata": {},
   "outputs": [
    {
     "data": {
      "text/plain": [
       "[<matplotlib.lines.Line2D at 0x1a39441cf8>]"
      ]
     },
     "execution_count": 54,
     "metadata": {},
     "output_type": "execute_result"
    },
    {
     "data": {
      "text/plain": [
       "(0, 1)"
      ]
     },
     "execution_count": 54,
     "metadata": {},
     "output_type": "execute_result"
    },
    {
     "data": {
      "text/plain": [
       "Text(0, 0.5, 'scores')"
      ]
     },
     "execution_count": 54,
     "metadata": {},
     "output_type": "execute_result"
    },
    {
     "data": {
      "text/plain": [
       "Text(0.5, 0, 'Fold')"
      ]
     },
     "execution_count": 54,
     "metadata": {},
     "output_type": "execute_result"
    },
    {
     "data": {
      "text/plain": [
       "Text(0.5, 1.0, 'Score of Cross Validation with 10 Folder on Random Forest')"
      ]
     },
     "execution_count": 54,
     "metadata": {},
     "output_type": "execute_result"
    },
    {
     "data": {
      "text/plain": [
       "[<matplotlib.lines.Line2D at 0x1a3948f390>]"
      ]
     },
     "execution_count": 54,
     "metadata": {},
     "output_type": "execute_result"
    },
    {
     "data": {
      "text/plain": [
       "Text(0, 0.5, 'MAPE')"
      ]
     },
     "execution_count": 54,
     "metadata": {},
     "output_type": "execute_result"
    },
    {
     "data": {
      "text/plain": [
       "Text(0.5, 0, 'Fold')"
      ]
     },
     "execution_count": 54,
     "metadata": {},
     "output_type": "execute_result"
    },
    {
     "data": {
      "text/plain": [
       "(0, 1)"
      ]
     },
     "execution_count": 54,
     "metadata": {},
     "output_type": "execute_result"
    },
    {
     "data": {
      "text/plain": [
       "Text(0.5, 1.0, 'MAPE of Cross Validation with 10 Folder on Random Forest')"
      ]
     },
     "execution_count": 54,
     "metadata": {},
     "output_type": "execute_result"
    },
    {
     "data": {
      "image/png": "[encoded data removed]",
      "text/plain": [
       "<Figure size 1080x576 with 2 Axes>"
      ]
     },
     "metadata": {
      "needs_background": "light"
     },
     "output_type": "display_data"
    }
   ],
   "source": [
    "fig, ax = plt.subplots(1, 2, figsize=(15,8))\n",
    "ax = ax.flatten()\n",
    "ax[0].plot(range(1,21,1), scores, 'g-')\n",
    "ax[0].set_ylim([0,1])\n",
    "ax[0].set_ylabel(\"scores\")\n",
    "ax[0].set_xlabel(\"Fold\")\n",
    "ax[0].set_title(\"Score of Cross Validation with 10 Folder on Random Forest\")\n",
    "ax[1].plot(range(1,21,1), mapes, 'r-')\n",
    "ax[1].set_ylabel(\"MAPE\")\n",
    "ax[1].set_xlabel(\"Fold\")\n",
    "ax[1].set_ylim([0,1])\n",
    "ax[1].set_title(\"MAPE of Cross Validation with 10 Folder on Random Forest\")\n",
    "plt.show()"
   ]
  },
  {
   "cell_type": "markdown",
   "metadata": {},
   "source": [
    "## Avec hyperparameter"
   ]
  },
  {
   "cell_type": "code",
   "execution_count": 48,
   "metadata": {
    "scrolled": true
   },
   "outputs": [
    {
     "data": {
      "text/plain": [
       "RandomForestRegressor(bootstrap=True, criterion='mse', max_depth=80,\n",
       "           max_features=2, max_leaf_nodes=None, min_impurity_decrease=0.0,\n",
       "           min_impurity_split=None, min_samples_leaf=3,\n",
       "           min_samples_split=8, min_weight_fraction_leaf=0.0,\n",
       "           n_estimators=100, n_jobs=1, oob_score=False, random_state=None,\n",
       "           verbose=0, warm_start=False)"
      ]
     },
     "execution_count": 48,
     "metadata": {},
     "output_type": "execute_result"
    },
    {
     "name": "stdout",
     "output_type": "stream",
     "text": [
      "Model Performance\n",
      "Accuracy = 96.77%.\n",
      "MAPE = 3.23%.\n"
     ]
    },
    {
     "data": {
      "text/plain": [
       "96.7685389355719"
      ]
     },
     "execution_count": 48,
     "metadata": {},
     "output_type": "execute_result"
    }
   ],
   "source": [
    "best_param_cv = {\n",
    "    'bootstrap': True,\n",
    "    'max_depth': 50,\n",
    "    'max_features': 5,\n",
    "    'min_samples_split': 8,\n",
    "    'min_samples_leaf': 5,\n",
    "    'n_estimators': 100\n",
    "}\n",
    "\n",
    "rfr = RandomForestRegressor(**best_param_cv)\n",
    "rfr.fit(X_train, y_train)\n",
    "evaluate(rfr, X_test, y_test)"
   ]
  },
  {
   "cell_type": "markdown",
   "metadata": {},
   "source": [
    "### Utiliser PCA afin de reduire le nombre de feature mais il garde 0,9 variant"
   ]
  },
  {
   "cell_type": "code",
   "execution_count": 61,
   "metadata": {},
   "outputs": [],
   "source": [
    "from sklearn.decomposition import PCA\n",
    "from sklearn.preprocessing import StandardScaler"
   ]
  },
  {
   "cell_type": "code",
   "execution_count": 62,
   "metadata": {},
   "outputs": [
    {
     "data": {
      "text/plain": [
       "array([[-1.27575178,  0.28573092, -0.4769473 , ..., -0.01063136,\n",
       "        -0.02467594, -0.03540347],\n",
       "       [ 0.63209153, -0.67517363, -0.88320485, ..., -0.01063136,\n",
       "        -0.02467594, -0.03540347],\n",
       "       [-1.049232  , -0.35487212, -0.42154854, ..., -0.01063136,\n",
       "        -0.02467594, -0.03540347],\n",
       "       ...,\n",
       "       [ 0.06318841,  1.56693698,  1.09268414, ..., -0.01063136,\n",
       "        -0.02467594, -0.03540347],\n",
       "       [ 1.06299985,  1.56693698,  0.59409533, ..., -0.01063136,\n",
       "        -0.02467594, -0.03540347],\n",
       "       [ 0.93411791, -1.63607818, -0.32921728, ..., -0.01063136,\n",
       "        -0.02467594, -0.03540347]])"
      ]
     },
     "execution_count": 62,
     "metadata": {},
     "output_type": "execute_result"
    }
   ],
   "source": [
    "data_scale = StandardScaler().fit_transform(data)\n",
    "data_scale"
   ]
  },
  {
   "cell_type": "code",
   "execution_count": 63,
   "metadata": {},
   "outputs": [
    {
     "data": {
      "text/plain": [
       "211"
      ]
     },
     "execution_count": 63,
     "metadata": {},
     "output_type": "execute_result"
    }
   ],
   "source": [
    "pca = PCA(0.9).fit(data_scale)\n",
    "pca.n_components_"
   ]
  },
  {
   "cell_type": "markdown",
   "metadata": {},
   "source": [
    "- We use 211 components which hold 90% variant for 696 features"
   ]
  },
  {
   "cell_type": "code",
   "execution_count": 64,
   "metadata": {},
   "outputs": [
    {
     "data": {
      "text/plain": [
       "(115031, 211)"
      ]
     },
     "execution_count": 64,
     "metadata": {},
     "output_type": "execute_result"
    }
   ],
   "source": [
    "data_pca = pca.transform(data_scale)\n",
    "data_pca.shape"
   ]
  },
  {
   "cell_type": "code",
   "execution_count": 65,
   "metadata": {},
   "outputs": [
    {
     "data": {
      "text/plain": [
       "((92024, 211), (23007, 211), (92024,), (23007,))"
      ]
     },
     "execution_count": 65,
     "metadata": {},
     "output_type": "execute_result"
    }
   ],
   "source": [
    "X_train, X_test, y_train, y_test = train_test_split(data_pca, target, test_size=0.2, random_state=42)\n",
    "X_train.shape, X_test.shape, y_train.shape, y_test.shape"
   ]
  },
  {
   "cell_type": "code",
   "execution_count": 66,
   "metadata": {},
   "outputs": [
    {
     "data": {
      "text/plain": [
       "RandomForestRegressor(bootstrap=True, criterion='mse', max_depth=None,\n",
       "           max_features='auto', max_leaf_nodes=None,\n",
       "           min_impurity_decrease=0.0, min_impurity_split=None,\n",
       "           min_samples_leaf=1, min_samples_split=2,\n",
       "           min_weight_fraction_leaf=0.0, n_estimators=10, n_jobs=1,\n",
       "           oob_score=False, random_state=None, verbose=0, warm_start=False)"
      ]
     },
     "execution_count": 66,
     "metadata": {},
     "output_type": "execute_result"
    }
   ],
   "source": [
    "rfr = RandomForestRegressor()\n",
    "rfr.fit(X_train, y_train)"
   ]
  },
  {
   "cell_type": "code",
   "execution_count": 67,
   "metadata": {},
   "outputs": [
    {
     "name": "stdout",
     "output_type": "stream",
     "text": [
      "--------------------------------------------------\n",
      "MAPE: 7.09 %\n",
      "--------------------------------------------------\n"
     ]
    }
   ],
   "source": [
    "y_pred = rfr.predict(X_test)\n",
    "print(\"-----\"*10)\n",
    "print(\"MAPE: {:.2f} %\".format(MAPE(np.exp(y_test), np.exp(y_pred)) * 100))\n",
    "print(\"-----\"*10)"
   ]
  },
  {
   "cell_type": "code",
   "execution_count": null,
   "metadata": {},
   "outputs": [],
   "source": [
    "features = X_train.columns\n",
    "importances = rfr.feature_importances_\n",
    "indices = np.argsort(importances)\n",
    "\n",
    "# 10 features d'important\n",
    "plt.figure(figsize=(16,8))\n",
    "plt.title('Feature Importances')\n",
    "plt.barh(range(len(indices)), importances[indices], color='b', align='center')\n",
    "plt.yticks(range(len(indices)), [features[i] for i in indices])\n",
    "plt.xlabel('Relative Importance')\n",
    "#plt.show()"
   ]
  },
  {
   "cell_type": "code",
   "execution_count": 38,
   "metadata": {},
   "outputs": [
    {
     "name": "stderr",
     "output_type": "stream",
     "text": [
      "[Parallel(n_jobs=-1)]: Done  10 out of  10 | elapsed:  1.3min finished\n",
      "[Parallel(n_jobs=4)]: Done  10 out of  10 | elapsed:    0.0s finished\n",
      "[Parallel(n_jobs=-1)]: Done  10 out of  10 | elapsed:  1.2min finished\n",
      "[Parallel(n_jobs=4)]: Done  10 out of  10 | elapsed:    0.0s finished\n",
      "[Parallel(n_jobs=-1)]: Done  10 out of  10 | elapsed:  1.2min finished\n",
      "[Parallel(n_jobs=4)]: Done  10 out of  10 | elapsed:    0.0s finished\n",
      "[Parallel(n_jobs=-1)]: Done  10 out of  10 | elapsed:  1.2min finished\n",
      "[Parallel(n_jobs=4)]: Done  10 out of  10 | elapsed:    0.0s finished\n",
      "[Parallel(n_jobs=-1)]: Done  10 out of  10 | elapsed:  1.3min finished\n",
      "[Parallel(n_jobs=4)]: Done  10 out of  10 | elapsed:    0.0s finished\n",
      "[Parallel(n_jobs=-1)]: Done  10 out of  10 | elapsed:  1.3min finished\n",
      "[Parallel(n_jobs=4)]: Done  10 out of  10 | elapsed:    0.0s finished\n"
     ]
    },
    {
     "name": "stdout",
     "output_type": "stream",
     "text": [
      "CPU times: user 28min 47s, sys: 5.84 s, total: 28min 52s\n",
      "Wall time: 8min 43s\n"
     ]
    },
    {
     "name": "stderr",
     "output_type": "stream",
     "text": [
      "[Parallel(n_jobs=-1)]: Done  10 out of  10 | elapsed:  1.2min finished\n",
      "[Parallel(n_jobs=4)]: Done  10 out of  10 | elapsed:    0.0s finished\n"
     ]
    }
   ],
   "source": [
    "%%time\n",
    "from sklearn.model_selection import KFold\n",
    "scores = []\n",
    "mapes = []\n",
    "\n",
    "cv = KFold(n_splits=7, shuffle=False)\n",
    "\n",
    "for train_index, val_index in cv.split(X_train):\n",
    "\n",
    "    X_train_cv, X_val, y_train_cv, y_val = X_train[train_index, :], \\\n",
    "                                            X_train[val_index, :], \\\n",
    "                                            y_train[train_index], \\\n",
    "                                            y_train[val_index]\n",
    "    # model\n",
    "    rf_cv = RandomForestRegressor(verbose=-1, n_jobs=-1)\n",
    "    # fit\n",
    "    rf_cv.fit(X_train_cv, y_train_cv)\n",
    "    y_val_pred = rf_cv.predict(X_val)\n",
    "    # add score\n",
    "    scores.append(accuracy_score(np.exp(y_val), np.exp(y_val_pred)))\n",
    "    # metric mape\n",
    "    mapes.append(MAPE(np.exp(y_val), np.exp(y_val_pred)))"
   ]
  },
  {
   "cell_type": "code",
   "execution_count": 82,
   "metadata": {},
   "outputs": [
    {
     "data": {
      "text/plain": [
       "[<matplotlib.lines.Line2D at 0x1a2dd0dda0>]"
      ]
     },
     "execution_count": 82,
     "metadata": {},
     "output_type": "execute_result"
    },
    {
     "data": {
      "text/plain": [
       "(0, 1)"
      ]
     },
     "execution_count": 82,
     "metadata": {},
     "output_type": "execute_result"
    },
    {
     "data": {
      "text/plain": [
       "Text(0, 0.5, 'scores')"
      ]
     },
     "execution_count": 82,
     "metadata": {},
     "output_type": "execute_result"
    },
    {
     "data": {
      "text/plain": [
       "Text(0.5, 0, 'Fold')"
      ]
     },
     "execution_count": 82,
     "metadata": {},
     "output_type": "execute_result"
    },
    {
     "data": {
      "text/plain": [
       "Text(0.5, 1.0, 'Score of Cross Validation with 10 Folder on Random Forest')"
      ]
     },
     "execution_count": 82,
     "metadata": {},
     "output_type": "execute_result"
    },
    {
     "data": {
      "text/plain": [
       "[<matplotlib.lines.Line2D at 0x1a2db0c4a8>]"
      ]
     },
     "execution_count": 82,
     "metadata": {},
     "output_type": "execute_result"
    },
    {
     "data": {
      "text/plain": [
       "Text(0, 0.5, 'MAPE')"
      ]
     },
     "execution_count": 82,
     "metadata": {},
     "output_type": "execute_result"
    },
    {
     "data": {
      "text/plain": [
       "Text(0.5, 0, 'Fold')"
      ]
     },
     "execution_count": 82,
     "metadata": {},
     "output_type": "execute_result"
    },
    {
     "data": {
      "text/plain": [
       "(0, 1)"
      ]
     },
     "execution_count": 82,
     "metadata": {},
     "output_type": "execute_result"
    },
    {
     "data": {
      "text/plain": [
       "Text(0.5, 1.0, 'MAPE of Cross Validation with 10 Folder on Random Forest')"
      ]
     },
     "execution_count": 82,
     "metadata": {},
     "output_type": "execute_result"
    },
    {
     "data": {
      "image/png": "[encoded data removed]",
      "text/plain": [
       "<Figure size 1080x576 with 2 Axes>"
      ]
     },
     "metadata": {
      "needs_background": "light"
     },
     "output_type": "display_data"
    }
   ],
   "source": [
    "fig, ax = plt.subplots(1, 2, figsize=(15,8))\n",
    "ax = ax.flatten()\n",
    "ax[0].plot(range(len(scores)), scores, 'g-')\n",
    "ax[0].set_ylim([0,1])\n",
    "ax[0].set_ylabel(\"scores\")\n",
    "ax[0].set_xlabel(\"Fold\")\n",
    "ax[0].set_title(\"Score of Cross Validation with 10 Folder on Random Forest\")\n",
    "ax[1].plot(range(len(mapes)), mapes, 'r-')\n",
    "ax[1].set_ylabel(\"MAPE\")\n",
    "ax[1].set_xlabel(\"Fold\")\n",
    "ax[1].set_ylim([0,1])\n",
    "ax[1].set_title(\"MAPE of Cross Validation with 10 Folder on Random Forest\")\n",
    "#plt.show()"
   ]
  },
  {
   "cell_type": "code",
   "execution_count": 36,
   "metadata": {},
   "outputs": [
    {
     "data": {
      "text/plain": [
       "RandomForestRegressor(bootstrap=True, criterion='mse', max_depth=80,\n",
       "           max_features=2, max_leaf_nodes=None, min_impurity_decrease=0.0,\n",
       "           min_impurity_split=None, min_samples_leaf=3,\n",
       "           min_samples_split=8, min_weight_fraction_leaf=0.0,\n",
       "           n_estimators=100, n_jobs=1, oob_score=False, random_state=None,\n",
       "           verbose=0, warm_start=False)"
      ]
     },
     "execution_count": 36,
     "metadata": {},
     "output_type": "execute_result"
    },
    {
     "name": "stdout",
     "output_type": "stream",
     "text": [
      "Model Performance\n",
      "Accuracy = 99.15%.\n",
      "MAPE = 0.85%.\n"
     ]
    },
    {
     "data": {
      "text/plain": [
       "99.15481451247209"
      ]
     },
     "execution_count": 36,
     "metadata": {},
     "output_type": "execute_result"
    }
   ],
   "source": [
    "best_param_cv = {\n",
    "    'bootstrap': True,\n",
    "    'max_depth': 80,\n",
    "    'max_features': 2,\n",
    "    'min_samples_split': 8,\n",
    "    'min_samples_leaf': 3,\n",
    "    'n_estimators': 100\n",
    "}\n",
    "rf = RandomForestRegressor(**best_param_cv)\n",
    "rf.fit(X_train, y_train)\n",
    "evaluate(rf, X_test, y_test)"
   ]
  },
  {
   "cell_type": "markdown",
   "metadata": {},
   "source": [
    "## LightGBM"
   ]
  },
  {
   "cell_type": "code",
   "execution_count": 55,
   "metadata": {},
   "outputs": [],
   "source": [
    "import lightgbm as lgb"
   ]
  },
  {
   "cell_type": "code",
   "execution_count": 120,
   "metadata": {},
   "outputs": [],
   "source": [
    "X_train_, X_val, y_train_, y_val = train_test_split(X_train, y_train, test_size=0.2)"
   ]
  },
  {
   "cell_type": "code",
   "execution_count": 121,
   "metadata": {},
   "outputs": [],
   "source": [
    "train_data = lgb.Dataset(X_train_.values, label=y_train_)\n",
    "validation_data = lgb.Dataset(X_val.values, label=y_val, reference=train_data)"
   ]
  },
  {
   "cell_type": "markdown",
   "metadata": {},
   "source": [
    "param = {\n",
    "    'num_leaves': 31,\n",
    "    'objective': 'regression',\n",
    "    'metric': 'mape',\n",
    "    'max_depth': 6, \n",
    "    'learning_rate': 0.1,\n",
    "    'verbose': 0, \n",
    "    'early_stopping_round': 20\n",
    "}"
   ]
  },
  {
   "cell_type": "markdown",
   "metadata": {},
   "source": [
    "param = {'boosting_type': 'gbdt',\n",
    "         'colsample_bytree': 0.9827253740513708,\n",
    "         'min_child_samples': 442,\n",
    "         'min_child_weight': 1e-05,\n",
    "         'num_leaves': 13,\n",
    "         'objective': 'regression',\n",
    "         'reg_alpha': 1,\n",
    "         'reg_lambda': 1,\n",
    "         'subsample': 0.9642224534031838\n",
    "}\n",
    "param['early_stopping_round'] = 30\n",
    "param['metric'] = 'mape'"
   ]
  },
  {
   "cell_type": "code",
   "execution_count": 123,
   "metadata": {},
   "outputs": [],
   "source": [
    "def feval_mape(ypred, data):\n",
    "    y = data.get_label()\n",
    "    mape = np.mean(np.abs(y - ypred)/y)\n",
    "    return 'custom_mape', mape, False"
   ]
  },
  {
   "cell_type": "code",
   "execution_count": 124,
   "metadata": {},
   "outputs": [
    {
     "name": "stdout",
     "output_type": "stream",
     "text": [
      "Training until validation scores don't improve for 30 rounds.\n",
      "Early stopping, best iteration is:\n",
      "[21]\ttraining's mape: 0.343357\ttraining's custom_mape: 0.343357\tvalid_1's mape: 2.18525\tvalid_1's custom_mape: 2.18525\n"
     ]
    }
   ],
   "source": [
    "num_round = 5000\n",
    "bst = lgb.train(param, train_data, num_round, valid_sets=[train_data, validation_data], feval=feval_mape, verbose_eval=500)"
   ]
  },
  {
   "cell_type": "code",
   "execution_count": 98,
   "metadata": {},
   "outputs": [
    {
     "name": "stdout",
     "output_type": "stream",
     "text": [
      "Model performance: 93.55%\n",
      "MAPE: 6.45%\n"
     ]
    }
   ],
   "source": [
    "y_pred = bst.predict(X_test, num_iteration=bst.best_iteration)\n",
    "print(\"Model performance: {:.2f}%\".format(accuracy_score(np.exp(y_test), np.exp(y_pred)) * 100))\n",
    "print(\"MAPE: {:.2f}%\".format(MAPE(np.exp(y_test), np.exp(y_pred)) * 100))"
   ]
  },
  {
   "cell_type": "code",
   "execution_count": 96,
   "metadata": {},
   "outputs": [
    {
     "name": "stdout",
     "output_type": "stream",
     "text": [
      "Model performance: 93.60%\n",
      "MAPE: 6.40%\n"
     ]
    }
   ],
   "source": [
    "y_pred = bst.predict(X_val.values, num_iteration=bst.best_iteration)\n",
    "print(\"Model performance: {:.2f}%\".format(accuracy_score(np.exp(y_val), np.exp(y_pred)) * 100))\n",
    "print(\"MAPE: {:.2f}%\".format(MAPE(np.exp(y_val), np.exp(y_pred)) * 100))"
   ]
  },
  {
   "cell_type": "code",
   "execution_count": 83,
   "metadata": {},
   "outputs": [
    {
     "data": {
      "text/plain": [
       "array([4894.21886789])"
      ]
     },
     "execution_count": 83,
     "metadata": {},
     "output_type": "execute_result"
    }
   ],
   "source": [
    "np.exp(y_pred)"
   ]
  },
  {
   "cell_type": "code",
   "execution_count": 85,
   "metadata": {},
   "outputs": [
    {
     "data": {
      "text/plain": [
       "5025.000000000001"
      ]
     },
     "execution_count": 85,
     "metadata": {},
     "output_type": "execute_result"
    }
   ],
   "source": [
    "np.exp(y_train_[1])"
   ]
  },
  {
   "cell_type": "code",
   "execution_count": 86,
   "metadata": {},
   "outputs": [
    {
     "data": {
      "text/plain": [
       "0.02602609594228852"
      ]
     },
     "execution_count": 86,
     "metadata": {},
     "output_type": "execute_result"
    }
   ],
   "source": [
    "(5025 - 4894.21886789)/5025"
   ]
  },
  {
   "cell_type": "code",
   "execution_count": 74,
   "metadata": {},
   "outputs": [
    {
     "data": {
      "text/plain": [
       "<matplotlib.axes._subplots.AxesSubplot at 0x1a53711198>"
      ]
     },
     "execution_count": 74,
     "metadata": {},
     "output_type": "execute_result"
    },
    {
     "data": {
      "image/png": "[encoded data removed]",
      "text/plain": [
       "<Figure size 1152x576 with 1 Axes>"
      ]
     },
     "metadata": {
      "needs_background": "light"
     },
     "output_type": "display_data"
    }
   ],
   "source": [
    "lgb.plot_importance(bst, importance_type=\"gain\", max_num_features=15, figsize=(16,8), grid=False)"
   ]
  },
  {
   "cell_type": "code",
   "execution_count": 75,
   "metadata": {},
   "outputs": [
    {
     "data": {
      "text/plain": [
       "<matplotlib.axes._subplots.AxesSubplot at 0x1a39d35588>"
      ]
     },
     "execution_count": 75,
     "metadata": {},
     "output_type": "execute_result"
    },
    {
     "data": {
      "image/png": "[encoded data removed]",
      "text/plain": [
       "<Figure size 1152x576 with 1 Axes>"
      ]
     },
     "metadata": {
      "needs_background": "light"
     },
     "output_type": "display_data"
    }
   ],
   "source": [
    "lgb.plot_importance(bst, importance_type=\"split\", max_num_features=15, figsize=(16,8), grid=False)"
   ]
  },
  {
   "cell_type": "code",
   "execution_count": 63,
   "metadata": {},
   "outputs": [],
   "source": [
    "cv_results = lgb.cv(param, train_data, num_round, nfold=5, stratified=False)"
   ]
  },
  {
   "cell_type": "code",
   "execution_count": 64,
   "metadata": {},
   "outputs": [
    {
     "data": {
      "text/plain": [
       "[<matplotlib.lines.Line2D at 0x1a53b9f710>]"
      ]
     },
     "execution_count": 64,
     "metadata": {},
     "output_type": "execute_result"
    },
    {
     "data": {
      "text/plain": [
       "[<matplotlib.lines.Line2D at 0x1a39494518>]"
      ]
     },
     "execution_count": 64,
     "metadata": {},
     "output_type": "execute_result"
    },
    {
     "data": {
      "text/plain": [
       "<matplotlib.legend.Legend at 0x1a53b9fe10>"
      ]
     },
     "execution_count": 64,
     "metadata": {},
     "output_type": "execute_result"
    },
    {
     "data": {
      "text/plain": [
       "<matplotlib.legend.Legend at 0x1a53b9fb70>"
      ]
     },
     "execution_count": 64,
     "metadata": {},
     "output_type": "execute_result"
    },
    {
     "data": {
      "image/png": "[encoded data removed]",
      "text/plain": [
       "<Figure size 1152x576 with 2 Axes>"
      ]
     },
     "metadata": {
      "needs_background": "light"
     },
     "output_type": "display_data"
    }
   ],
   "source": [
    "fig, ax = plt.subplots(1, 2, figsize=(16,8))\n",
    "ax = ax.flatten()\n",
    "ax[0].plot(range(len(cv_results['mape-mean'])), cv_results['mape-mean'], color='green', label='mape-mean')\n",
    "ax[1].plot(range(len(cv_results['mape-stdv'])), cv_results['mape-stdv'], color='red', label='mape-stdv')\n",
    "ax[0].legend()\n",
    "ax[1].legend()"
   ]
  },
  {
   "cell_type": "markdown",
   "metadata": {},
   "source": [
    "### Save DataSet"
   ]
  },
  {
   "cell_type": "code",
   "execution_count": 96,
   "metadata": {},
   "outputs": [
    {
     "data": {
      "text/plain": [
       "<lightgbm.basic.Dataset at 0x1a2dd43400>"
      ]
     },
     "execution_count": 96,
     "metadata": {},
     "output_type": "execute_result"
    },
    {
     "data": {
      "text/plain": [
       "<lightgbm.basic.Dataset at 0x1a2dd43390>"
      ]
     },
     "execution_count": 96,
     "metadata": {},
     "output_type": "execute_result"
    }
   ],
   "source": [
    "train_data.save_binary(os.path.join(BASE_DIR, 'train.bin'))\n",
    "validation_data.save_binary(os.path.join(BASE_DIR, 'validation.bin'))"
   ]
  },
  {
   "cell_type": "code",
   "execution_count": 93,
   "metadata": {},
   "outputs": [],
   "source": [
    "train_data_ = lgb.Dataset(os.path.join(BASE_DIR, 'train.bin'))"
   ]
  },
  {
   "cell_type": "code",
   "execution_count": 95,
   "metadata": {},
   "outputs": [
    {
     "data": {
      "text/plain": [
       "<lightgbm.basic.Dataset at 0x1a3153a0f0>"
      ]
     },
     "execution_count": 95,
     "metadata": {},
     "output_type": "execute_result"
    }
   ],
   "source": [
    "train_data_"
   ]
  },
  {
   "cell_type": "code",
   "execution_count": 97,
   "metadata": {},
   "outputs": [],
   "source": [
    "valid_data = lgb.Dataset(os.path.join(BASE_DIR, 'validation.bin'), reference=train_data_)"
   ]
  },
  {
   "cell_type": "code",
   "execution_count": 98,
   "metadata": {},
   "outputs": [
    {
     "data": {
      "text/plain": [
       "<lightgbm.basic.Dataset at 0x1a31d65f60>"
      ]
     },
     "execution_count": 98,
     "metadata": {},
     "output_type": "execute_result"
    }
   ],
   "source": [
    "valid_data"
   ]
  },
  {
   "cell_type": "code",
   "execution_count": 102,
   "metadata": {},
   "outputs": [],
   "source": [
    "from scipy.stats import randint as sp_randint\n",
    "from scipy.stats import uniform as sp_uniform\n",
    "param_test ={'num_leaves': sp_randint(6, 50),\n",
    "             'objective' : ['regression'],\n",
    "             'boosting_type' : ['gbdt', 'dart', 'fr'],\n",
    "             'min_child_samples': sp_randint(100, 500), \n",
    "             'min_child_weight': [1e-5, 1e-3, 1e-2, 1e-1, 1, 1e1, 1e2, 1e3, 1e4],\n",
    "             'subsample': sp_uniform(loc=0.2, scale=0.8), \n",
    "             'colsample_bytree': sp_uniform(loc=0.4, scale=0.6),\n",
    "             'reg_alpha': [0, 1e-1, 1, 2, 5, 7, 10, 50, 100],\n",
    "             'reg_lambda': [0, 1e-1, 1, 5, 10, 20, 50, 100]}"
   ]
  },
  {
   "cell_type": "code",
   "execution_count": null,
   "metadata": {},
   "outputs": [],
   "source": [
    "gridParams = {\n",
    "    'learning_rate': [0.1, 0.01, 0.001],\n",
    "    'num_leaves': [31, 50, 100, 150],\n",
    "    'boosting_type' : ['gbdt', 'dart', 'fr'],\n",
    "    'objective' : ['regression'],\n",
    "    'metric': ['mape'],\n",
    "    'max_depth': [6, 10, 20, 30],\n",
    "    'max_bin': [225, 300, 350, 500],\n",
    "}"
   ]
  },
  {
   "cell_type": "code",
   "execution_count": 101,
   "metadata": {},
   "outputs": [],
   "source": [
    "from sklearn.model_selection import RandomizedSearchCV, GridSearchCV"
   ]
  },
  {
   "cell_type": "code",
   "execution_count": 108,
   "metadata": {},
   "outputs": [],
   "source": [
    "fit_params={\"early_stopping_rounds\":30, \n",
    "            \"eval_metric\" : 'mape', \n",
    "            \"eval_set\" : [(X_val,y_val)],\n",
    "            'eval_names': ['valid'],\n",
    "            #'callbacks': [lgb.reset_parameter(learning_rate=learning_rate_010_decay_power_099)],\n",
    "            'verbose': 100,\n",
    "            'categorical_feature': 'auto'}"
   ]
  },
  {
   "cell_type": "code",
   "execution_count": 109,
   "metadata": {},
   "outputs": [],
   "source": [
    "lgb_model = lgb.LGBMRegressor(max_depth=-1, random_state=314, silent=True, metric='mape', n_jobs=4, n_estimators=5000)"
   ]
  },
  {
   "cell_type": "code",
   "execution_count": 117,
   "metadata": {},
   "outputs": [],
   "source": [
    "mape_scorer = make_scorer(MAPE, greater_is_better=False)"
   ]
  },
  {
   "cell_type": "code",
   "execution_count": 118,
   "metadata": {},
   "outputs": [],
   "source": [
    "gs = RandomizedSearchCV(\n",
    "    estimator=lgb_model, param_distributions=param_test, \n",
    "    n_iter=100,\n",
    "    scoring=mape_scorer,\n",
    "    cv=3,\n",
    "    refit=True,\n",
    "    random_state=314,\n",
    "    verbose=True)"
   ]
  },
  {
   "cell_type": "code",
   "execution_count": 119,
   "metadata": {},
   "outputs": [
    {
     "name": "stdout",
     "output_type": "stream",
     "text": [
      "Fitting 3 folds for each of 100 candidates, totalling 300 fits\n",
      "Training until validation scores don't improve for 30 rounds.\n",
      "[100]\tvalid's mape: 0.0101758\n",
      "[200]\tvalid's mape: 0.00956844\n",
      "[300]\tvalid's mape: 0.00924902\n",
      "[400]\tvalid's mape: 0.00903636\n",
      "[500]\tvalid's mape: 0.00890663\n",
      "[600]\tvalid's mape: 0.00879638\n",
      "[700]\tvalid's mape: 0.00872015\n",
      "[800]\tvalid's mape: 0.00864552\n",
      "[900]\tvalid's mape: 0.00859585\n",
      "[1000]\tvalid's mape: 0.00855415\n",
      "[1100]\tvalid's mape: 0.00851643\n",
      "[1200]\tvalid's mape: 0.00848099\n",
      "[1300]\tvalid's mape: 0.00845422\n",
      "[1400]\tvalid's mape: 0.00843287\n",
      "[1500]\tvalid's mape: 0.00841415\n",
      "[1600]\tvalid's mape: 0.00839226\n",
      "[1700]\tvalid's mape: 0.00837662\n",
      "[1800]\tvalid's mape: 0.00835975\n",
      "[1900]\tvalid's mape: 0.00834877\n",
      "[2000]\tvalid's mape: 0.00833704\n",
      "[2100]\tvalid's mape: 0.00832378\n",
      "[2200]\tvalid's mape: 0.00831122\n",
      "[2300]\tvalid's mape: 0.00830184\n",
      "[2400]\tvalid's mape: 0.00829387\n",
      "[2500]\tvalid's mape: 0.00828642\n",
      "[2600]\tvalid's mape: 0.00827782\n",
      "[2700]\tvalid's mape: 0.00827245\n",
      "[2800]\tvalid's mape: 0.00826778\n",
      "[2900]\tvalid's mape: 0.00825998\n",
      "[3000]\tvalid's mape: 0.00824997\n",
      "[3100]\tvalid's mape: 0.00824589\n",
      "[3200]\tvalid's mape: 0.00824112\n",
      "[3300]\tvalid's mape: 0.00823707\n",
      "[3400]\tvalid's mape: 0.00823384\n",
      "Early stopping, best iteration is:\n",
      "[3379]\tvalid's mape: 0.00823255\n",
      "Training until validation scores don't improve for 30 rounds.\n",
      "[100]\tvalid's mape: 0.0101341\n",
      "[200]\tvalid's mape: 0.00948886\n",
      "[300]\tvalid's mape: 0.00917415\n",
      "[400]\tvalid's mape: 0.00898324\n",
      "[500]\tvalid's mape: 0.00883539\n",
      "[600]\tvalid's mape: 0.00873531\n",
      "[700]\tvalid's mape: 0.00866219\n",
      "[800]\tvalid's mape: 0.00859772\n",
      "[900]\tvalid's mape: 0.00854758\n",
      "[1000]\tvalid's mape: 0.00850449\n",
      "[1100]\tvalid's mape: 0.00846521\n",
      "[1200]\tvalid's mape: 0.00842619\n",
      "[1300]\tvalid's mape: 0.00839851\n",
      "[1400]\tvalid's mape: 0.00837492\n",
      "[1500]\tvalid's mape: 0.0083536\n",
      "[1600]\tvalid's mape: 0.0083331\n",
      "[1700]\tvalid's mape: 0.00831435\n",
      "[1800]\tvalid's mape: 0.0082999\n",
      "[1900]\tvalid's mape: 0.00828552\n",
      "[2000]\tvalid's mape: 0.0082691\n",
      "[2100]\tvalid's mape: 0.00825929\n",
      "[2200]\tvalid's mape: 0.008247\n",
      "[2300]\tvalid's mape: 0.00823991\n",
      "[2400]\tvalid's mape: 0.00822993\n",
      "[2500]\tvalid's mape: 0.00822194\n"
     ]
    },
    {
     "name": "stderr",
     "output_type": "stream",
     "text": [
      "ERROR:root:Internal Python error in the inspect module.\n",
      "Below is the traceback from this internal error.\n",
      "\n"
     ]
    },
    {
     "name": "stdout",
     "output_type": "stream",
     "text": [
      "Traceback (most recent call last):\n",
      "  File \"/Users/nguyenkhacbaoanh/anaconda3/lib/python3.6/site-packages/IPython/core/interactiveshell.py\", line 3331, in run_code\n",
      "    exec(code_obj, self.user_global_ns, self.user_ns)\n",
      "  File \"<ipython-input-119-3bf04ebb1295>\", line 1, in <module>\n",
      "    gs.fit(X_train_, y_train_, **fit_params)\n",
      "  File \"/Users/nguyenkhacbaoanh/anaconda3/lib/python3.6/site-packages/sklearn/model_selection/_search.py\", line 639, in fit\n",
      "    cv.split(X, y, groups)))\n",
      "  File \"/Users/nguyenkhacbaoanh/anaconda3/lib/python3.6/site-packages/sklearn/externals/joblib/parallel.py\", line 779, in __call__\n",
      "    while self.dispatch_one_batch(iterator):\n",
      "  File \"/Users/nguyenkhacbaoanh/anaconda3/lib/python3.6/site-packages/sklearn/externals/joblib/parallel.py\", line 625, in dispatch_one_batch\n",
      "    self._dispatch(tasks)\n",
      "  File \"/Users/nguyenkhacbaoanh/anaconda3/lib/python3.6/site-packages/sklearn/externals/joblib/parallel.py\", line 588, in _dispatch\n",
      "    job = self._backend.apply_async(batch, callback=cb)\n",
      "  File \"/Users/nguyenkhacbaoanh/anaconda3/lib/python3.6/site-packages/sklearn/externals/joblib/_parallel_backends.py\", line 111, in apply_async\n",
      "    result = ImmediateResult(func)\n",
      "  File \"/Users/nguyenkhacbaoanh/anaconda3/lib/python3.6/site-packages/sklearn/externals/joblib/_parallel_backends.py\", line 332, in __init__\n",
      "    self.results = batch()\n",
      "  File \"/Users/nguyenkhacbaoanh/anaconda3/lib/python3.6/site-packages/sklearn/externals/joblib/parallel.py\", line 131, in __call__\n",
      "    return [func(*args, **kwargs) for func, args, kwargs in self.items]\n",
      "  File \"/Users/nguyenkhacbaoanh/anaconda3/lib/python3.6/site-packages/sklearn/externals/joblib/parallel.py\", line 131, in <listcomp>\n",
      "    return [func(*args, **kwargs) for func, args, kwargs in self.items]\n",
      "  File \"/Users/nguyenkhacbaoanh/anaconda3/lib/python3.6/site-packages/sklearn/model_selection/_validation.py\", line 458, in _fit_and_score\n",
      "    estimator.fit(X_train, y_train, **fit_params)\n",
      "  File \"/Users/nguyenkhacbaoanh/anaconda3/lib/python3.6/site-packages/lightgbm/sklearn.py\", line 669, in fit\n",
      "    callbacks=callbacks)\n",
      "  File \"/Users/nguyenkhacbaoanh/anaconda3/lib/python3.6/site-packages/lightgbm/sklearn.py\", line 499, in fit\n",
      "    callbacks=callbacks)\n",
      "  File \"/Users/nguyenkhacbaoanh/anaconda3/lib/python3.6/site-packages/lightgbm/engine.py\", line 208, in train\n",
      "    booster.update(fobj=fobj)\n",
      "  File \"/Users/nguyenkhacbaoanh/anaconda3/lib/python3.6/site-packages/lightgbm/basic.py\", line 1717, in update\n",
      "    ctypes.byref(is_finished)))\n",
      "KeyboardInterrupt\n",
      "\n",
      "During handling of the above exception, another exception occurred:\n",
      "\n",
      "Traceback (most recent call last):\n",
      "  File \"/Users/nguyenkhacbaoanh/anaconda3/lib/python3.6/site-packages/IPython/core/interactiveshell.py\", line 2044, in showtraceback\n",
      "    stb = value._render_traceback_()\n",
      "AttributeError: 'KeyboardInterrupt' object has no attribute '_render_traceback_'\n",
      "\n",
      "During handling of the above exception, another exception occurred:\n",
      "\n",
      "Traceback (most recent call last):\n",
      "  File \"/Users/nguyenkhacbaoanh/anaconda3/lib/python3.6/site-packages/IPython/core/ultratb.py\", line 1148, in get_records\n",
      "    return _fixed_getinnerframes(etb, number_of_lines_of_context, tb_offset)\n",
      "  File \"/Users/nguyenkhacbaoanh/anaconda3/lib/python3.6/site-packages/IPython/core/ultratb.py\", line 316, in wrapped\n",
      "    return f(*args, **kwargs)\n",
      "  File \"/Users/nguyenkhacbaoanh/anaconda3/lib/python3.6/site-packages/IPython/core/ultratb.py\", line 350, in _fixed_getinnerframes\n",
      "    records = fix_frame_records_filenames(inspect.getinnerframes(etb, context))\n",
      "  File \"/Users/nguyenkhacbaoanh/anaconda3/lib/python3.6/inspect.py\", line 1483, in getinnerframes\n",
      "    frameinfo = (tb.tb_frame,) + getframeinfo(tb, context)\n",
      "  File \"/Users/nguyenkhacbaoanh/anaconda3/lib/python3.6/inspect.py\", line 1441, in getframeinfo\n",
      "    filename = getsourcefile(frame) or getfile(frame)\n",
      "  File \"/Users/nguyenkhacbaoanh/anaconda3/lib/python3.6/inspect.py\", line 696, in getsourcefile\n",
      "    if getattr(getmodule(object, filename), '__loader__', None) is not None:\n",
      "  File \"/Users/nguyenkhacbaoanh/anaconda3/lib/python3.6/inspect.py\", line 725, in getmodule\n",
      "    file = getabsfile(object, _filename)\n",
      "  File \"/Users/nguyenkhacbaoanh/anaconda3/lib/python3.6/inspect.py\", line 709, in getabsfile\n",
      "    return os.path.normcase(os.path.abspath(_filename))\n",
      "  File \"/Users/nguyenkhacbaoanh/anaconda3/lib/python3.6/posixpath.py\", line 376, in abspath\n",
      "    cwd = os.getcwd()\n",
      "FileNotFoundError: [Errno 2] No such file or directory\n"
     ]
    },
    {
     "ename": "KeyboardInterrupt",
     "evalue": "",
     "output_type": "error",
     "traceback": [
      "\u001b[0;31m---------------------------------------------------------------------------\u001b[0m"
     ]
    }
   ],
   "source": [
    "gs.fit(X_train_, y_train_, **fit_params)"
   ]
  },
  {
   "cell_type": "code",
   "execution_count": null,
   "metadata": {},
   "outputs": [],
   "source": [
    "print('Best score reached: {} with params: {} '.format(gs.best_score_, gs.best_params_))"
   ]
  },
  {
   "cell_type": "code",
   "execution_count": null,
   "metadata": {},
   "outputs": [],
   "source": [
    "param = {'boosting_type': 'gbdt',\n",
    "         'colsample_bytree': 0.9827253740513708,\n",
    "         'min_child_samples': 442,\n",
    "         'min_child_weight': 1e-05,\n",
    "         'num_leaves': 13,\n",
    "         'objective': 'regression',\n",
    "         'reg_alpha': 1,\n",
    "         'reg_lambda': 1,\n",
    "         'subsample': 0.9642224534031838\n",
    "}\n",
    "param['early_stopping_round'] = 30\n",
    "param['metric'] = 'mape'"
   ]
  },
  {
   "cell_type": "markdown",
   "metadata": {},
   "source": [
    "### Deeply analyst Model"
   ]
  },
  {
   "cell_type": "code",
   "execution_count": 188,
   "metadata": {},
   "outputs": [
    {
     "data": {
      "text/plain": [
       "RandomForestRegressor(bootstrap=True, criterion='mse', max_depth=None,\n",
       "           max_features='auto', max_leaf_nodes=None,\n",
       "           min_impurity_decrease=0.0, min_impurity_split=None,\n",
       "           min_samples_leaf=1, min_samples_split=2,\n",
       "           min_weight_fraction_leaf=0.0, n_estimators=10, n_jobs=1,\n",
       "           oob_score=False, random_state=42, verbose=0, warm_start=False)"
      ]
     },
     "execution_count": 188,
     "metadata": {},
     "output_type": "execute_result"
    }
   ],
   "source": [
    "rf_test = RandomForestRegressor()\n",
    "rf_test.fit(folds[\"X_train_cv\"][0], folds[\"y_train_cv\"][0])"
   ]
  },
  {
   "cell_type": "code",
   "execution_count": 190,
   "metadata": {},
   "outputs": [
    {
     "name": "stdout",
     "output_type": "stream",
     "text": [
      "MAPE: 2.97\n"
     ]
    }
   ],
   "source": [
    "y_val_pred = rf_test.predict(folds[\"X_val\"][0])\n",
    "print(\"MAPE: {:.2f}\".format(MAPE(np.exp(folds[\"y_val\"][0]), np.exp(y_val_pred))))"
   ]
  },
  {
   "cell_type": "code",
   "execution_count": 191,
   "metadata": {},
   "outputs": [
    {
     "data": {
      "text/plain": [
       "2.96778457387575"
      ]
     },
     "execution_count": 191,
     "metadata": {},
     "output_type": "execute_result"
    }
   ],
   "source": [
    "np.mean(np.abs(np.exp(folds[\"y_val\"][0]) - np.exp(y_val_pred))/np.exp(folds[\"y_val\"][0]))"
   ]
  },
  {
   "cell_type": "code",
   "execution_count": 192,
   "metadata": {},
   "outputs": [
    {
     "data": {
      "text/plain": [
       "11285"
      ]
     },
     "execution_count": 192,
     "metadata": {},
     "output_type": "execute_result"
    }
   ],
   "source": [
    "np.argmax([np.abs(np.exp(folds[\"y_val\"][0]) - np.exp(y_val_pred))/np.exp(folds[\"y_val\"][0])])"
   ]
  },
  {
   "cell_type": "code",
   "execution_count": 143,
   "metadata": {},
   "outputs": [
    {
     "data": {
      "text/plain": [
       "array([ 38.46568067, 206.16817323, 166.63523213, ..., 267.16948689,\n",
       "       335.71989034, 157.74754807])"
      ]
     },
     "execution_count": 143,
     "metadata": {},
     "output_type": "execute_result"
    }
   ],
   "source": [
    "np.abs(np.exp(folds[\"y_val\"][0]) - np.exp(y_val_pred))/np.exp(folds[\"y_val\"][0])[4173]"
   ]
  },
  {
   "cell_type": "code",
   "execution_count": 148,
   "metadata": {},
   "outputs": [
    {
     "data": {
      "text/plain": [
       "13147"
      ]
     },
     "execution_count": 148,
     "metadata": {},
     "output_type": "execute_result"
    }
   ],
   "source": [
    "len(np.abs(np.exp(folds[\"y_val\"][0]) - np.exp(y_val_pred))/np.exp(folds[\"y_val\"][0]))"
   ]
  },
  {
   "cell_type": "code",
   "execution_count": 150,
   "metadata": {},
   "outputs": [
    {
     "data": {
      "text/plain": [
       "array([0.00832951, 0.00776586, 0.01380116, ..., 0.02962953, 0.00924059,\n",
       "       0.01576057])"
      ]
     },
     "execution_count": 150,
     "metadata": {},
     "output_type": "execute_result"
    }
   ],
   "source": [
    "np.abs(np.exp(folds[\"y_val\"][0]) - np.exp(y_val_pred))/np.exp(folds[\"y_val\"][0])"
   ]
  },
  {
   "cell_type": "code",
   "execution_count": 151,
   "metadata": {},
   "outputs": [],
   "source": [
    "a = np.abs(np.exp(folds[\"y_val\"][0]) - np.exp(y_val_pred))/np.exp(folds[\"y_val\"][0]).flatten()"
   ]
  },
  {
   "cell_type": "code",
   "execution_count": 154,
   "metadata": {},
   "outputs": [
    {
     "data": {
      "text/plain": [
       "4173"
      ]
     },
     "execution_count": 154,
     "metadata": {},
     "output_type": "execute_result"
    }
   ],
   "source": [
    "np.argmax(a)"
   ]
  },
  {
   "cell_type": "code",
   "execution_count": 155,
   "metadata": {},
   "outputs": [
    {
     "data": {
      "text/plain": [
       "103.14354562772996"
      ]
     },
     "execution_count": 155,
     "metadata": {},
     "output_type": "execute_result"
    }
   ],
   "source": [
    "np.max(a)"
   ]
  },
  {
   "cell_type": "code",
   "execution_count": 153,
   "metadata": {},
   "outputs": [
    {
     "data": {
      "text/plain": [
       "103.14354562772996"
      ]
     },
     "execution_count": 153,
     "metadata": {},
     "output_type": "execute_result"
    }
   ],
   "source": [
    "a[4173]"
   ]
  },
  {
   "cell_type": "code",
   "execution_count": null,
   "metadata": {},
   "outputs": [],
   "source": []
  },
  {
   "cell_type": "markdown",
   "metadata": {},
   "source": [
    "## Model Interpreter"
   ]
  },
  {
   "cell_type": "code",
   "execution_count": null,
   "metadata": {},
   "outputs": [],
   "source": [
    "import shap\n",
    "# Initialize JS For Plot\n",
    "shap.initjs()"
   ]
  },
  {
   "cell_type": "code",
   "execution_count": null,
   "metadata": {},
   "outputs": [],
   "source": [
    "# Explainer\n",
    "explainer = shap.TreeExplainer(rfr)"
   ]
  },
  {
   "cell_type": "code",
   "execution_count": null,
   "metadata": {},
   "outputs": [],
   "source": [
    "# calculate shap values for one point testing dataset\n",
    "shap_values = explainer.shap_values(X_test_imp[0])"
   ]
  },
  {
   "cell_type": "code",
   "execution_count": null,
   "metadata": {},
   "outputs": [],
   "source": [
    "shap_values[0]"
   ]
  },
  {
   "cell_type": "code",
   "execution_count": null,
   "metadata": {},
   "outputs": [],
   "source": [
    "# visualize the training set predictions\n",
    "shap.force_plot(explainer.expected_value, shap_values[:15], X_test.iloc[:15,:])"
   ]
  },
  {
   "cell_type": "code",
   "execution_count": null,
   "metadata": {},
   "outputs": [],
   "source": [
    "shap.force_plot(explainer.expected_value,shap_values[0],X_test.iloc[0,:], matplotlib=True)"
   ]
  },
  {
   "cell_type": "code",
   "execution_count": null,
   "metadata": {},
   "outputs": [],
   "source": [
    "shap.summary_plot(shap_values,X_test)"
   ]
  },
  {
   "cell_type": "code",
   "execution_count": null,
   "metadata": {},
   "outputs": [],
   "source": [
    "# Dependence Plot\n",
    "shap.dependence_plot(\"age\", shap_values,X_test, interaction_index=\"Model_year\")"
   ]
  },
  {
   "cell_type": "code",
   "execution_count": null,
   "metadata": {},
   "outputs": [],
   "source": [
    "shap.dependence_plot(\"age\", shap_values,X_test, interaction_index=\"Make\")"
   ]
  },
  {
   "cell_type": "code",
   "execution_count": null,
   "metadata": {},
   "outputs": [],
   "source": [
    "shap.dependence_plot(\"Model_year\", shap_values,X_test, interaction_index=\"age\")"
   ]
  },
  {
   "cell_type": "code",
   "execution_count": null,
   "metadata": {},
   "outputs": [],
   "source": []
  }
 ],
 "metadata": {
  "kernelspec": {
   "display_name": "Python 3",
   "language": "python",
   "name": "python3"
  },
  "language_info": {
   "codemirror_mode": {
    "name": "ipython",
    "version": 3
   },
   "file_extension": ".py",
   "mimetype": "text/x-python",
   "name": "python",
   "nbconvert_exporter": "python",
   "pygments_lexer": "ipython3",
   "version": "3.6.5"
  }
 },
 "nbformat": 4,
 "nbformat_minor": 2
}
