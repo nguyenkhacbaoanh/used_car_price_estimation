{
 "cells": [
  {
   "cell_type": "code",
   "execution_count": 16,
   "metadata": {},
   "outputs": [],
   "source": [
    "import pandas as pd\n",
    "import numpy as np\n",
    "import matplotlib\n",
    "import matplotlib.pyplot as plt\n",
    "import seaborn as sns\n",
    "import os\n",
    "import re\n",
    "from datetime import datetime\n",
    "from sklearn.preprocessing import LabelEncoder\n",
    "from sklearn.model_selection import train_test_split\n",
    "from sklearn.ensemble import RandomForestRegressor, AdaBoostRegressor\n",
    "from sklearn.linear_model import Lasso, ridge_regression\n",
    "from sklearn.neighbors import NearestNeighbors\n",
    "import lightgbm as lgb\n",
    "%matplotlib inline"
   ]
  },
  {
   "cell_type": "code",
   "execution_count": 2,
   "metadata": {},
   "outputs": [],
   "source": [
    "NOTEBOOK_DIR = os.getcwd()\n",
    "BASE_DIR = os.path.dirname(NOTEBOOK_DIR)\n",
    "DATA_DIR = os.path.join(BASE_DIR, \"data\")\n",
    "DATA_DIR_PATH = os.path.join(DATA_DIR, \"Data_cars.csv\")\n",
    "DATA_ZIP_DIR_PATH = os.path.join(DATA_DIR, \"Data_cars.csv.zip\")"
   ]
  },
  {
   "cell_type": "code",
   "execution_count": 17,
   "metadata": {},
   "outputs": [],
   "source": [
    "def online_clean(df):\n",
    "    datetime_format = \"%d/%m/%Y à %Hh%M\"\n",
    "    df.Online = [datetime.strptime(d, datetime_format) for d in df.Online.values]\n",
    "    return df\n",
    "\n",
    "def mileage_clean(df):\n",
    "    df.Mileage = [float(m.split(' ')[0]) for m in df.Mileage.values]\n",
    "    return df\n",
    "\n",
    "def descriptions_clean(df):\n",
    "    regex_pattern = r\"modele:\\s*(?P<modele>.*?(?=,)),\\sversion:\\s*(?P<version>.*?(?=,)),\\spuissance_fiscale:\\s*(?P<puissance_fiscale>.*?(?=,)),\\sportes:\\s*(?P<portes>.*?(?=,)),\\soptions:\\s*(?P<Descriptions>.*?(?=,)),\\scouleur:\\s(?P<couleur>.*$)\"\n",
    "    version = []\n",
    "    spuissance_fiscale = []\n",
    "    portes = []\n",
    "    options = []\n",
    "    couleur = []\n",
    "    for i in range(df.shape[0]):\n",
    "        match = re.search(regex_pattern, df.Description[i])\n",
    "        version.append(match.group(2))\n",
    "        spuissance_fiscale.append(match.group(3))\n",
    "        portes.append(match.group(4))\n",
    "        options.append(match.group(5))\n",
    "        couleur.append(match.group(6))\n",
    "    df[\"version\"] = list(map(str.lower, version))\n",
    "    df[\"spuissance_fiscale\"] = spuissance_fiscale\n",
    "    df[\"portes\"] = portes\n",
    "    df[\"options\"] = options\n",
    "    df[\"couleur\"] = list(map(str.lower, couleur))\n",
    "    del df[\"Description\"]\n",
    "    return df\n",
    "\n",
    "def offre_duplication_clean(df):\n",
    "    fix_col = list(df.columns)\n",
    "    fix_col.remove(\"Online\")\n",
    "    fix_col.remove(\"Price\")\n",
    "    duplicateRowsDF = df[df.sort_values(by=\"Online\").duplicated(fix_col, keep='last')]\n",
    "    row_maintain = list(set(df.index) - set(list(duplicateRowsDF.index)))\n",
    "    df = df.loc[row_maintain, :]\n",
    "    return df\n",
    "\n",
    "def price_log_transformation(df):\n",
    "    df[\"log_price\"] = np.log(df.Price.values)\n",
    "    del df[\"Price\"]\n",
    "    return df\n",
    "\n",
    "def categorical_variables(df):\n",
    "    del df[\"options\"]\n",
    "    categorical_v = [\"Make\", \"Model\", \"Model_year\", \"Fuel\", \"Gearbox\", \"version\", \"couleur\"]\n",
    "    df[categorical_v] = df[categorical_v].apply(LabelEncoder().fit_transform)\n",
    "    return df\n",
    "\n",
    "def preprocessing(data, preprocessors=None):\n",
    "    df = data.copy(deep=True)\n",
    "    if preprocessors is not None:\n",
    "        for preprocessor in preprocessors:\n",
    "            df = preprocessor(df)\n",
    "        return df\n",
    "    else:\n",
    "        return df"
   ]
  },
  {
   "cell_type": "code",
   "execution_count": 46,
   "metadata": {},
   "outputs": [
    {
     "name": "stderr",
     "output_type": "stream",
     "text": [
      "/Users/nguyenkhacbaoanh/anaconda3/lib/python3.6/site-packages/ipykernel_launcher.py:36: UserWarning: Boolean Series key will be reindexed to match DataFrame index.\n"
     ]
    },
    {
     "data": {
      "text/html": [
       "<div>\n",
       "<style scoped>\n",
       "    .dataframe tbody tr th:only-of-type {\n",
       "        vertical-align: middle;\n",
       "    }\n",
       "\n",
       "    .dataframe tbody tr th {\n",
       "        vertical-align: top;\n",
       "    }\n",
       "\n",
       "    .dataframe thead th {\n",
       "        text-align: right;\n",
       "    }\n",
       "</style>\n",
       "<table border=\"1\" class=\"dataframe\">\n",
       "  <thead>\n",
       "    <tr style=\"text-align: right;\">\n",
       "      <th></th>\n",
       "      <th>Make</th>\n",
       "      <th>Model</th>\n",
       "      <th>Model_year</th>\n",
       "      <th>Mileage</th>\n",
       "      <th>Fuel</th>\n",
       "      <th>Gearbox</th>\n",
       "      <th>Online</th>\n",
       "      <th>version</th>\n",
       "      <th>spuissance_fiscale</th>\n",
       "      <th>portes</th>\n",
       "      <th>couleur</th>\n",
       "      <th>log_price</th>\n",
       "    </tr>\n",
       "  </thead>\n",
       "  <tbody>\n",
       "    <tr>\n",
       "      <th>0</th>\n",
       "      <td>70</td>\n",
       "      <td>46</td>\n",
       "      <td>66</td>\n",
       "      <td>94341.0</td>\n",
       "      <td>3</td>\n",
       "      <td>1</td>\n",
       "      <td>2018-07-06 03:47:00</td>\n",
       "      <td>10231</td>\n",
       "      <td>4</td>\n",
       "      <td>5.0</td>\n",
       "      <td>881</td>\n",
       "      <td>9.325453</td>\n",
       "    </tr>\n",
       "    <tr>\n",
       "      <th>1</th>\n",
       "      <td>13</td>\n",
       "      <td>814</td>\n",
       "      <td>67</td>\n",
       "      <td>39051.0</td>\n",
       "      <td>3</td>\n",
       "      <td>0</td>\n",
       "      <td>2018-04-03 16:41:00</td>\n",
       "      <td>4407</td>\n",
       "      <td>16</td>\n",
       "      <td>5.0</td>\n",
       "      <td>2194</td>\n",
       "      <td>10.959992</td>\n",
       "    </tr>\n",
       "    <tr>\n",
       "      <th>2</th>\n",
       "      <td>7</td>\n",
       "      <td>635</td>\n",
       "      <td>66</td>\n",
       "      <td>75381.0</td>\n",
       "      <td>5</td>\n",
       "      <td>0</td>\n",
       "      <td>2018-07-30 01:55:00</td>\n",
       "      <td>25379</td>\n",
       "      <td>47</td>\n",
       "      <td>5.0</td>\n",
       "      <td>4957</td>\n",
       "      <td>11.294508</td>\n",
       "    </tr>\n",
       "    <tr>\n",
       "      <th>3</th>\n",
       "      <td>34</td>\n",
       "      <td>462</td>\n",
       "      <td>59</td>\n",
       "      <td>92282.0</td>\n",
       "      <td>5</td>\n",
       "      <td>1</td>\n",
       "      <td>2018-07-09 14:12:00</td>\n",
       "      <td>7044</td>\n",
       "      <td>5</td>\n",
       "      <td>3.0</td>\n",
       "      <td>4089</td>\n",
       "      <td>7.948032</td>\n",
       "    </tr>\n",
       "    <tr>\n",
       "      <th>4</th>\n",
       "      <td>32</td>\n",
       "      <td>739</td>\n",
       "      <td>70</td>\n",
       "      <td>10.0</td>\n",
       "      <td>5</td>\n",
       "      <td>1</td>\n",
       "      <td>2018-05-19 03:52:00</td>\n",
       "      <td>21956</td>\n",
       "      <td>5</td>\n",
       "      <td>5.0</td>\n",
       "      <td>1258</td>\n",
       "      <td>9.466919</td>\n",
       "    </tr>\n",
       "  </tbody>\n",
       "</table>\n",
       "</div>"
      ],
      "text/plain": [
       "   Make  Model  Model_year  Mileage  Fuel  Gearbox              Online  \\\n",
       "0    70     46          66  94341.0     3        1 2018-07-06 03:47:00   \n",
       "1    13    814          67  39051.0     3        0 2018-04-03 16:41:00   \n",
       "2     7    635          66  75381.0     5        0 2018-07-30 01:55:00   \n",
       "3    34    462          59  92282.0     5        1 2018-07-09 14:12:00   \n",
       "4    32    739          70     10.0     5        1 2018-05-19 03:52:00   \n",
       "\n",
       "   version spuissance_fiscale portes  couleur  log_price  \n",
       "0    10231                  4    5.0      881   9.325453  \n",
       "1     4407                 16    5.0     2194  10.959992  \n",
       "2    25379                 47    5.0     4957  11.294508  \n",
       "3     7044                  5    3.0     4089   7.948032  \n",
       "4    21956                  5    5.0     1258   9.466919  "
      ]
     },
     "execution_count": 46,
     "metadata": {},
     "output_type": "execute_result"
    }
   ],
   "source": [
    "if not os.path.exists(DATA_DIR_PATH):\n",
    "    !unzip \"${DATA_ZIP_DIR_PATH}\"\n",
    "\n",
    "data_car = pd.read_csv(DATA_DIR_PATH)\n",
    "\n",
    "data = preprocessing(data_car, [online_clean, \\\n",
    "                                mileage_clean, \\\n",
    "                                descriptions_clean, \\\n",
    "                                offre_duplication_clean, \\\n",
    "                                price_log_transformation, \\\n",
    "                                categorical_variables])\n",
    "data.head()"
   ]
  },
  {
   "cell_type": "code",
   "execution_count": 47,
   "metadata": {},
   "outputs": [],
   "source": [
    "del data[\"Online\"]"
   ]
  },
  {
   "cell_type": "code",
   "execution_count": 60,
   "metadata": {},
   "outputs": [],
   "source": [
    "data[[\"spuissance_fiscale\", \"portes\"]] = data[[\"spuissance_fiscale\", \"portes\"]].apply(pd.to_numeric)\n",
    "#test = data[[\"spuissance_fiscale\", \"portes\"]].apply(pd.to_numeric)\n",
    "#data[test[\"portes\"].isna()]"
   ]
  },
  {
   "cell_type": "code",
   "execution_count": 61,
   "metadata": {},
   "outputs": [
    {
     "name": "stdout",
     "output_type": "stream",
     "text": [
      "<class 'pandas.core.frame.DataFrame'>\n",
      "Int64Index: 160275 entries, 0 to 166694\n",
      "Data columns (total 11 columns):\n",
      "Make                  160275 non-null int64\n",
      "Model                 160275 non-null int64\n",
      "Model_year            160275 non-null int64\n",
      "Mileage               160275 non-null float64\n",
      "Fuel                  160275 non-null int64\n",
      "Gearbox               160275 non-null int64\n",
      "version               160275 non-null int64\n",
      "spuissance_fiscale    160275 non-null int64\n",
      "portes                159016 non-null float64\n",
      "couleur               160275 non-null int64\n",
      "log_price             160275 non-null float64\n",
      "dtypes: float64(3), int64(8)\n",
      "memory usage: 14.7 MB\n"
     ]
    }
   ],
   "source": [
    "data.info()"
   ]
  },
  {
   "cell_type": "markdown",
   "metadata": {},
   "source": [
    "## Data preparation"
   ]
  },
  {
   "cell_type": "code",
   "execution_count": 62,
   "metadata": {},
   "outputs": [
    {
     "name": "stdout",
     "output_type": "stream",
     "text": [
      "(160275, 11)\n",
      "(159016, 11)\n"
     ]
    }
   ],
   "source": [
    "# il y a des valeur manques dans la colones portes, on les supprime\n",
    "print(data.shape)\n",
    "data.dropna(inplace=True)\n",
    "print(data.shape)"
   ]
  },
  {
   "cell_type": "code",
   "execution_count": 63,
   "metadata": {},
   "outputs": [],
   "source": [
    "data = data.iloc[:, :-1]\n",
    "target = data.iloc[:, -1]"
   ]
  },
  {
   "cell_type": "code",
   "execution_count": 64,
   "metadata": {},
   "outputs": [
    {
     "data": {
      "text/plain": [
       "((127212, 10), (31804, 10), (127212,), (31804,))"
      ]
     },
     "execution_count": 64,
     "metadata": {},
     "output_type": "execute_result"
    }
   ],
   "source": [
    "X_train, X_test, y_train, y_test = train_test_split(data, target, test_size=0.2, random_state=42)\n",
    "X_train.shape, X_test.shape, y_train.shape, y_test.shape"
   ]
  },
  {
   "cell_type": "markdown",
   "metadata": {},
   "source": [
    "## Random forest applie"
   ]
  },
  {
   "cell_type": "code",
   "execution_count": 65,
   "metadata": {},
   "outputs": [
    {
     "data": {
      "text/plain": [
       "RandomForestRegressor(bootstrap=True, criterion='mse', max_depth=None,\n",
       "           max_features='auto', max_leaf_nodes=None,\n",
       "           min_impurity_decrease=0.0, min_impurity_split=None,\n",
       "           min_samples_leaf=1, min_samples_split=2,\n",
       "           min_weight_fraction_leaf=0.0, n_estimators=10, n_jobs=1,\n",
       "           oob_score=False, random_state=42, verbose=0, warm_start=False)"
      ]
     },
     "execution_count": 65,
     "metadata": {},
     "output_type": "execute_result"
    }
   ],
   "source": [
    "rfr = RandomForestRegressor(random_state=42)\n",
    "rfr.fit(X_train.values, y_train.values)"
   ]
  },
  {
   "cell_type": "code",
   "execution_count": 70,
   "metadata": {},
   "outputs": [
    {
     "data": {
      "text/plain": [
       "array([2.60432088e-08, 1.27517754e-08, 2.85957924e-09, 3.64153303e-09,\n",
       "       7.65699439e-10, 1.59862300e-09, 5.43121857e-09, 4.30302028e-09,\n",
       "       1.12993710e-09, 9.99999941e-01])"
      ]
     },
     "execution_count": 70,
     "metadata": {},
     "output_type": "execute_result"
    },
    {
     "data": {
      "text/plain": [
       "Text(0.5, 1.0, 'Feature Importances')"
      ]
     },
     "execution_count": 70,
     "metadata": {},
     "output_type": "execute_result"
    },
    {
     "data": {
      "text/plain": [
       "<BarContainer object of 10 artists>"
      ]
     },
     "execution_count": 70,
     "metadata": {},
     "output_type": "execute_result"
    },
    {
     "data": {
      "text/plain": [
       "([<matplotlib.axis.YTick at 0x1a40303048>,\n",
       "  <matplotlib.axis.YTick at 0x1a3de8d6d8>,\n",
       "  <matplotlib.axis.YTick at 0x1a3d4e7d68>,\n",
       "  <matplotlib.axis.YTick at 0x1a27c57c50>,\n",
       "  <matplotlib.axis.YTick at 0x1a27c57470>,\n",
       "  <matplotlib.axis.YTick at 0x1a27c579b0>,\n",
       "  <matplotlib.axis.YTick at 0x1a27c5f278>,\n",
       "  <matplotlib.axis.YTick at 0x1a27c5fef0>,\n",
       "  <matplotlib.axis.YTick at 0x1a27c5f518>,\n",
       "  <matplotlib.axis.YTick at 0x1a2acff5f8>],\n",
       " <a list of 10 Text yticklabel objects>)"
      ]
     },
     "execution_count": 70,
     "metadata": {},
     "output_type": "execute_result"
    },
    {
     "data": {
      "text/plain": [
       "Text(0.5, 0, 'Relative Importance')"
      ]
     },
     "execution_count": 70,
     "metadata": {},
     "output_type": "execute_result"
    },
    {
     "data": {
      "image/png": "[encoded data removed]",
      "text/plain": [
       "<Figure size 432x288 with 1 Axes>"
      ]
     },
     "metadata": {},
     "output_type": "display_data"
    }
   ],
   "source": [
    "rfr.feature_importances_\n",
    "features = X_train.columns\n",
    "importances = rfr.feature_importances_\n",
    "indices = np.argsort(importances)\n",
    "\n",
    "plt.title('Feature Importances')\n",
    "plt.barh(range(len(indices)), importances[indices], color='b', align='center')\n",
    "plt.yticks(range(len(indices)), [features[i] for i in indices])\n",
    "plt.xlabel('Relative Importance')\n",
    "plt.show()"
   ]
  },
  {
   "cell_type": "code",
   "execution_count": 73,
   "metadata": {},
   "outputs": [
    {
     "data": {
      "text/plain": [
       "0.9999999963370891"
      ]
     },
     "execution_count": 73,
     "metadata": {},
     "output_type": "execute_result"
    }
   ],
   "source": [
    "rfr.score(X_train.values, y_train.values)"
   ]
  },
  {
   "cell_type": "code",
   "execution_count": 72,
   "metadata": {},
   "outputs": [
    {
     "name": "stdout",
     "output_type": "stream",
     "text": [
      "mean absolute error: 0.04\n",
      "mean squared error: 0.05\n",
      "root mean squared error: 0.22\n"
     ]
    }
   ],
   "source": [
    "from sklearn.metrics import mean_absolute_error, mean_squared_error\n",
    "y_pred = rfr.predict(X_test.values)\n",
    "\n",
    "mae = mean_absolute_error(y_test, y_pred)\n",
    "mse = mean_squared_error(y_test, y_pred)\n",
    "rmse = np.sqrt(mse)\n",
    "\n",
    "print(f\"mean absolute error: {mae:.2f}\")\n",
    "print(f\"mean squared error: {mse:.2f}\")\n",
    "print(f\"root mean squared error: {rmse:.2f}\")"
   ]
  },
  {
   "cell_type": "code",
   "execution_count": 34,
   "metadata": {},
   "outputs": [
    {
     "data": {
      "text/plain": [
       "array([4607,  459, 1345, ..., 4607, 2650, 3311])"
      ]
     },
     "execution_count": 34,
     "metadata": {},
     "output_type": "execute_result"
    }
   ],
   "source": [
    "y_train.values"
   ]
  },
  {
   "cell_type": "code",
   "execution_count": 76,
   "metadata": {},
   "outputs": [
    {
     "data": {
      "text/plain": [
       "array([2650. , 4607. ,  915. , ...,  829. , 4607. , 2309.8])"
      ]
     },
     "execution_count": 76,
     "metadata": {},
     "output_type": "execute_result"
    }
   ],
   "source": [
    "y_pred"
   ]
  },
  {
   "cell_type": "code",
   "execution_count": 78,
   "metadata": {},
   "outputs": [
    {
     "data": {
      "text/plain": [
       "array([2650, 4607,  915, ...,  829, 4607, 2310])"
      ]
     },
     "execution_count": 78,
     "metadata": {},
     "output_type": "execute_result"
    }
   ],
   "source": [
    "y_test.values"
   ]
  },
  {
   "cell_type": "code",
   "execution_count": 80,
   "metadata": {},
   "outputs": [
    {
     "data": {
      "text/plain": [
       "0.04644069928310937"
      ]
     },
     "execution_count": 80,
     "metadata": {},
     "output_type": "execute_result"
    }
   ],
   "source": [
    "np.sum((y_test - y_pred)**2)/len(y_test)"
   ]
  },
  {
   "cell_type": "code",
   "execution_count": null,
   "metadata": {},
   "outputs": [],
   "source": []
  }
 ],
 "metadata": {
  "kernelspec": {
   "display_name": "Python 3",
   "language": "python",
   "name": "python3"
  },
  "language_info": {
   "codemirror_mode": {
    "name": "ipython",
    "version": 3
   },
   "file_extension": ".py",
   "mimetype": "text/x-python",
   "name": "python",
   "nbconvert_exporter": "python",
   "pygments_lexer": "ipython3",
   "version": "3.6.0"
  }
 },
 "nbformat": 4,
 "nbformat_minor": 2
}
