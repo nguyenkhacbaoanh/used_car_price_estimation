{
 "cells": [
  {
   "cell_type": "code",
   "execution_count": 5,
   "metadata": {},
   "outputs": [],
   "source": [
    "import pandas as pd\n",
    "import numpy as np\n",
    "import matplotlib\n",
    "import matplotlib.pyplot as plt\n",
    "import os\n",
    "%matplotlib inline"
   ]
  },
  {
   "cell_type": "code",
   "execution_count": 12,
   "metadata": {},
   "outputs": [],
   "source": [
    "NOTEBOOK_DIR = os.getcwd()\n",
    "BASE_DIR = os.path.dirname(NOTEBOOK_DIR)\n",
    "DATA_DIR = os.path.join(BASE_DIR, \"data\")\n",
    "DATA_DIR_PATH = os.path.join(DATA_DIR, \"Data_cars.csv\")\n",
    "DATA_ZIP_DIR_PATH = os.path.join(DATA_DIR, \"Data_cars.csv.zip\")"
   ]
  },
  {
   "cell_type": "code",
   "execution_count": 14,
   "metadata": {},
   "outputs": [],
   "source": [
    "if not os.path.exists(DATA_DIR_PATH):\n",
    "    !unzip \"${DATA_ZIP_DIR_PATH}\""
   ]
  },
  {
   "cell_type": "code",
   "execution_count": 66,
   "metadata": {},
   "outputs": [],
   "source": [
    "data_car = pd.read_csv(DATA_DIR_PATH)"
   ]
  },
  {
   "cell_type": "code",
   "execution_count": 16,
   "metadata": {},
   "outputs": [
    {
     "data": {
      "text/html": [
       "<div>\n",
       "<style scoped>\n",
       "    .dataframe tbody tr th:only-of-type {\n",
       "        vertical-align: middle;\n",
       "    }\n",
       "\n",
       "    .dataframe tbody tr th {\n",
       "        vertical-align: top;\n",
       "    }\n",
       "\n",
       "    .dataframe thead th {\n",
       "        text-align: right;\n",
       "    }\n",
       "</style>\n",
       "<table border=\"1\" class=\"dataframe\">\n",
       "  <thead>\n",
       "    <tr style=\"text-align: right;\">\n",
       "      <th></th>\n",
       "      <th>Price</th>\n",
       "      <th>Make</th>\n",
       "      <th>Model</th>\n",
       "      <th>Model_year</th>\n",
       "      <th>Mileage</th>\n",
       "      <th>Fuel</th>\n",
       "      <th>Gearbox</th>\n",
       "      <th>Online</th>\n",
       "      <th>Description</th>\n",
       "    </tr>\n",
       "  </thead>\n",
       "  <tbody>\n",
       "    <tr>\n",
       "      <th>0</th>\n",
       "      <td>11220.0</td>\n",
       "      <td>PEUGEOT</td>\n",
       "      <td>308</td>\n",
       "      <td>2014</td>\n",
       "      <td>94341.0 km</td>\n",
       "      <td>Diesel</td>\n",
       "      <td>mécanique</td>\n",
       "      <td>06/07/2018 à 3h47</td>\n",
       "      <td>modele: 308 (2E GENERATION), version: 1.6 HDI ...</td>\n",
       "    </tr>\n",
       "    <tr>\n",
       "      <th>1</th>\n",
       "      <td>57526.0</td>\n",
       "      <td>BMW</td>\n",
       "      <td>X6</td>\n",
       "      <td>2015</td>\n",
       "      <td>39051.0 km</td>\n",
       "      <td>Diesel</td>\n",
       "      <td>automatique</td>\n",
       "      <td>03/04/2018 à 16h41</td>\n",
       "      <td>modele: X6 F16, version: (F16) XDRIVE30D 258 M...</td>\n",
       "    </tr>\n",
       "    <tr>\n",
       "      <th>2</th>\n",
       "      <td>80379.0</td>\n",
       "      <td>AUDI</td>\n",
       "      <td>RS6</td>\n",
       "      <td>2014</td>\n",
       "      <td>75381.0 km</td>\n",
       "      <td>Essence</td>\n",
       "      <td>automatique</td>\n",
       "      <td>30/07/2018 à 1h55</td>\n",
       "      <td>modele: RS6 (3E GENERATION) AVANT, version: II...</td>\n",
       "    </tr>\n",
       "    <tr>\n",
       "      <th>3</th>\n",
       "      <td>2830.0</td>\n",
       "      <td>FORD</td>\n",
       "      <td>KA</td>\n",
       "      <td>2007</td>\n",
       "      <td>92282.0 km</td>\n",
       "      <td>Essence</td>\n",
       "      <td>mécanique</td>\n",
       "      <td>09/07/2018 à 14h12</td>\n",
       "      <td>modele: KA, version: 1.3 70 FUN, puissance_fis...</td>\n",
       "    </tr>\n",
       "    <tr>\n",
       "      <th>4</th>\n",
       "      <td>12925.0</td>\n",
       "      <td>FIAT</td>\n",
       "      <td>TIPO</td>\n",
       "      <td>2018</td>\n",
       "      <td>10.0 km</td>\n",
       "      <td>Essence</td>\n",
       "      <td>mécanique</td>\n",
       "      <td>19/05/2018 à 3h52</td>\n",
       "      <td>modele: TIPO 2 SW, version: II SW 1.4 95 POP, ...</td>\n",
       "    </tr>\n",
       "  </tbody>\n",
       "</table>\n",
       "</div>"
      ],
      "text/plain": [
       "     Price     Make Model  Model_year     Mileage     Fuel      Gearbox  \\\n",
       "0  11220.0  PEUGEOT   308        2014  94341.0 km   Diesel    mécanique   \n",
       "1  57526.0      BMW    X6        2015  39051.0 km   Diesel  automatique   \n",
       "2  80379.0     AUDI   RS6        2014  75381.0 km  Essence  automatique   \n",
       "3   2830.0     FORD    KA        2007  92282.0 km  Essence    mécanique   \n",
       "4  12925.0     FIAT  TIPO        2018     10.0 km  Essence    mécanique   \n",
       "\n",
       "               Online                                        Description  \n",
       "0   06/07/2018 à 3h47  modele: 308 (2E GENERATION), version: 1.6 HDI ...  \n",
       "1  03/04/2018 à 16h41  modele: X6 F16, version: (F16) XDRIVE30D 258 M...  \n",
       "2   30/07/2018 à 1h55  modele: RS6 (3E GENERATION) AVANT, version: II...  \n",
       "3  09/07/2018 à 14h12  modele: KA, version: 1.3 70 FUN, puissance_fis...  \n",
       "4   19/05/2018 à 3h52  modele: TIPO 2 SW, version: II SW 1.4 95 POP, ...  "
      ]
     },
     "execution_count": 16,
     "metadata": {},
     "output_type": "execute_result"
    }
   ],
   "source": [
    "data_car.head()"
   ]
  },
  {
   "cell_type": "code",
   "execution_count": 23,
   "metadata": {},
   "outputs": [
    {
     "name": "stdout",
     "output_type": "stream",
     "text": [
      "<class 'pandas.core.frame.DataFrame'>\n",
      "RangeIndex: 166695 entries, 0 to 166694\n",
      "Data columns (total 9 columns):\n",
      "Price          166695 non-null float64\n",
      "Make           166695 non-null object\n",
      "Model          166695 non-null object\n",
      "Model_year     166695 non-null int64\n",
      "Mileage        166695 non-null object\n",
      "Fuel           166695 non-null object\n",
      "Gearbox        166695 non-null object\n",
      "Online         166695 non-null object\n",
      "Description    166695 non-null object\n",
      "dtypes: float64(1), int64(1), object(7)\n",
      "memory usage: 11.4+ MB\n"
     ]
    }
   ],
   "source": [
    "data_car.info()"
   ]
  },
  {
   "cell_type": "code",
   "execution_count": 41,
   "metadata": {},
   "outputs": [
    {
     "data": {
      "text/plain": [
       "array(['10/06/2018 à 9h14', '31/03/2018 à 4h20', '07/06/2018 à 20h33',\n",
       "       '16/01/2018 à 11h58', '11/05/2018 à 20h34', '23/03/2018 à 19h50',\n",
       "       '23/04/2018 à 9h50', '20/03/2018 à 5h12', '13/05/2018 à 18h46',\n",
       "       '14/04/2018 à 4h22'], dtype=object)"
      ]
     },
     "execution_count": 41,
     "metadata": {},
     "output_type": "execute_result"
    }
   ],
   "source": [
    "data_car.Online.values[80:90]"
   ]
  },
  {
   "cell_type": "code",
   "execution_count": 43,
   "metadata": {},
   "outputs": [],
   "source": [
    "from datetime import datetime\n",
    "def online_clean(df):\n",
    "    datetime_format = \"%d/%m/%Y à %Hh%M\"\n",
    "    df.Online = [datetime.strptime(d, datetime_format) for d in df.Online.values]\n",
    "    return df"
   ]
  },
  {
   "cell_type": "code",
   "execution_count": 44,
   "metadata": {},
   "outputs": [],
   "source": [
    "def mileage_clean(df):\n",
    "    df.Mileage = [float(m.split(' ')[0]) for m in df.Mileage.values]\n",
    "    return df"
   ]
  },
  {
   "cell_type": "code",
   "execution_count": 56,
   "metadata": {},
   "outputs": [
    {
     "name": "stdout",
     "output_type": "stream",
     "text": [
      "Match at index 0, 1705\n",
      "Full match: modele: 500 X, version: 1.4 MULTIAIR 140 LOUNGE 4X2 DCT, puissance_fiscale: 7, portes: 5.0, options: écran tactile;palettes au volant;volant cuir;régulateur limiteur de vitesse;prises audio auxiliaires;cache bagages;sorties d'échappement chromées;direction assistée;rétroviseurs électriques;airbag frontal;banquette 1/3 - 2/3;vitres ar. surteintées;appui-tête conducteur réglable hauteur;commandes vocales;GPS;prise audio USB;commande du comportement dynamique;régulateur de vitesse;projecteurs xénon;carte main libre;jantes alu;boucliers av et ar couleur caisse;phares av. de jour;airbags rideaux;projecteurs antibrouillard;climatisation automatique multi zone;vitres électriques;eclairage d'ambiance;appui-tête passager réglable en hauteur;rétroviseurs rabattables électriquement;ecran multifonction couleur;siège passager rabattable;aide parking;kit de réparation crevaison;contrôle de pression des pneus;airbags front. + lat.;essuie-glaces automatiques;alerte franchissement ligne;EBD;4 haut parleurs;système Start & Stop;système audio;becquet;feux automatiques;fermeture électrique;ceinture de vitrage chromée;ESP;accoudoir central avant;commandes du système audio au volant;fixations ISOFIX;gris moda métallisé;aide au démarrage en côte;siège cond. avec réglage lombaire électr;eclairage statique d'intersection;rétroviseurs dégivrants;volant réglable en hauteur et profondeur;siège conducteur réglable hauteur;kit téléphone main libre bluetooth;ABS;ceintures avant ajustables en hauteur;prise 12V;frein de parking automatique;compte tours;lave-phares;tissu gris /eco-cuir marron;roue de secours;rétroviseur int. jour/nuit auto;système audio carte SD;volant multifonctions, couleur: Gris Foncé Métal\n",
      "modele: 500 X\n",
      "version: 1.4 MULTIAIR 140 LOUNGE 4X2 DCT\n",
      "spuissance_fiscale: 7\n",
      "portes: 5.0\n",
      "options: écran tactile;palettes au volant;volant cuir;régulateur limiteur de vitesse;prises audio auxiliaires;cache bagages;sorties d'échappement chromées;direction assistée;rétroviseurs électriques;airbag frontal;banquette 1/3 - 2/3;vitres ar. surteintées;appui-tête conducteur réglable hauteur;commandes vocales;GPS;prise audio USB;commande du comportement dynamique;régulateur de vitesse;projecteurs xénon;carte main libre;jantes alu;boucliers av et ar couleur caisse;phares av. de jour;airbags rideaux;projecteurs antibrouillard;climatisation automatique multi zone;vitres électriques;eclairage d'ambiance;appui-tête passager réglable en hauteur;rétroviseurs rabattables électriquement;ecran multifonction couleur;siège passager rabattable;aide parking;kit de réparation crevaison;contrôle de pression des pneus;airbags front. + lat.;essuie-glaces automatiques;alerte franchissement ligne;EBD;4 haut parleurs;système Start & Stop;système audio;becquet;feux automatiques;fermeture électrique;ceinture de vitrage chromée;ESP;accoudoir central avant;commandes du système audio au volant;fixations ISOFIX;gris moda métallisé;aide au démarrage en côte;siège cond. avec réglage lombaire électr;eclairage statique d'intersection;rétroviseurs dégivrants;volant réglable en hauteur et profondeur;siège conducteur réglable hauteur;kit téléphone main libre bluetooth;ABS;ceintures avant ajustables en hauteur;prise 12V;frein de parking automatique;compte tours;lave-phares;tissu gris /eco-cuir marron;roue de secours;rétroviseur int. jour/nuit auto;système audio carte SD;volant multifonctions\n",
      "couleur: Gris Foncé Métal\n"
     ]
    }
   ],
   "source": [
    "import re\n",
    "regex_pattern = r\"modele:\\s*(?P<modele>.*?(?=,)),\\sversion:\\s*(?P<version>.*?(?=,)),\\spuissance_fiscale:\\s*(?P<puissance_fiscale>.*?(?=,)),\\sportes:\\s*(?P<portes>.*?(?=,)),\\soptions:\\s*(?P<Descriptions>.*?(?=,)),\\scouleur:\\s(?P<couleur>.*$)\"\n",
    "match = re.search(regex_pattern, data_car_preprocessed.Description[12])\n",
    "print(\"Match at index %s, %s\" % (match.start(), match.end()))\n",
    "print(\"Full match: %s\" % (match.group(0)))\n",
    "print(\"modele: %s\" % (match.group(1)))\n",
    "print(\"version: %s\" % (match.group(2)))\n",
    "print(\"spuissance_fiscale: %s\" % (match.group(3)))\n",
    "print(\"portes: %s\" % (match.group(4)))\n",
    "print(\"options: %s\" % (match.group(5)))\n",
    "print(\"couleur: %s\" % (match.group(6)))"
   ]
  },
  {
   "cell_type": "code",
   "execution_count": 69,
   "metadata": {},
   "outputs": [],
   "source": [
    "def descriptions_clean(df):\n",
    "    regex_pattern = r\"modele:\\s*(?P<modele>.*?(?=,)),\\sversion:\\s*(?P<version>.*?(?=,)),\\spuissance_fiscale:\\s*(?P<puissance_fiscale>.*?(?=,)),\\sportes:\\s*(?P<portes>.*?(?=,)),\\soptions:\\s*(?P<Descriptions>.*?(?=,)),\\scouleur:\\s(?P<couleur>.*$)\"\n",
    "    version = []\n",
    "    spuissance_fiscale = []\n",
    "    portes = []\n",
    "    options = []\n",
    "    couleur = []\n",
    "    for i in range(df.shape[0]):\n",
    "        match = re.search(regex_pattern, data_car_preprocessed.Description[i])\n",
    "        version.append(match.group(2))\n",
    "        spuissance_fiscale.append(match.group(3))\n",
    "        portes.append(match.group(4))\n",
    "        options.append(match.group(5))\n",
    "        couleur.append(match.group(6))\n",
    "    df[\"version\"] = list(map(str.lower, version)\n",
    "    df[\"spuissance_fiscale\"] = spuissance_fiscale\n",
    "    df[\"portes\"] = portes\n",
    "    df[\"options\"] = options\n",
    "    df[\"couleur\"] = list(map(str.lower, couleur)\n",
    "    del df[\"Description\"]\n",
    "    return df"
   ]
  },
  {
   "cell_type": "code",
   "execution_count": 65,
   "metadata": {},
   "outputs": [],
   "source": [
    "def preprocessing(data, preprocessors=None):\n",
    "    df = data.copy(deep=True)\n",
    "    if preprocessors is not None:\n",
    "        for preprocessor in preprocessors:\n",
    "            df = preprocessor(df)\n",
    "        return df\n",
    "    else:\n",
    "        return df"
   ]
  },
  {
   "cell_type": "code",
   "execution_count": 70,
   "metadata": {},
   "outputs": [],
   "source": [
    "data_car_preprocessed = preprocessing(data_car, [online_clean, mileage_clean, descriptions_clean])"
   ]
  },
  {
   "cell_type": "code",
   "execution_count": 71,
   "metadata": {},
   "outputs": [
    {
     "data": {
      "text/html": [
       "<div>\n",
       "<style scoped>\n",
       "    .dataframe tbody tr th:only-of-type {\n",
       "        vertical-align: middle;\n",
       "    }\n",
       "\n",
       "    .dataframe tbody tr th {\n",
       "        vertical-align: top;\n",
       "    }\n",
       "\n",
       "    .dataframe thead th {\n",
       "        text-align: right;\n",
       "    }\n",
       "</style>\n",
       "<table border=\"1\" class=\"dataframe\">\n",
       "  <thead>\n",
       "    <tr style=\"text-align: right;\">\n",
       "      <th></th>\n",
       "      <th>Price</th>\n",
       "      <th>Make</th>\n",
       "      <th>Model</th>\n",
       "      <th>Model_year</th>\n",
       "      <th>Mileage</th>\n",
       "      <th>Fuel</th>\n",
       "      <th>Gearbox</th>\n",
       "      <th>Online</th>\n",
       "      <th>version</th>\n",
       "      <th>spuissance_fiscale</th>\n",
       "      <th>portes</th>\n",
       "      <th>options</th>\n",
       "      <th>couleur</th>\n",
       "    </tr>\n",
       "  </thead>\n",
       "  <tbody>\n",
       "    <tr>\n",
       "      <th>0</th>\n",
       "      <td>11220.0</td>\n",
       "      <td>PEUGEOT</td>\n",
       "      <td>308</td>\n",
       "      <td>2014</td>\n",
       "      <td>94341.0</td>\n",
       "      <td>Diesel</td>\n",
       "      <td>mécanique</td>\n",
       "      <td>2018-07-06 03:47:00</td>\n",
       "      <td>1.6 HDI FAP 92CH BUSINESS 5P</td>\n",
       "      <td>4</td>\n",
       "      <td>5.0</td>\n",
       "      <td>banquette arrière 3 places;volant cuir;cache b...</td>\n",
       "      <td>BLANC BANQUISE</td>\n",
       "    </tr>\n",
       "    <tr>\n",
       "      <th>1</th>\n",
       "      <td>57526.0</td>\n",
       "      <td>BMW</td>\n",
       "      <td>X6</td>\n",
       "      <td>2015</td>\n",
       "      <td>39051.0</td>\n",
       "      <td>Diesel</td>\n",
       "      <td>automatique</td>\n",
       "      <td>2018-04-03 16:41:00</td>\n",
       "      <td>(F16) XDRIVE30D 258 M SPORT BVA8</td>\n",
       "      <td>16</td>\n",
       "      <td>5.0</td>\n",
       "      <td>triangle de presignalisation et trousse de pre...</td>\n",
       "      <td>Carbonschwarz metallise</td>\n",
       "    </tr>\n",
       "    <tr>\n",
       "      <th>2</th>\n",
       "      <td>80379.0</td>\n",
       "      <td>AUDI</td>\n",
       "      <td>RS6</td>\n",
       "      <td>2014</td>\n",
       "      <td>75381.0</td>\n",
       "      <td>Essence</td>\n",
       "      <td>automatique</td>\n",
       "      <td>2018-07-30 01:55:00</td>\n",
       "      <td>III AVANT 4.0 TFSI 560 QUATTRO TIPTRONIC</td>\n",
       "      <td>47</td>\n",
       "      <td>5.0</td>\n",
       "      <td>banquette arrière 3 places;écran tactile;témoi...</td>\n",
       "      <td>NOIR PANTHERE CRISTAL</td>\n",
       "    </tr>\n",
       "    <tr>\n",
       "      <th>3</th>\n",
       "      <td>2830.0</td>\n",
       "      <td>FORD</td>\n",
       "      <td>KA</td>\n",
       "      <td>2007</td>\n",
       "      <td>92282.0</td>\n",
       "      <td>Essence</td>\n",
       "      <td>mécanique</td>\n",
       "      <td>2018-07-09 14:12:00</td>\n",
       "      <td>1.3 70 FUN</td>\n",
       "      <td>5</td>\n",
       "      <td>3.0</td>\n",
       "      <td>direction assistée;jantes alu;rétroviseurs éle...</td>\n",
       "      <td>JAUNE</td>\n",
       "    </tr>\n",
       "    <tr>\n",
       "      <th>4</th>\n",
       "      <td>12925.0</td>\n",
       "      <td>FIAT</td>\n",
       "      <td>TIPO</td>\n",
       "      <td>2018</td>\n",
       "      <td>10.0</td>\n",
       "      <td>Essence</td>\n",
       "      <td>mécanique</td>\n",
       "      <td>2018-05-19 03:52:00</td>\n",
       "      <td>II SW 1.4 95 POP</td>\n",
       "      <td>5</td>\n",
       "      <td>5.0</td>\n",
       "      <td>Volant alu &amp; cuir;Bluetooth inclut musique en ...</td>\n",
       "      <td>blanc verni</td>\n",
       "    </tr>\n",
       "  </tbody>\n",
       "</table>\n",
       "</div>"
      ],
      "text/plain": [
       "     Price     Make Model  Model_year  Mileage     Fuel      Gearbox  \\\n",
       "0  11220.0  PEUGEOT   308        2014  94341.0   Diesel    mécanique   \n",
       "1  57526.0      BMW    X6        2015  39051.0   Diesel  automatique   \n",
       "2  80379.0     AUDI   RS6        2014  75381.0  Essence  automatique   \n",
       "3   2830.0     FORD    KA        2007  92282.0  Essence    mécanique   \n",
       "4  12925.0     FIAT  TIPO        2018     10.0  Essence    mécanique   \n",
       "\n",
       "               Online                                   version  \\\n",
       "0 2018-07-06 03:47:00              1.6 HDI FAP 92CH BUSINESS 5P   \n",
       "1 2018-04-03 16:41:00          (F16) XDRIVE30D 258 M SPORT BVA8   \n",
       "2 2018-07-30 01:55:00  III AVANT 4.0 TFSI 560 QUATTRO TIPTRONIC   \n",
       "3 2018-07-09 14:12:00                                1.3 70 FUN   \n",
       "4 2018-05-19 03:52:00                          II SW 1.4 95 POP   \n",
       "\n",
       "  spuissance_fiscale portes  \\\n",
       "0                  4    5.0   \n",
       "1                 16    5.0   \n",
       "2                 47    5.0   \n",
       "3                  5    3.0   \n",
       "4                  5    5.0   \n",
       "\n",
       "                                             options                  couleur  \n",
       "0  banquette arrière 3 places;volant cuir;cache b...           BLANC BANQUISE  \n",
       "1  triangle de presignalisation et trousse de pre...  Carbonschwarz metallise  \n",
       "2  banquette arrière 3 places;écran tactile;témoi...    NOIR PANTHERE CRISTAL  \n",
       "3  direction assistée;jantes alu;rétroviseurs éle...                    JAUNE  \n",
       "4  Volant alu & cuir;Bluetooth inclut musique en ...              blanc verni  "
      ]
     },
     "execution_count": 71,
     "metadata": {},
     "output_type": "execute_result"
    }
   ],
   "source": [
    "data_car_preprocessed.head()"
   ]
  },
  {
   "cell_type": "code",
   "execution_count": 72,
   "metadata": {},
   "outputs": [
    {
     "name": "stdout",
     "output_type": "stream",
     "text": [
      "<class 'pandas.core.frame.DataFrame'>\n",
      "RangeIndex: 166695 entries, 0 to 166694\n",
      "Data columns (total 13 columns):\n",
      "Price                 166695 non-null float64\n",
      "Make                  166695 non-null object\n",
      "Model                 166695 non-null object\n",
      "Model_year            166695 non-null int64\n",
      "Mileage               166695 non-null float64\n",
      "Fuel                  166695 non-null object\n",
      "Gearbox               166695 non-null object\n",
      "Online                166695 non-null datetime64[ns]\n",
      "version               166695 non-null object\n",
      "spuissance_fiscale    166695 non-null object\n",
      "portes                166695 non-null object\n",
      "options               166695 non-null object\n",
      "couleur               166695 non-null object\n",
      "dtypes: datetime64[ns](1), float64(2), int64(1), object(9)\n",
      "memory usage: 16.5+ MB\n"
     ]
    }
   ],
   "source": [
    "data_car_preprocessed.info()"
   ]
  },
  {
   "cell_type": "code",
   "execution_count": 80,
   "metadata": {},
   "outputs": [
    {
     "data": {
      "text/plain": [
       "116129"
      ]
     },
     "execution_count": 80,
     "metadata": {},
     "output_type": "execute_result"
    }
   ],
   "source": [
    "data_car_preprocessed.options.nunique()"
   ]
  },
  {
   "cell_type": "code",
   "execution_count": null,
   "metadata": {},
   "outputs": [],
   "source": [
    "years = mdates.YearLocator()   # every year\n",
    "months = mdates.MonthLocator()  # every month\n",
    "years_fmt = mdates.DateFormatter('%Y')\n",
    "\n",
    "fig, ax = plt.subplots()\n",
    "ax.plot('date', 'prices', data=data)\n",
    "\n",
    "# format the ticks\n",
    "ax.xaxis.set_major_locator(years)\n",
    "ax.xaxis.set_major_formatter(years_fmt)\n",
    "ax.xaxis.set_minor_locator(months)\n",
    "\n",
    "# round to nearest years.\n",
    "datemin = np.datetime64(data['date'][0], 'Y')\n",
    "datemax = np.datetime64(data['date'][-1], 'Y') + np.timedelta64(1, 'Y')\n",
    "ax.set_xlim(datemin, datemax)\n",
    "\n",
    "# format the coords message box\n",
    "ax.format_xdata = mdates.DateFormatter('%Y-%m-%d')\n",
    "ax.format_ydata = lambda x: '$%1.2f' % x  # format the price.\n",
    "ax.grid(True)\n",
    "\n",
    "# rotates and right aligns the x labels, and moves the bottom of the\n",
    "# axes up to make room for them\n",
    "fig.autofmt_xdate()\n",
    "\n",
    "plt.show()"
   ]
  }
 ],
 "metadata": {
  "kernelspec": {
   "display_name": "Python 3",
   "language": "python",
   "name": "python3"
  },
  "language_info": {
   "codemirror_mode": {
    "name": "ipython",
    "version": 3
   },
   "file_extension": ".py",
   "mimetype": "text/x-python",
   "name": "python",
   "nbconvert_exporter": "python",
   "pygments_lexer": "ipython3",
   "version": "3.6.0"
  }
 },
 "nbformat": 4,
 "nbformat_minor": 2
}
