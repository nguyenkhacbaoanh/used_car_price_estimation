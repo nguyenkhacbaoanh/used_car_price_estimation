{
 "cells": [
  {
   "cell_type": "code",
   "execution_count": null,
   "metadata": {},
   "outputs": [],
   "source": [
    "import pandas as pd\n",
    "import re\n",
    "from fuzzywuzzy import fuzz\n",
    "import unidecode"
   ]
  },
  {
   "cell_type": "code",
   "execution_count": null,
   "metadata": {},
   "outputs": [],
   "source": [
    "data = pd.read_csv('../data/Data_cars.csv')"
   ]
  },
  {
   "cell_type": "code",
   "execution_count": null,
   "metadata": {},
   "outputs": [],
   "source": [
    "price = pd.read_csv('../data/cars_price.csv', encoding='iso-8859-1')"
   ]
  },
  {
   "cell_type": "markdown",
   "metadata": {},
   "source": [
    "**Remove empty rows**"
   ]
  },
  {
   "cell_type": "code",
   "execution_count": null,
   "metadata": {},
   "outputs": [],
   "source": [
    "price.dropna(subset=['name'], inplace=True)"
   ]
  },
  {
   "cell_type": "markdown",
   "metadata": {},
   "source": [
    "**Split description col**"
   ]
  },
  {
   "cell_type": "code",
   "execution_count": null,
   "metadata": {},
   "outputs": [],
   "source": [
    "def descriptions_clean(df):\n",
    "    regex_pattern = r\"modele:\\s*(?P<modele>.*?(?=,)),\\sversion:\\s*(?P<version>.*?(?=,)),\\spuissance_fiscale:\\s*(?P<puissance_fiscale>.*?(?=,)),\\sportes:\\s*(?P<portes>.*?(?=,)),\\soptions:\\s*(?P<Descriptions>.*?(?=,)),\\scouleur:\\s(?P<couleur>.*$)\"\n",
    "    version = []\n",
    "    spuissance_fiscale = []\n",
    "    portes = []\n",
    "    options = []\n",
    "    couleur = []\n",
    "    for i in range(df.shape[0]):\n",
    "        match = re.search(regex_pattern, df.Description[i])\n",
    "        version.append(match.group(2))\n",
    "        spuissance_fiscale.append(match.group(3))\n",
    "        portes.append(match.group(4))\n",
    "        options.append(match.group(5))\n",
    "        couleur.append(match.group(6))\n",
    "    df[\"version\"] = list(map(str.lower, version))\n",
    "    df[\"spuissance_fiscale\"] = spuissance_fiscale\n",
    "    df[\"portes\"] = portes\n",
    "    df[\"options\"] = options\n",
    "    df[\"couleur\"] = list(map(str.lower, couleur))\n",
    "    del df[\"Description\"]\n",
    "    return df"
   ]
  },
  {
   "cell_type": "code",
   "execution_count": null,
   "metadata": {},
   "outputs": [],
   "source": [
    "descriptions_clean(data);"
   ]
  },
  {
   "cell_type": "markdown",
   "metadata": {},
   "source": [
    "**Rename column**"
   ]
  },
  {
   "cell_type": "code",
   "execution_count": null,
   "metadata": {},
   "outputs": [],
   "source": [
    "price.rename(columns={'energy':'Fuel'}, inplace=True)\n",
    "price.rename(columns={'transmission':'Gearbox'}, inplace=True)\n",
    "price.rename(columns={'tax_horsepower':'spuissance_fiscale'}, inplace=True)\n",
    "price.rename(columns={'date_entry':'Model_year'}, inplace=True)\n",
    "price.rename(columns={'date_entry':'Model_year'}, inplace=True)"
   ]
  },
  {
   "cell_type": "markdown",
   "metadata": {},
   "source": [
    "**Fix Fuel col**"
   ]
  },
  {
   "cell_type": "code",
   "execution_count": null,
   "metadata": {},
   "outputs": [],
   "source": [
    "price.Fuel = price.Fuel.apply(lambda x: x.replace('GPL', 'Bicarburation essence GPL')\\\n",
    "                             .replace('GNV', 'Bicarburation essence GNV')\\\n",
    "                             .replace('Électrique', 'Electrique')\\\n",
    "                             .replace('Hybride', 'Hybride diesel électrique') if type(x) == str else None)"
   ]
  },
  {
   "cell_type": "markdown",
   "metadata": {},
   "source": [
    "**Fix spuissance_fiscale col**"
   ]
  },
  {
   "cell_type": "code",
   "execution_count": null,
   "metadata": {},
   "outputs": [],
   "source": [
    "price.spuissance_fiscale = price.spuissance_fiscale.apply(lambda x: x.replace('CV', '') if type(x) == str else '0')"
   ]
  },
  {
   "cell_type": "markdown",
   "metadata": {},
   "source": [
    "**Fix Model_year col**"
   ]
  },
  {
   "cell_type": "code",
   "execution_count": null,
   "metadata": {},
   "outputs": [],
   "source": [
    "price.Model_year = price.Model_year.apply(lambda x: int(x.split('/')[-1]))"
   ]
  },
  {
   "cell_type": "markdown",
   "metadata": {},
   "source": [
    "**Fix Gearbox col**"
   ]
  },
  {
   "cell_type": "code",
   "execution_count": null,
   "metadata": {},
   "outputs": [],
   "source": [
    "price.Gearbox = price.Gearbox.apply(lambda x: x.replace('Automatique', 'automatique').replace('Manuelle', 'mécanique'))"
   ]
  },
  {
   "cell_type": "markdown",
   "metadata": {},
   "source": [
    "**Fix portes col** *i apply on data*"
   ]
  },
  {
   "cell_type": "code",
   "execution_count": null,
   "metadata": {},
   "outputs": [],
   "source": [
    "data.portes = data.portes.apply(lambda x: x.replace('.0', ''))"
   ]
  },
  {
   "cell_type": "markdown",
   "metadata": {},
   "source": [
    "**Fix price bonus/malus**"
   ]
  },
  {
   "cell_type": "code",
   "execution_count": null,
   "metadata": {},
   "outputs": [],
   "source": [
    "price.starting_price = price.starting_price.apply(lambda x: re.search('\\d+', x).group(0))"
   ]
  },
  {
   "cell_type": "code",
   "execution_count": null,
   "metadata": {},
   "outputs": [],
   "source": [
    "price['bonus/malus'].fillna('0', inplace=True)\n",
    "price['bonus/malus'].replace(['n.a.', '\\x80', ''], '0', inplace=True)\n",
    "price['bonus/malus'] = price['bonus/malus'].apply(lambda x: re.search('-?\\d+', x).group(0))"
   ]
  },
  {
   "cell_type": "markdown",
   "metadata": {},
   "source": [
    "**Make and Model unaccented**"
   ]
  },
  {
   "cell_type": "code",
   "execution_count": null,
   "metadata": {},
   "outputs": [],
   "source": [
    "price['name'] = price['name'].apply(lambda x: unidecode.unidecode(x))"
   ]
  },
  {
   "cell_type": "markdown",
   "metadata": {},
   "source": [
    "**Convert to lower case make the join easier**"
   ]
  },
  {
   "cell_type": "code",
   "execution_count": null,
   "metadata": {},
   "outputs": [],
   "source": [
    "price.name = price.name.str.lower()\n",
    "data.Make = data.Make.str.lower()\n",
    "data.Model = data.Model.str.lower()"
   ]
  },
  {
   "cell_type": "markdown",
   "metadata": {},
   "source": [
    "**Split col name in two columns Make and Model**"
   ]
  },
  {
   "cell_type": "code",
   "execution_count": null,
   "metadata": {},
   "outputs": [],
   "source": [
    "brands = list(data.Make.unique())"
   ]
  },
  {
   "cell_type": "code",
   "execution_count": null,
   "metadata": {},
   "outputs": [],
   "source": [
    "def get_brand_name(x):\n",
    "    if ' '.join(x.split()[0:2]) in brands:\n",
    "        return ' '.join(x.split()[0:2])\n",
    "    return x.split()[0]"
   ]
  },
  {
   "cell_type": "code",
   "execution_count": null,
   "metadata": {},
   "outputs": [],
   "source": [
    "def get_model_name(x):\n",
    "    if ' '.join(x.split()[0:2]) in brands:\n",
    "        return ' '.join(x.split()[2:])\n",
    "    return ' '.join(x.split()[1:])"
   ]
  },
  {
   "cell_type": "code",
   "execution_count": null,
   "metadata": {},
   "outputs": [],
   "source": [
    "price['Make'] = price.name.apply(lambda x: get_brand_name(x) )\n",
    "price['Model'] = price.name.apply(lambda x: get_model_name(x) )"
   ]
  },
  {
   "cell_type": "markdown",
   "metadata": {},
   "source": [
    "**Create portes col**"
   ]
  },
  {
   "cell_type": "code",
   "execution_count": null,
   "metadata": {},
   "outputs": [],
   "source": [
    "price['portes'] = price.version.apply(lambda x: x.split('(')[-1].replace(')', '').replace('p.', ''))"
   ]
  },
  {
   "cell_type": "markdown",
   "metadata": {},
   "source": [
    "**Model errors**"
   ]
  },
  {
   "cell_type": "code",
   "execution_count": null,
   "metadata": {},
   "outputs": [],
   "source": [
    "def price_clean_audi(x):\n",
    "    if x.split()[0] == 'tts':\n",
    "        return 'tt'\n",
    "    return x.split()[0]"
   ]
  },
  {
   "cell_type": "code",
   "execution_count": null,
   "metadata": {},
   "outputs": [],
   "source": [
    "def data_clean_audi(x):\n",
    "    if x == 'a6 allroad':\n",
    "        return 'a6'\n",
    "    elif x == 'a4 allroad':\n",
    "        return 'a4'\n",
    "    elif x == 'tt rs':\n",
    "        return 'tt'\n",
    "    elif x == 'allroad':\n",
    "        return 'a6'\n",
    "    else:\n",
    "        return x"
   ]
  },
  {
   "cell_type": "code",
   "execution_count": null,
   "metadata": {},
   "outputs": [],
   "source": [
    "def price_clean_ford(x):\n",
    "    if x.split()[0] == 'grand':\n",
    "        return ' '.join(x.split()[0:2])\n",
    "    return x.split()[0]"
   ]
  },
  {
   "cell_type": "code",
   "execution_count": null,
   "metadata": {},
   "outputs": [],
   "source": [
    "def data_clean_ford(x):\n",
    "    if x == 'ka+':\n",
    "        return 'ka'\n",
    "    elif x.split()[0] == 'grand':\n",
    "        return ' '.join(x.split()[0:2])\n",
    "    return x.split()[0]"
   ]
  },
  {
   "cell_type": "code",
   "execution_count": null,
   "metadata": {},
   "outputs": [],
   "source": [
    "def price_clean_citroen(x):\n",
    "    if x.split()[0] == 'grand':\n",
    "        return ' '.join(x.split()[0:2])\n",
    "    return x.split()[0]"
   ]
  },
  {
   "cell_type": "code",
   "execution_count": null,
   "metadata": {},
   "outputs": [],
   "source": [
    "def data_clean_citroen(x):\n",
    "    x = x.replace('picasso', 'spacetourer')\n",
    "    if x == 'ds 4':\n",
    "        return 'ds4'\n",
    "    elif x.split()[0] == 'grand':\n",
    "        return ' '.join(x.split()[0:2])\n",
    "    return x.split()[0]"
   ]
  },
  {
   "cell_type": "markdown",
   "metadata": {},
   "source": [
    "**Primary Funcs**"
   ]
  },
  {
   "cell_type": "code",
   "execution_count": null,
   "metadata": {},
   "outputs": [],
   "source": [
    "def clean_model_price(x, clean_type):\n",
    "    if clean_type == 'audi':\n",
    "        return price_clean_audi(x)\n",
    "    elif clean_type == 'ford':\n",
    "        return price_clean_ford(x)\n",
    "    elif clean_type == 'citroen':\n",
    "        return price_clean_citroen(x)"
   ]
  },
  {
   "cell_type": "code",
   "execution_count": null,
   "metadata": {},
   "outputs": [],
   "source": [
    "def clean_model_data(x, clean_type):\n",
    "    if clean_type == 'audi':\n",
    "        return data_clean_audi(x)\n",
    "    elif clean_type == 'ford':\n",
    "        return data_clean_ford(x)\n",
    "    elif clean_type == 'citroen':\n",
    "        return data_clean_citroen(x)"
   ]
  },
  {
   "cell_type": "code",
   "execution_count": null,
   "metadata": {},
   "outputs": [],
   "source": [
    "def replace_col(model, fun_clean, df):\n",
    "    tmp = df[df.Make == model].Model.apply(lambda x: fun_clean(x, model))\n",
    "    keys = list(tmp.keys())\n",
    "    vals = list(tmp.values)\n",
    "    df.loc[keys, 'Model'] = vals"
   ]
  },
  {
   "cell_type": "markdown",
   "metadata": {},
   "source": [
    "**Replace in Models**"
   ]
  },
  {
   "cell_type": "code",
   "execution_count": null,
   "metadata": {},
   "outputs": [],
   "source": [
    "replace_col('audi', clean_model_price, price)\n",
    "replace_col('audi', clean_model_data, data)"
   ]
  },
  {
   "cell_type": "code",
   "execution_count": null,
   "metadata": {},
   "outputs": [],
   "source": [
    "replace_col('ford', clean_model_price, price)\n",
    "replace_col('ford', clean_model_data, data)"
   ]
  },
  {
   "cell_type": "code",
   "execution_count": null,
   "metadata": {},
   "outputs": [],
   "source": [
    "replace_col('citroen', clean_model_price, price)\n",
    "replace_col('citroen', clean_model_data, data)"
   ]
  },
  {
   "cell_type": "markdown",
   "metadata": {},
   "source": [
    "**Fix small error**"
   ]
  },
  {
   "cell_type": "code",
   "execution_count": null,
   "metadata": {},
   "outputs": [],
   "source": [
    "data.loc[17541, 'Model_year'] = 2019 # year 5019"
   ]
  },
  {
   "cell_type": "markdown",
   "metadata": {},
   "source": [
    "**Merge**"
   ]
  },
  {
   "cell_type": "code",
   "execution_count": null,
   "metadata": {},
   "outputs": [],
   "source": [
    "#### merged = data.merge(price, how='outer', on=['Make', 'Model', 'Fuel', 'Gearbox', 'spuissance_fiscale', 'Model_year', 'portes'], indicator=True)"
   ]
  },
  {
   "cell_type": "code",
   "execution_count": null,
   "metadata": {},
   "outputs": [],
   "source": [
    "outliers = list(data[(data['Model_year']<2000)].index)\n",
    "len(outliers), len(data)"
   ]
  },
  {
   "cell_type": "code",
   "execution_count": null,
   "metadata": {},
   "outputs": [],
   "source": [
    "data.drop(index=outliers, inplace=True)\n",
    "data.reset_index(drop=True, inplace=True)"
   ]
  },
  {
   "cell_type": "code",
   "execution_count": null,
   "metadata": {},
   "outputs": [],
   "source": [
    "def find_price_car(item, price):\n",
    "    \n",
    "if_puiss_fisc = price[\"spuissance_fiscale\"] == item['spuissance_fiscale']\n",
    "if_model_year = price['Model_year'] == item['Model_year']\n",
    "if_portes = price['portes'] == item['portes']\n",
    "if_gearbox = price['Gearbox'] == item['Gearbox']\n",
    "if_fuel = price['Fuel'] == item['Fuel']\n",
    "\n",
    "car_0 = price[(price['Make'] == item['Make']) & (price['Model'] == item['Model'])]\n",
    "\n",
    "if len(car_0.where(if_fuel | if_gearbox | if_puiss_fisc | if_model_year | if_portes, inplace=False).dropna()) > 0:\n",
    "    car_0 = car_0.where(if_puiss_fisc | if_model_year | if_portes, inplace=False).dropna()\n",
    "        \n",
    "    car_0.reset_index(drop=True, inplace=True)\n",
    "    \n",
    "    if len(car_0) == 0:\n",
    "        return None\n",
    "    \n",
    "    for index, row in car_0.iterrows():\n",
    "        car_0.loc[index, 'score'] = fuzz.token_set_ratio(row['version'], item['version'])\n",
    "    \n",
    "    return car_0.loc[car_0.score.argmax()]"
   ]
  },
  {
   "cell_type": "code",
   "execution_count": null,
   "metadata": {},
   "outputs": [],
   "source": [
    "for i in range(len(data)):\n",
    "    print(i, end='\\r')\n",
    "    item = data.iloc[i]\n",
    "    price_car = find_price_car(item, price)\n",
    "    if price_car is not None:\n",
    "        data.loc[i, 'starting_price'] = price_car['starting_price']\n",
    "        data.loc[i, 'bonus_malus'] = price_car['bonus/malus']\n",
    "        data.loc[i, 'puiss_scrap'] = price_car['spuissance_fiscale']\n",
    "        data.loc[i, 'portes_scrap'] = price_car['portes']"
   ]
  },
  {
   "cell_type": "markdown",
   "metadata": {},
   "source": [
    "**On elimine les voitures trop cher**"
   ]
  },
  {
   "cell_type": "code",
   "execution_count": null,
   "metadata": {},
   "outputs": [],
   "source": [
    "data[data.Price < 4*pow(10,4)].Price.plot.hist()"
   ]
  },
  {
   "cell_type": "code",
   "execution_count": null,
   "metadata": {},
   "outputs": [],
   "source": [
    "data = df[(data.Price < 3*pow(10,4)) & (data.Price > 5000)]"
   ]
  },
  {
   "cell_type": "markdown",
   "metadata": {},
   "source": [
    "**On elimine les voitures qui sont plus cher que le prix initial**"
   ]
  },
  {
   "cell_type": "code",
   "execution_count": null,
   "metadata": {},
   "outputs": [],
   "source": [
    "df['Price/Starting Price'] = list(map(lambda x, y: 1 if x > y else 0, df.Price, df.starting_price ))"
   ]
  },
  {
   "cell_type": "code",
   "execution_count": null,
   "metadata": {},
   "outputs": [],
   "source": [
    "df = df[df['Price/Starting Price'] == 0]"
   ]
  },
  {
   "cell_type": "markdown",
   "metadata": {},
   "source": [
    "**On elimine les voitures les voitures qui sont trop puissantes**"
   ]
  },
  {
   "cell_type": "code",
   "execution_count": null,
   "metadata": {},
   "outputs": [],
   "source": [
    "df = df[df.spuissance_fiscale < 30]"
   ]
  },
  {
   "cell_type": "markdown",
   "metadata": {},
   "source": [
    "**Conversion de colonnes string en numérique**"
   ]
  },
  {
   "cell_type": "code",
   "execution_count": null,
   "metadata": {},
   "outputs": [],
   "source": [
    "df.puiss_scrap = df.puiss_scrap.fillna(0)"
   ]
  },
  {
   "cell_type": "code",
   "execution_count": null,
   "metadata": {},
   "outputs": [],
   "source": [
    "df.puiss_scrap = df.puiss_scrap.astype(int)"
   ]
  },
  {
   "cell_type": "code",
   "execution_count": null,
   "metadata": {},
   "outputs": [],
   "source": [
    "df.portes_scrap = df.portes_scrap.astype(float)"
   ]
  },
  {
   "cell_type": "code",
   "execution_count": null,
   "metadata": {},
   "outputs": [],
   "source": [
    "df.to_csv('init_price_cleaned.csv', index=False)"
   ]
  }
 ],
 "metadata": {
  "kernelspec": {
   "display_name": "Python 3",
   "language": "python",
   "name": "python3"
  },
  "language_info": {
   "codemirror_mode": {
    "name": "ipython",
    "version": 3
   },
   "file_extension": ".py",
   "mimetype": "text/x-python",
   "name": "python",
   "nbconvert_exporter": "python",
   "pygments_lexer": "ipython3",
   "version": "3.8.2"
  }
 },
 "nbformat": 4,
 "nbformat_minor": 4
}
