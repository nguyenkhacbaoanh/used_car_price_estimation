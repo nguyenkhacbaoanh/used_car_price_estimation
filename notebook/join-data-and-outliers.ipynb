{
 "cells": [
  {
   "cell_type": "code",
   "execution_count": 1,
   "metadata": {},
   "outputs": [
    {
     "name": "stderr",
     "output_type": "stream",
     "text": [
      "c:\\users\\saidi\\.virtualenvs\\used_car_price_estimation-_iy7ttag\\lib\\site-packages\\fuzzywuzzy\\fuzz.py:11: UserWarning: Using slow pure-python SequenceMatcher. Install python-Levenshtein to remove this warning\n",
      "  warnings.warn('Using slow pure-python SequenceMatcher. Install python-Levenshtein to remove this warning')\n"
     ]
    }
   ],
   "source": [
    "import pandas as pd\n",
    "import re\n",
    "from fuzzywuzzy import fuzz\n",
    "import unidecode"
   ]
  },
  {
   "cell_type": "code",
   "execution_count": 47,
   "metadata": {},
   "outputs": [],
   "source": [
    "data = pd.read_csv('../data/Data_cars.csv')"
   ]
  },
  {
   "cell_type": "code",
   "execution_count": 48,
   "metadata": {},
   "outputs": [
    {
     "data": {
      "text/plain": [
       "(166695, 9)"
      ]
     },
     "execution_count": 48,
     "metadata": {},
     "output_type": "execute_result"
    }
   ],
   "source": [
    "data.shape"
   ]
  },
  {
   "cell_type": "code",
   "execution_count": 3,
   "metadata": {},
   "outputs": [],
   "source": [
    "price = pd.read_csv('../data/cars_price.csv', encoding='iso-8859-1')"
   ]
  },
  {
   "cell_type": "markdown",
   "metadata": {},
   "source": [
    "**Remove empty rows**"
   ]
  },
  {
   "cell_type": "code",
   "execution_count": 4,
   "metadata": {},
   "outputs": [],
   "source": [
    "price.dropna(subset=['name'], inplace=True)"
   ]
  },
  {
   "cell_type": "markdown",
   "metadata": {},
   "source": [
    "**Split description col**"
   ]
  },
  {
   "cell_type": "code",
   "execution_count": 5,
   "metadata": {},
   "outputs": [],
   "source": [
    "def descriptions_clean(df):\n",
    "    regex_pattern = r\"modele:\\s*(?P<modele>.*?(?=,)),\\sversion:\\s*(?P<version>.*?(?=,)),\\spuissance_fiscale:\\s*(?P<puissance_fiscale>.*?(?=,)),\\sportes:\\s*(?P<portes>.*?(?=,)),\\soptions:\\s*(?P<Descriptions>.*?(?=,)),\\scouleur:\\s(?P<couleur>.*$)\"\n",
    "    version = []\n",
    "    spuissance_fiscale = []\n",
    "    portes = []\n",
    "    options = []\n",
    "    couleur = []\n",
    "    for i in range(df.shape[0]):\n",
    "        match = re.search(regex_pattern, df.Description[i])\n",
    "        version.append(match.group(2))\n",
    "        spuissance_fiscale.append(match.group(3))\n",
    "        portes.append(match.group(4))\n",
    "        options.append(match.group(5))\n",
    "        couleur.append(match.group(6))\n",
    "    df[\"version\"] = list(map(str.lower, version))\n",
    "    df[\"spuissance_fiscale\"] = spuissance_fiscale\n",
    "    df[\"portes\"] = portes\n",
    "    df[\"options\"] = options\n",
    "    df[\"couleur\"] = list(map(str.lower, couleur))\n",
    "    del df[\"Description\"]\n",
    "    return df"
   ]
  },
  {
   "cell_type": "code",
   "execution_count": 6,
   "metadata": {},
   "outputs": [],
   "source": [
    "descriptions_clean(data);"
   ]
  },
  {
   "cell_type": "markdown",
   "metadata": {},
   "source": [
    "**Rename column**"
   ]
  },
  {
   "cell_type": "code",
   "execution_count": 7,
   "metadata": {},
   "outputs": [],
   "source": [
    "price.rename(columns={'energy':'Fuel'}, inplace=True)\n",
    "price.rename(columns={'transmission':'Gearbox'}, inplace=True)\n",
    "price.rename(columns={'tax_horsepower':'spuissance_fiscale'}, inplace=True)\n",
    "price.rename(columns={'date_entry':'Model_year'}, inplace=True)\n",
    "price.rename(columns={'date_entry':'Model_year'}, inplace=True)"
   ]
  },
  {
   "cell_type": "markdown",
   "metadata": {},
   "source": [
    "**Fix Fuel col**"
   ]
  },
  {
   "cell_type": "code",
   "execution_count": 8,
   "metadata": {},
   "outputs": [],
   "source": [
    "price.Fuel = price.Fuel.apply(lambda x: x.replace('GPL', 'Bicarburation essence GPL')\\\n",
    "                             .replace('GNV', 'Bicarburation essence GNV')\\\n",
    "                             .replace('Électrique', 'Electrique')\\\n",
    "                             .replace('Hybride', 'Hybride diesel électrique') if type(x) == str else None)"
   ]
  },
  {
   "cell_type": "markdown",
   "metadata": {},
   "source": [
    "**Fix spuissance_fiscale col**"
   ]
  },
  {
   "cell_type": "code",
   "execution_count": 9,
   "metadata": {},
   "outputs": [],
   "source": [
    "price.spuissance_fiscale = price.spuissance_fiscale.apply(lambda x: x.replace('CV', '') if type(x) == str else '0')"
   ]
  },
  {
   "cell_type": "markdown",
   "metadata": {},
   "source": [
    "**Fix Model_year col**"
   ]
  },
  {
   "cell_type": "code",
   "execution_count": 10,
   "metadata": {},
   "outputs": [],
   "source": [
    "price.Model_year = price.Model_year.apply(lambda x: int(x.split('/')[-1]))"
   ]
  },
  {
   "cell_type": "markdown",
   "metadata": {},
   "source": [
    "**Fix Gearbox col**"
   ]
  },
  {
   "cell_type": "code",
   "execution_count": 11,
   "metadata": {},
   "outputs": [],
   "source": [
    "price.Gearbox = price.Gearbox.apply(lambda x: x.replace('Automatique', 'automatique').replace('Manuelle', 'mécanique'))"
   ]
  },
  {
   "cell_type": "markdown",
   "metadata": {},
   "source": [
    "**Fix portes col** *i apply on data*"
   ]
  },
  {
   "cell_type": "code",
   "execution_count": 12,
   "metadata": {},
   "outputs": [],
   "source": [
    "data.portes = data.portes.apply(lambda x: x.replace('.0', ''))"
   ]
  },
  {
   "cell_type": "markdown",
   "metadata": {},
   "source": [
    "**Fix price bonus/malus**"
   ]
  },
  {
   "cell_type": "code",
   "execution_count": 13,
   "metadata": {},
   "outputs": [],
   "source": [
    "price.starting_price = price.starting_price.apply(lambda x: re.search('\\d+', x).group(0))"
   ]
  },
  {
   "cell_type": "code",
   "execution_count": 14,
   "metadata": {},
   "outputs": [],
   "source": [
    "price['bonus/malus'].fillna('0', inplace=True)\n",
    "price['bonus/malus'].replace(['n.a.', '\\x80', ''], '0', inplace=True)\n",
    "price['bonus/malus'] = price['bonus/malus'].apply(lambda x: re.search('-?\\d+', x).group(0))"
   ]
  },
  {
   "cell_type": "markdown",
   "metadata": {},
   "source": [
    "**Make and Model unaccented**"
   ]
  },
  {
   "cell_type": "code",
   "execution_count": 15,
   "metadata": {},
   "outputs": [],
   "source": [
    "price['name'] = price['name'].apply(lambda x: unidecode.unidecode(x))"
   ]
  },
  {
   "cell_type": "markdown",
   "metadata": {},
   "source": [
    "**Convert to lower case make the join easier**"
   ]
  },
  {
   "cell_type": "code",
   "execution_count": 16,
   "metadata": {},
   "outputs": [],
   "source": [
    "price.name = price.name.str.lower()\n",
    "data.Make = data.Make.str.lower()\n",
    "data.Model = data.Model.str.lower()"
   ]
  },
  {
   "cell_type": "markdown",
   "metadata": {},
   "source": [
    "**Split col name in two columns Make and Model**"
   ]
  },
  {
   "cell_type": "code",
   "execution_count": 17,
   "metadata": {},
   "outputs": [],
   "source": [
    "brands = list(data.Make.unique())"
   ]
  },
  {
   "cell_type": "code",
   "execution_count": 18,
   "metadata": {},
   "outputs": [],
   "source": [
    "def get_brand_name(x):\n",
    "    if ' '.join(x.split()[0:2]) in brands:\n",
    "        return ' '.join(x.split()[0:2])\n",
    "    return x.split()[0]"
   ]
  },
  {
   "cell_type": "code",
   "execution_count": 19,
   "metadata": {},
   "outputs": [],
   "source": [
    "def get_model_name(x):\n",
    "    if ' '.join(x.split()[0:2]) in brands:\n",
    "        return ' '.join(x.split()[2:])\n",
    "    return ' '.join(x.split()[1:])"
   ]
  },
  {
   "cell_type": "code",
   "execution_count": 20,
   "metadata": {},
   "outputs": [],
   "source": [
    "price['Make'] = price.name.apply(lambda x: get_brand_name(x) )\n",
    "price['Model'] = price.name.apply(lambda x: get_model_name(x) )"
   ]
  },
  {
   "cell_type": "markdown",
   "metadata": {},
   "source": [
    "**Create portes col**"
   ]
  },
  {
   "cell_type": "code",
   "execution_count": 21,
   "metadata": {},
   "outputs": [],
   "source": [
    "price['portes'] = price.version.apply(lambda x: x.split('(')[-1].replace(')', '').replace('p.', ''))"
   ]
  },
  {
   "cell_type": "markdown",
   "metadata": {},
   "source": [
    "**Model errors**"
   ]
  },
  {
   "cell_type": "code",
   "execution_count": 22,
   "metadata": {},
   "outputs": [],
   "source": [
    "def price_clean_audi(x):\n",
    "    if x.split()[0] == 'tts':\n",
    "        return 'tt'\n",
    "    return x.split()[0]"
   ]
  },
  {
   "cell_type": "code",
   "execution_count": 23,
   "metadata": {},
   "outputs": [],
   "source": [
    "def data_clean_audi(x):\n",
    "    if x == 'a6 allroad':\n",
    "        return 'a6'\n",
    "    elif x == 'a4 allroad':\n",
    "        return 'a4'\n",
    "    elif x == 'tt rs':\n",
    "        return 'tt'\n",
    "    elif x == 'allroad':\n",
    "        return 'a6'\n",
    "    else:\n",
    "        return x"
   ]
  },
  {
   "cell_type": "code",
   "execution_count": 24,
   "metadata": {},
   "outputs": [],
   "source": [
    "def price_clean_ford(x):\n",
    "    if x.split()[0] == 'grand':\n",
    "        return ' '.join(x.split()[0:2])\n",
    "    return x.split()[0]"
   ]
  },
  {
   "cell_type": "code",
   "execution_count": 25,
   "metadata": {},
   "outputs": [],
   "source": [
    "def data_clean_ford(x):\n",
    "    if x == 'ka+':\n",
    "        return 'ka'\n",
    "    elif x.split()[0] == 'grand':\n",
    "        return ' '.join(x.split()[0:2])\n",
    "    return x.split()[0]"
   ]
  },
  {
   "cell_type": "code",
   "execution_count": 26,
   "metadata": {},
   "outputs": [],
   "source": [
    "def price_clean_citroen(x):\n",
    "    if x.split()[0] == 'grand':\n",
    "        return ' '.join(x.split()[0:2])\n",
    "    return x.split()[0]"
   ]
  },
  {
   "cell_type": "code",
   "execution_count": 27,
   "metadata": {},
   "outputs": [],
   "source": [
    "def data_clean_citroen(x):\n",
    "    if x == 'ds 4':\n",
    "        return 'ds4'\n",
    "    elif x.split()[0] == 'grand':\n",
    "        return ' '.join(x.split()[0:2])\n",
    "    return x.split()[0]"
   ]
  },
  {
   "cell_type": "markdown",
   "metadata": {},
   "source": [
    "**Primary Funcs**"
   ]
  },
  {
   "cell_type": "code",
   "execution_count": 28,
   "metadata": {},
   "outputs": [],
   "source": [
    "def clean_model_price(x, clean_type):\n",
    "    if clean_type == 'audi':\n",
    "        return price_clean_audi(x)\n",
    "    elif clean_type == 'ford':\n",
    "        return price_clean_ford(x)\n",
    "    elif clean_type == 'citroen':\n",
    "        return price_clean_citroen(x)"
   ]
  },
  {
   "cell_type": "code",
   "execution_count": 29,
   "metadata": {},
   "outputs": [],
   "source": [
    "def clean_model_data(x, clean_type):\n",
    "    if clean_type == 'audi':\n",
    "        return data_clean_audi(x)\n",
    "    elif clean_type == 'ford':\n",
    "        return data_clean_ford(x)\n",
    "    elif clean_type == 'citroen':\n",
    "        return data_clean_citroen(x)"
   ]
  },
  {
   "cell_type": "code",
   "execution_count": 30,
   "metadata": {},
   "outputs": [],
   "source": [
    "def replace_col(model, fun_clean, df):\n",
    "    tmp = df[df.Make == model].Model.apply(lambda x: fun_clean(x, model))\n",
    "    keys = list(tmp.keys())\n",
    "    vals = list(tmp.values)\n",
    "    df.loc[keys, 'Model'] = vals"
   ]
  },
  {
   "cell_type": "markdown",
   "metadata": {},
   "source": [
    "**Replace in Models**"
   ]
  },
  {
   "cell_type": "code",
   "execution_count": 31,
   "metadata": {},
   "outputs": [],
   "source": [
    "replace_col('audi', clean_model_price, price)\n",
    "replace_col('audi', clean_model_data, data)"
   ]
  },
  {
   "cell_type": "code",
   "execution_count": 32,
   "metadata": {},
   "outputs": [],
   "source": [
    "replace_col('ford', clean_model_price, price)\n",
    "replace_col('ford', clean_model_data, data)"
   ]
  },
  {
   "cell_type": "code",
   "execution_count": 33,
   "metadata": {},
   "outputs": [],
   "source": [
    "replace_col('citroen', clean_model_price, price)\n",
    "replace_col('citroen', clean_model_data, data)"
   ]
  },
  {
   "cell_type": "markdown",
   "metadata": {},
   "source": [
    "**Fix small error**"
   ]
  },
  {
   "cell_type": "code",
   "execution_count": 34,
   "metadata": {},
   "outputs": [],
   "source": [
    "data.loc[17541, 'Model_year'] = 2019 # year 5019"
   ]
  },
  {
   "cell_type": "markdown",
   "metadata": {},
   "source": [
    "**Merge**"
   ]
  },
  {
   "cell_type": "code",
   "execution_count": 35,
   "metadata": {},
   "outputs": [],
   "source": [
    "#### merged = data.merge(price, how='outer', on=['Make', 'Model', 'Fuel', 'Gearbox', 'spuissance_fiscale', 'Model_year', 'portes'], indicator=True)"
   ]
  },
  {
   "cell_type": "code",
   "execution_count": 36,
   "metadata": {},
   "outputs": [
    {
     "data": {
      "text/plain": [
       "(732, 166695)"
      ]
     },
     "execution_count": 36,
     "metadata": {},
     "output_type": "execute_result"
    }
   ],
   "source": [
    "outliers = list(data[(data['Model_year']<2000)].index)\n",
    "len(outliers), len(data)"
   ]
  },
  {
   "cell_type": "code",
   "execution_count": 37,
   "metadata": {},
   "outputs": [],
   "source": [
    "data.drop(index=outliers, inplace=True)\n",
    "data.reset_index(drop=True, inplace=True)"
   ]
  },
  {
   "cell_type": "code",
   "execution_count": 38,
   "metadata": {},
   "outputs": [],
   "source": [
    "def find_price_car(item, price):\n",
    "    \n",
    "    if_puiss_fisc = price[\"spuissance_fiscale\"] == item['spuissance_fiscale']\n",
    "    if_model_year = price['Model_year'] == item['Model_year']\n",
    "    if_portes = price['portes'] == item['portes']\n",
    "    if_gearbox = price['Gearbox'] == item['Gearbox']\n",
    "    if_fuel = price['Fuel'] == item['Fuel']\n",
    "    \n",
    "    car_0 = price[(price['Make'] == item['Make']) & (price['Model'] == item['Model'])]\n",
    "    \n",
    "    if len(car_0.where(if_fuel | if_gearbox | if_puiss_fisc | if_model_year | if_portes, inplace=False).dropna()) > 0:\n",
    "        car_0 = car_0.where(if_puiss_fisc | if_model_year | if_portes, inplace=False).dropna()\n",
    "        \n",
    "    car_0.reset_index(drop=True, inplace=True)\n",
    "    \n",
    "    if len(car_0) == 0:\n",
    "        return None\n",
    "    \n",
    "    for index, row in car_0.iterrows():\n",
    "        car_0.loc[index, 'score'] = fuzz.token_set_ratio(row['version'], item['version'])\n",
    "    \n",
    "    return car_0.loc[car_0.score.argmax()]"
   ]
  },
  {
   "cell_type": "code",
   "execution_count": 39,
   "metadata": {},
   "outputs": [
    {
     "name": "stdout",
     "output_type": "stream",
     "text": [
      "390\r"
     ]
    },
    {
     "name": "stderr",
     "output_type": "stream",
     "text": [
      "c:\\users\\saidi\\.virtualenvs\\used_car_price_estimation-_iy7ttag\\lib\\site-packages\\pandas\\core\\indexing.py:845: SettingWithCopyWarning: \n",
      "A value is trying to be set on a copy of a slice from a DataFrame.\n",
      "Try using .loc[row_indexer,col_indexer] = value instead\n",
      "\n",
      "See the caveats in the documentation: https://pandas.pydata.org/pandas-docs/stable/user_guide/indexing.html#returning-a-view-versus-a-copy\n",
      "  self.obj[key] = _infer_fill_value(value)\n",
      "c:\\users\\saidi\\.virtualenvs\\used_car_price_estimation-_iy7ttag\\lib\\site-packages\\pandas\\core\\indexing.py:966: SettingWithCopyWarning: \n",
      "A value is trying to be set on a copy of a slice from a DataFrame.\n",
      "Try using .loc[row_indexer,col_indexer] = value instead\n",
      "\n",
      "See the caveats in the documentation: https://pandas.pydata.org/pandas-docs/stable/user_guide/indexing.html#returning-a-view-versus-a-copy\n",
      "  self.obj[item] = s\n"
     ]
    },
    {
     "name": "stdout",
     "output_type": "stream",
     "text": [
      "165962\r"
     ]
    }
   ],
   "source": [
    "for i in range(len(data)):\n",
    "    print(i, end='\\r')\n",
    "    item = data.iloc[i]\n",
    "    price_car = find_price_car(item, price)\n",
    "    if price_car is not None:\n",
    "        data.loc[i, 'starting_price'] = price_car['starting_price']\n",
    "        data.loc[i, 'bonus_malus'] = price_car['bonus/malus']\n",
    "        data.loc[i, 'puiss_scrap'] = price_car['spuissance_fiscale']\n",
    "        data.loc[i, 'portes_scrap'] = price_car['portes']"
   ]
  },
  {
   "cell_type": "code",
   "execution_count": 40,
   "metadata": {},
   "outputs": [],
   "source": [
    "data.to_csv('init_price.csv', index=False)"
   ]
  },
  {
   "cell_type": "code",
   "execution_count": 46,
   "metadata": {},
   "outputs": [
    {
     "data": {
      "text/plain": [
       "captur         2018\n",
       "serie 2        1242\n",
       "scenic          991\n",
       "espace          870\n",
       "207             857\n",
       "               ... \n",
       "3200 gt           1\n",
       "yaris verso       1\n",
       "evasion           1\n",
       "eke               1\n",
       "virage            1\n",
       "Name: Model, Length: 633, dtype: int64"
      ]
     },
     "execution_count": 46,
     "metadata": {},
     "output_type": "execute_result"
    }
   ],
   "source": [
    "data[data.starting_price.isnull()].Model.value_counts()"
   ]
  },
  {
   "cell_type": "code",
   "execution_count": 41,
   "metadata": {},
   "outputs": [],
   "source": [
    "# sum(data.starting_price.isnull())"
   ]
  }
 ],
 "metadata": {
  "kernelspec": {
   "display_name": "Python 3",
   "language": "python",
   "name": "python3"
  },
  "language_info": {
   "codemirror_mode": {
    "name": "ipython",
    "version": 3
   },
   "file_extension": ".py",
   "mimetype": "text/x-python",
   "name": "python",
   "nbconvert_exporter": "python",
   "pygments_lexer": "ipython3",
   "version": "3.8.2"
  }
 },
 "nbformat": 4,
 "nbformat_minor": 4
}
