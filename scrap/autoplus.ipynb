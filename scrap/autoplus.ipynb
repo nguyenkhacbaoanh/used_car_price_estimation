{
 "cells": [
  {
   "cell_type": "code",
   "execution_count": null,
   "metadata": {},
   "outputs": [],
   "source": [
    "import requests as rq\n",
    "from bs4 import BeautifulSoup as bs\n",
    "import csv"
   ]
  },
  {
   "cell_type": "code",
   "execution_count": null,
   "metadata": {},
   "outputs": [],
   "source": [
    "def read_page():\n",
    "    i = 1\n",
    "    while True:\n",
    "        r = rq.get('https://www.autoplus.fr/prix-neuf/?page='+str(i)+'#advanced-filters')\n",
    "        soup = bs(r.content, 'html.parser')\n",
    "        trs = soup.table.tbody.find_all('tr')\n",
    "        for tr in trs:\n",
    "            values = [x.get_text(strip=True).replace('\\xa0', '') for x in tr.find_all('td')]\n",
    "            row = dict(zip(KEYS, values))\n",
    "            yield row\n",
    "        i = i + 1\n",
    "        print(i, end='\\r')\n",
    "        if soup.find(class_='main-pagination').find('li', class_='arrow right disabled') is not None:\n",
    "            break"
   ]
  },
  {
   "cell_type": "code",
   "execution_count": null,
   "metadata": {},
   "outputs": [],
   "source": [
    "KEYS = ['name', 'version', 'energy', 'transmission', 'tax_horsepower', 'date_entry', 'bonus/malus', 'starting_price']\n",
    "with open('cars_price.csv', 'w', newline='') as csvfile:\n",
    "    writer = csv.DictWriter(csvfile, fieldnames=KEYS)\n",
    "    writer.writeheader()"
   ]
  },
  {
   "cell_type": "code",
   "execution_count": null,
   "metadata": {},
   "outputs": [],
   "source": [
    "scraper = read_page()"
   ]
  },
  {
   "cell_type": "code",
   "execution_count": null,
   "metadata": {},
   "outputs": [],
   "source": [
    "for row in scraper:\n",
    "    with open('cars_price.csv', 'a', newline='') as csvfile:\n",
    "        writer = csv.DictWriter(csvfile, fieldnames=KEYS)\n",
    "        writer.writerow(row)"
   ]
  }
 ],
 "metadata": {
  "kernelspec": {
   "display_name": "Python 3",
   "language": "python",
   "name": "python3"
  },
  "language_info": {
   "codemirror_mode": {
    "name": "ipython",
    "version": 3
   },
   "file_extension": ".py",
   "mimetype": "text/x-python",
   "name": "python",
   "nbconvert_exporter": "python",
   "pygments_lexer": "ipython3",
   "version": "3.8.2"
  }
 },
 "nbformat": 4,
 "nbformat_minor": 4
}
